{
 "cells": [
  {
   "cell_type": "code",
   "execution_count": 1,
   "id": "3b6524c2-5754-4a45-a303-505426e03d50",
   "metadata": {},
   "outputs": [],
   "source": [
    "import os\n",
    "from dotenv import load_dotenv, find_dotenv\n",
    "_ = load_dotenv(find_dotenv())\n",
    "openai_api_key = os.environ[\"OPENAI_API_KEY\"]"
   ]
  },
  {
   "cell_type": "markdown",
   "id": "8111186a-4244-4c68-9389-24ffd8c523e9",
   "metadata": {},
   "source": [
    "## Previous name: GPT Index"
   ]
  },
  {
   "cell_type": "markdown",
   "id": "35e5f3ba-5209-4706-8040-511a9b959b4f",
   "metadata": {},
   "source": [
    "## Home Page: Pitch\n",
    "* Unleash the power of LLMs over your data\n",
    "    * Data Ingestion\n",
    "        * Unstructured data: PDF, Text, Video, Images, etc.\n",
    "        * Strucured data: Excel, SQL, etc.\n",
    "        * Semi-strucured data: API's Slack, Salesforce, Notion, etc. \n",
    "    * Data Indexing\n",
    "        * Store (save)\n",
    "        * Index (find)\n",
    "        * Integrate with vector stores and databases \n",
    "    * Query Interface\n",
    "        * Accepts any input prompt over your data\n",
    "        * Returns a knowledge-augmented response"
   ]
  },
  {
   "cell_type": "markdown",
   "id": "1b2c4da6-602c-4cec-8e19-3d0c4d2aa8ac",
   "metadata": {},
   "source": [
    "## Home Page: Use Cases\n",
    "* Document QA\n",
    "* Data Augmented Chatbots\n",
    "* Knowledge Agents\n",
    "* Structured Analytics"
   ]
  },
  {
   "cell_type": "markdown",
   "id": "9bbecb3a-dd36-49de-ac3a-f554073267b8",
   "metadata": {},
   "source": [
    "## Home Page: Products\n",
    "* LlamaIndex (Python)\n",
    "* LlamaIndex.TS (Typescript version)\n",
    "* LlamaHub\n",
    "    * Llama Packs\n",
    "    * Data Loaders\n",
    "    * Agent tools \n",
    "* SEC Insights: end to end app\n",
    "* create-llama: CLI tool to install llamaindex from terminal"
   ]
  },
  {
   "cell_type": "markdown",
   "id": "4b808ecc-23e7-4e21-9343-2235ce983e93",
   "metadata": {},
   "source": [
    "## Last features\n",
    "* [RAGs](https://github.com/run-llama/rags):\n",
    "    * Build, customize, and use multiple ChatGPTs over your data, all with natural language.\n",
    "    * RAGs is a Streamlit app that lets you create a RAG pipeline from a data source using natural language.\n",
    "* [LLama Packs](https://llamahub.ai/). Interesting llama packs:\n",
    "    * Resume screener\n",
    "    * Gmail OpenAI agent\n",
    "    * Deeplake multimodal retrieval\n",
    "    * Sub_question Webiate"
   ]
  },
  {
   "cell_type": "markdown",
   "id": "ad9cfbc1-e3b0-4700-9fc2-354431e2ae6c",
   "metadata": {},
   "source": [
    "## Documentation: structure\n",
    "* Getting started\n",
    "* Use cases\n",
    "* Understanding LLamaIndex\n",
    "    * Tutorial series \n",
    "* Optimizing\n",
    "    * When you already have LlamaIndex app working and are looking to further refine it.\n",
    "    * List of first things you should try: embedding model, chunk size, customizations, etc.\n",
    "    * Fine tuning your model.\n",
    "* Module guides\n",
    "    * Guides to the individual components of LlamaIndex"
   ]
  },
  {
   "cell_type": "markdown",
   "id": "3fbca7f5-4787-4e01-8604-17d25aae919c",
   "metadata": {},
   "source": [
    "## Documentation: Starter Tutorial"
   ]
  },
  {
   "cell_type": "code",
   "execution_count": 2,
   "id": "4f79d62f-b4da-4f8c-9f32-8ff7bdd5f6a9",
   "metadata": {},
   "outputs": [],
   "source": [
    "#pip install llama-index"
   ]
  },
  {
   "cell_type": "markdown",
   "id": "298937ea-5594-4834-8df9-9bb41e37ceec",
   "metadata": {},
   "source": [
    "#### Load Private Document"
   ]
  },
  {
   "cell_type": "code",
   "execution_count": 2,
   "id": "aef6580d-698c-4fdc-bb3d-f3db18f3c85b",
   "metadata": {},
   "outputs": [],
   "source": [
    "from llama_index import SimpleDirectoryReader\n",
    "\n",
    "documents = SimpleDirectoryReader(\"data\").load_data()"
   ]
  },
  {
   "cell_type": "code",
   "execution_count": 3,
   "id": "93da1620",
   "metadata": {},
   "outputs": [
    {
     "data": {
      "text/plain": [
       "[Document(id_='c27681cc-4d49-4dac-bdc4-a1d71e6b5a22', embedding=None, metadata={'file_path': 'data\\\\be-good.txt', 'file_name': 'be-good.txt', 'file_type': 'text/plain', 'file_size': 16710, 'creation_date': '2025-01-07', 'last_modified_date': '2025-01-07', 'last_accessed_date': '2025-01-07'}, excluded_embed_metadata_keys=['file_name', 'file_type', 'file_size', 'creation_date', 'last_modified_date', 'last_accessed_date'], excluded_llm_metadata_keys=['file_name', 'file_type', 'file_size', 'creation_date', 'last_modified_date', 'last_accessed_date'], relationships={}, text='Be good\\n\\nApril 2008(This essay is derived from a talk at the 2008 Startup School.)About a month after we started Y Combinator we came up with the\\nphrase that became our motto: Make something people want.  We\\'ve\\nlearned a lot since then, but if I were choosing now that\\'s still\\nthe one I\\'d pick.Another thing we tell founders is not to worry too much about the\\nbusiness model, at least at first.  Not because making money is\\nunimportant, but because it\\'s so much easier than building something\\ngreat.A couple weeks ago I realized that if you put those two ideas\\ntogether, you get something surprising.  Make something people want.\\nDon\\'t worry too much about making money.  What you\\'ve got is a\\ndescription of a charity.When you get an unexpected result like this, it could either be a\\nbug or a new discovery.  Either businesses aren\\'t supposed to be\\nlike charities, and we\\'ve proven by reductio ad absurdum that one\\nor both of the principles we began with is false.  Or we have a new\\nidea.I suspect it\\'s the latter, because as soon as this thought occurred\\nto me, a whole bunch of other things fell into place.ExamplesFor example, Craigslist.  It\\'s not a charity, but they run it like\\none.  And they\\'re astoundingly successful.  When you scan down the\\nlist of most popular web sites, the number of employees at Craigslist\\nlooks like a misprint. Their revenues aren\\'t as high as they could\\nbe, but most startups would be happy to trade places with them.In Patrick O\\'Brian\\'s novels, his captains always try to get upwind\\nof their opponents.  If you\\'re upwind, you decide when and if to\\nengage the other ship.  Craigslist is effectively upwind of enormous\\nrevenues.  They\\'d face some challenges if they wanted to make more,\\nbut not the sort you face when you\\'re tacking upwind, trying to\\nforce a crappy product on ambivalent users by spending ten times\\nas much on sales as on development.  [1]I\\'m not saying startups should aim to end up like Craigslist.\\nThey\\'re a product of unusual circumstances.  But they\\'re a good\\nmodel for the early phases.Google looked a lot like a charity in the beginning. They didn\\'t\\nhave ads for over a year.  At year 1, Google was indistinguishable\\nfrom a nonprofit.  If a nonprofit or government organization had\\nstarted a project to index the web, Google at year 1 is the limit\\nof what they\\'d have produced.Back when I was working on spam filters I thought it would be a\\ngood idea to have a web-based email service with good spam filtering.\\nI wasn\\'t thinking of it as a company.  I just wanted to keep people\\nfrom getting spammed.  But as I thought more about this project, I\\nrealized it would probably have to be a company.  It would cost\\nsomething to run, and it would be a pain to fund with grants and\\ndonations.That was a surprising realization.  Companies often claim to be\\nbenevolent, but it was surprising to realize there were purely\\nbenevolent projects that had to be embodied as companies to work.I didn\\'t want to start another company, so I didn\\'t do it.  But if\\nsomeone had, they\\'d probably be quite rich now.  There was a window\\nof about two years when spam was increasing rapidly but all the big\\nemail services had terrible filters.  If someone had launched a\\nnew, spam-free mail service, users would have flocked to it.Notice the pattern here?  From either direction we get to the same\\nspot.  If you start from successful startups, you find they often\\nbehaved like nonprofits.  And if you start from ideas for nonprofits,\\nyou find they\\'d often make good startups.PowerHow wide is this territory?  Would all good nonprofits be good\\ncompanies?  Possibly not.  What makes Google so valuable is that\\ntheir users have money.  If you make people with money love you,\\nyou can probably get some of it.  But could you also base a successful\\nstartup on behaving like a nonprofit to people who don\\'t have money?\\nCould you, for example, grow a successful startup out of curing an\\nunfashionable but deadly disease like malaria?I\\'m not sure, but I suspect that if you pushed this idea, you\\'d be\\nsurprised how far it would go.  For example, people who apply to Y\\nCombinator don\\'t generally have much money, and yet we can profit\\nby helping them, because with our help they could make money.  Maybe\\nthe situation is similar with malaria.  Maybe an organization that\\nhelped lift its weight off a country could benefit from the resulting\\ngrowth.I\\'m not proposing this is a serious idea.  I don\\'t know anything\\nabout malaria.  But I\\'ve been kicking ideas around long enough to\\nknow when I come across a powerful one.One way to guess how far an idea extends is to ask yourself at what\\npoint you\\'d bet against it.  The thought of betting against benevolence\\nis alarming in the same way as saying that something is technically\\nimpossible.  You\\'re just asking to be made a fool of, because these\\nare such powerful forces.  [2]For example, initially I thought maybe this principle only applied\\nto Internet startups.  Obviously it worked for Google, but what\\nabout Microsoft?  Surely Microsoft isn\\'t benevolent?  But when I\\nthink back to the beginning, they were.  Compared to IBM they were\\nlike Robin Hood.  When IBM introduced the PC, they thought they\\nwere going to make money selling hardware at high prices.  But by\\ngaining control of the PC standard, Microsoft opened up the market\\nto any manufacturer.  Hardware prices plummeted, and lots of people\\ngot to have computers who couldn\\'t otherwise have afforded them.\\nIt\\'s the sort of thing you\\'d expect Google to do.Microsoft isn\\'t so benevolent now.  Now when one thinks of what\\nMicrosoft does to users, all the verbs that come to mind begin with\\nF.  [3] And yet it doesn\\'t seem to pay.\\nTheir stock price has been flat for years.  Back when they were\\nRobin Hood, their stock price rose like Google\\'s.  Could there be\\na connection?You can see how there would be.  When you\\'re small, you can\\'t bully\\ncustomers, so you have to charm them.  Whereas when you\\'re big you\\ncan maltreat them at will, and you tend to, because it\\'s easier\\nthan satisfying them.  You grow big by being nice, but you can stay\\nbig by being mean.You get away with it till the underlying conditions change, and\\nthen all your victims escape.  So \"Don\\'t be evil\" may be the most\\nvaluable thing Paul Buchheit made for Google, because it may turn\\nout to be an elixir of corporate youth.  I\\'m sure they find it\\nconstraining, but think how valuable it will be if it saves them\\nfrom lapsing into the fatal laziness that afflicted Microsoft and\\nIBM.The curious thing is, this elixir is freely available to any other\\ncompany.  Anyone can adopt \"Don\\'t be evil.\"  The catch is that\\npeople will hold you to it.  So I don\\'t think you\\'re going to see\\nrecord labels or tobacco companies using this discovery.MoraleThere\\'s a lot of external evidence that benevolence works.  But how\\ndoes it work?  One advantage of investing in a large number of\\nstartups is that you get a lot of data about how they work.  From\\nwhat we\\'ve seen, being good seems to help startups in three ways:\\nit improves their morale, it makes other people want to help them,\\nand above all, it helps them be decisive.Morale is tremendously important to a startup—so important\\nthat morale alone is almost enough to determine success.  Startups\\nare often described as emotional roller-coasters. One minute you\\'re\\ngoing to take over the world, and the next you\\'re doomed.  The\\nproblem with feeling you\\'re doomed is not just that it makes you\\nunhappy, but that it makes you stop working.  So the downhills\\nof the roller-coaster are more of a self fulfilling prophecy than\\nthe uphills.  If feeling you\\'re going to succeed makes you work\\nharder, that probably improves your chances of succeeding, but if\\nfeeling you\\'re going to fail makes you stop working, that practically\\nguarantees you\\'ll fail.Here\\'s where benevolence comes in.  If you feel you\\'re really helping\\npeople, you\\'ll keep working even when it seems like your startup\\nis doomed.  Most of us have some amount of natural benevolence.\\nThe mere fact that someone needs you makes you want to help them.\\nSo if you start the kind of startup where users come back each day,\\nyou\\'ve basically built yourself a giant tamagotchi.  You\\'ve made\\nsomething you need to take care of.Blogger is a famous example of a startup that went through really\\nlow lows and survived.  At one point they ran out of money and\\neveryone left. Evan Williams came in to work the next day, and there\\nwas no one but him.  What kept him going?  Partly that users needed\\nhim.  He was hosting thousands of people\\'s blogs. He couldn\\'t just\\nlet the site die.There are many advantages of launching quickly, but the most important\\nmay be that once you have users, the tamagotchi effect kicks in.\\nOnce you have users to take care of, you\\'re forced to figure out\\nwhat will make them happy, and that\\'s actually very valuable\\ninformation.The added confidence that comes from trying to help people can\\nalso help you with investors. One of the founders of \\nChatterous told \\nme recently that he and his cofounder had decided that this service\\nwas something the world needed, so they were going to keep working\\non it no matter what, even if they had to move back to Canada and live\\nin their parents\\' basements.Once they realized this, they stopped caring so much what investors thought\\nabout them.  They still met with them, but they weren\\'t going to\\ndie if they didn\\'t get their money.  And you know what?  The investors\\ngot a lot more interested.  They could sense that the Chatterouses\\nwere going to do this startup with or without them.If you\\'re really committed and your startup is cheap to run, you\\nbecome very hard to kill.  And practically all startups, even the\\nmost successful, come close to death at some point.  So if doing\\ngood for people gives you a sense of mission that makes you harder\\nto kill, that alone more than compensates for whatever you lose by\\nnot choosing a more selfish project.HelpAnother advantage of being good is that it makes other people want\\nto help you.  This too seems to be an inborn trait in humans.One of the startups we\\'ve funded, Octopart, is currently locked in\\na classic battle of good versus evil.  They\\'re a search site for\\nindustrial components.  A lot of people need to search for components,\\nand before Octopart there was no good way to do it.  That, it turned\\nout, was no coincidence.Octopart built the right way to search for components.  Users like\\nit and they\\'ve been growing rapidly.  And yet for most of Octopart\\'s\\nlife, the biggest distributor, Digi-Key, has been trying to force\\nthem take their prices off the site.  Octopart is sending them\\ncustomers for free, and yet Digi-Key is trying to make that traffic\\nstop.  Why?  Because their current business model depends on\\novercharging people who have incomplete information about prices.\\nThey don\\'t want search to work.The Octoparts are the nicest guys in the world.  They dropped out\\nof the PhD program in physics at Berkeley to do this.  They just\\nwanted to fix a problem they encountered in their research.  Imagine\\nhow much time you could save the world\\'s engineers if they could\\ndo searches online.  So when I hear that a big, evil company is\\ntrying to stop them in order to keep search broken, it makes me\\nreally want to help them. It makes me spend more time on the Octoparts\\nthan I do with most of the other startups we\\'ve funded.  It just\\nmade me spend several minutes telling you how great they are.  Why?\\nBecause they\\'re good guys and they\\'re trying to help the world.If you\\'re benevolent, people will rally around you: investors,\\ncustomers, other companies, and potential employees.  In the long\\nterm the most important may be the potential employees.  I think\\neveryone knows now that \\ngood hackers are much better than mediocre\\nones.  If you can attract the best hackers to work for you, as\\nGoogle has, you have a big advantage.  And the very best hackers\\ntend to be idealistic.  They\\'re not desperate for a job.  They can\\nwork wherever they want.  So most want to work on things that will\\nmake the world better.CompassBut the most important advantage of being good is that it acts as\\na compass.  One of the hardest parts of doing a startup is that you\\nhave so many choices.  There are just two or three of you, and a\\nthousand things you could do. How do you decide?Here\\'s the answer: Do whatever\\'s best for your users.  You can hold\\nonto this like a rope in a hurricane, and it will save you if\\nanything can.  Follow it and it will take you through everything\\nyou need to do.It\\'s even the answer to questions that seem unrelated, like how to\\nconvince investors to give you money.  If you\\'re a good salesman,\\nyou could try to just talk them into it.  But the more reliable\\nroute is to convince them through your users: if you make something\\nusers love enough to tell their friends, you grow exponentially,\\nand that will convince any investor.Being good is a particularly useful strategy for making decisions\\nin complex situations because it\\'s stateless.  It\\'s like telling\\nthe truth.  The trouble with lying is that you have to remember\\neverything you\\'ve said in the past to make sure you don\\'t contradict\\nyourself.  If you tell the truth you don\\'t have to remember anything,\\nand that\\'s a really useful property in domains where things happen\\nfast.For example, Y Combinator has now invested in 80 startups, 57 of\\nwhich are still alive.  (The rest have died or merged or been\\nacquired.)  When you\\'re trying to advise 57 startups, it turns out\\nyou have to have a stateless algorithm.  You can\\'t have ulterior\\nmotives when you have 57 things going on at once, because you can\\'t\\nremember them.  So our rule is just to do whatever\\'s best for the\\nfounders.  Not because we\\'re particularly benevolent, but because\\nit\\'s the only algorithm that works on that scale.When you write something telling people to be good, you seem to be\\nclaiming to be good yourself.  So I want to say explicitly that I\\nam not a particularly good person.  When I was a kid I was firmly\\nin the camp of bad.  The way adults used the word good, it seemed\\nto be synonymous with quiet, so I grew up very suspicious of it.You know how there are some people whose names come up in conversation\\nand everyone says \"He\\'s such a great guy?\"  People never say\\nthat about me.  The best I get is \"he means well.\"  I am not claiming\\nto be good.  At best I speak good as a second language.So I\\'m not suggesting you be good in the usual sanctimonious way.\\nI\\'m suggesting it because it works.  It will work not just as a\\nstatement of \"values,\" but as a guide to strategy,\\nand even a design spec for software.  Don\\'t just not be evil.  Be\\ngood.Notes[1] Fifty years ago\\nit would have seemed shocking for a public company not to pay\\ndividends.  Now many tech companies don\\'t.  The markets seem to\\nhave figured out how to value potential dividends.  Maybe that isn\\'t\\nthe last step in this evolution.  Maybe markets will eventually get\\ncomfortable with potential earnings. (VCs already are, and at least\\nsome of them consistently make money.)I realize this sounds like the stuff one used to hear about the\\n\"new economy\" during the Bubble.  Believe me, I was not drinking\\nthat kool-aid at the time.  But I\\'m convinced there were some \\ngood\\nideas buried in Bubble thinking.  For example, it\\'s ok to focus on\\ngrowth instead of profits—but only if the growth is genuine.\\nYou can\\'t be buying users; that\\'s a pyramid scheme.   But a company\\nwith rapid, genuine growth is valuable, and eventually markets learn\\nhow to value valuable things.[2] The idea of starting\\na company with benevolent aims is currently undervalued, because\\nthe kind of people who currently make that their explicit goal don\\'t\\nusually do a very good job.It\\'s one of the standard career paths of trustafarians to start\\nsome vaguely benevolent business.  The problem with most of them\\nis that they either have a bogus political agenda or are feebly\\nexecuted.  The trustafarians\\' ancestors didn\\'t get rich by preserving\\ntheir traditional culture; maybe people in Bolivia don\\'t want to\\neither.  And starting an organic farm, though it\\'s at least\\nstraightforwardly benevolent, doesn\\'t help people on the scale that\\nGoogle does.Most explicitly benevolent projects don\\'t hold themselves sufficiently\\naccountable.  They act as if having good intentions were enough to\\nguarantee good effects.[3] Users dislike their\\nnew operating system so much that they\\'re starting petitions to\\nsave the old one.  And the old one was nothing special.  The hackers\\nwithin Microsoft must know in their hearts that if the company\\nreally cared about users they\\'d just advise them to switch to OSX.Thanks to Trevor Blackwell, Paul Buchheit, Jessica Livingston,\\nand Robert Morris for reading drafts of this.', start_char_idx=None, end_char_idx=None, text_template='{metadata_str}\\n\\n{content}', metadata_template='{key}: {value}', metadata_seperator='\\n')]"
      ]
     },
     "execution_count": 3,
     "metadata": {},
     "output_type": "execute_result"
    }
   ],
   "source": [
    "documents"
   ]
  },
  {
   "cell_type": "markdown",
   "id": "7b1b7147-5e15-4093-86b7-355fcc4a56b6",
   "metadata": {},
   "source": [
    "#### Create Vector Database (LlamaIndex call them \"indexes\")"
   ]
  },
  {
   "cell_type": "code",
   "execution_count": 4,
   "id": "f5108a82-0d47-4ea1-b146-0596bee6d561",
   "metadata": {},
   "outputs": [],
   "source": [
    "from llama_index import VectorStoreIndex\n",
    "\n",
    "index = VectorStoreIndex.from_documents(documents)"
   ]
  },
  {
   "cell_type": "markdown",
   "id": "e0303edf-ddd3-4219-b5b8-2e93cdbd90be",
   "metadata": {},
   "source": [
    "#### QA over private document"
   ]
  },
  {
   "cell_type": "code",
   "execution_count": 5,
   "id": "151655aa-87a8-4eb4-92c6-9077ad7b41e5",
   "metadata": {},
   "outputs": [
    {
     "name": "stdout",
     "output_type": "stream",
     "text": [
      "The article discusses the importance of creating something people want and not focusing solely on making money in the early stages of a startup. It explores the idea that behaving like a charity can lead to success, using examples like Craigslist and Google. Additionally, it highlights how being benevolent can boost morale, attract help from others, and lead to better decision-making in startups. The article emphasizes the value of helping people, building a sense of mission, and creating a positive impact to increase the chances of startup success.\n"
     ]
    }
   ],
   "source": [
    "query_engine = index.as_query_engine()\n",
    "\n",
    "response = query_engine.query(\"Summarize the article in less than 100 words.\")\n",
    "\n",
    "print(response)"
   ]
  },
  {
   "cell_type": "markdown",
   "id": "684447bd-69be-45a2-b159-12626f795092",
   "metadata": {},
   "source": [
    "#### Save the vector database in your computer"
   ]
  },
  {
   "cell_type": "code",
   "execution_count": 6,
   "id": "7c4c3251-2b19-4a1c-b7ba-38118528ef80",
   "metadata": {},
   "outputs": [],
   "source": [
    "index.storage_context.persist()"
   ]
  },
  {
   "cell_type": "markdown",
   "id": "3f412dd7-72a1-4cc0-b216-80cab6e027d7",
   "metadata": {},
   "source": [
    "By default, this will save the data to the directory storage, but you can change that by passing a `persist_dir` parameter."
   ]
  },
  {
   "cell_type": "markdown",
   "id": "a92c3c57-4401-4efb-b90b-6297ded5cd57",
   "metadata": {},
   "source": [
    "## Documentation: High-Level Concepts"
   ]
  },
  {
   "cell_type": "markdown",
   "id": "0610bbbe-b468-4a58-a61b-13c1ca733137",
   "metadata": {},
   "source": [
    "#### RAG\n",
    "* Your data is loaded\n",
    "* Your data is indexed: prepared for queries\n",
    "* When you ask a question, LlamaIndex gets the most relevant data from the vector database and passes your question and this most relevant data (called \"the context\") to the LLM so the LLM can redact a conversational answer."
   ]
  },
  {
   "cell_type": "markdown",
   "id": "d1d72c4d-89fc-40bd-a0a8-61974c742250",
   "metadata": {},
   "source": [
    "#### Stages within RAG\n",
    "1. Loading\n",
    "2. Indexing: convert data into embeddings and metadata\n",
    "3. Storing: store your embeddings and metadata\n",
    "4. Querying\n",
    "    * sub-queries\n",
    "    * multi-step queries\n",
    "    * hybrid strategies\n",
    "5. Evaluation: checking how your accurate, faithful and fast responses to queries are"
   ]
  },
  {
   "cell_type": "markdown",
   "id": "913e0a81-5652-462c-8fb4-687f939d445f",
   "metadata": {},
   "source": [
    "#### Important concepts within some of the previous stages\n",
    "1. Loading\n",
    "    * Document: data format (PDF, API, etc).\n",
    "    * Node: data chunk with metadata.\n",
    "    * Connector or Reader: connects with data sources.\n",
    "2. Indexing\n",
    "    * Indexing: transformation and storage of data into embeddings with metadata in vector databases.\n",
    "    * Embeddings: numerical representation of data.\n",
    "4. Querying\n",
    "    * Retrievers: how to retrieve relevant context from an index when given a query. The retrieval strategy is key to the performance of the app.\n",
    "    * Routers: determines which retriever will be used based on the reriever's metadata and the query.\n",
    "    * Node postprocessors: applies transformations, filtering and re-ranking logic to nodes.\n",
    "    * Response synthesizers: given a query and a set of retrieved text chunks, it generates the conversational response from an LLM."
   ]
  },
  {
   "cell_type": "markdown",
   "id": "37c9cee4-0280-4100-b71a-de373b962896",
   "metadata": {},
   "source": [
    "#### Naming of the 3 main use cases\n",
    "* Query Engines: ask questions about your data.\n",
    "* Chat Engines: have a conversation with your data.\n",
    "* Agents: automated decision maker."
   ]
  },
  {
   "cell_type": "markdown",
   "id": "4a90d6fd-14ab-43aa-ad0d-be89ab7d0e35",
   "metadata": {},
   "source": [
    "## Documentation: Customization Tutorial"
   ]
  },
  {
   "cell_type": "markdown",
   "id": "973baba1-3ab6-4363-b382-e36e4398119b",
   "metadata": {},
   "source": [
    "#### Starting point: basic RAG"
   ]
  },
  {
   "cell_type": "code",
   "execution_count": 7,
   "id": "07c98835-84ba-4f93-a135-6c0d09b5ee0e",
   "metadata": {},
   "outputs": [
    {
     "name": "stdout",
     "output_type": "stream",
     "text": [
      "For the author, being good is not about claiming moral superiority or sanctimony. Instead, being good is seen as a practical approach that can benefit startups in various ways. It involves helping others, maintaining morale, and creating a sense of mission that drives perseverance and resilience. Goodness is linked to genuine care for users, a willingness to assist, and a commitment to making a positive impact, ultimately contributing to the success and survival of a startup.\n"
     ]
    }
   ],
   "source": [
    "from llama_index import VectorStoreIndex, SimpleDirectoryReader\n",
    "\n",
    "documents = SimpleDirectoryReader(\"data\").load_data()\n",
    "index = VectorStoreIndex.from_documents(documents)\n",
    "query_engine = index.as_query_engine()\n",
    "response = query_engine.query(\"In less than 100 words, what is the meaning of good for the author?\")\n",
    "print(response)"
   ]
  },
  {
   "cell_type": "markdown",
   "id": "599b5eab-4ae7-4cae-b1f9-cf3ff2e470df",
   "metadata": {},
   "source": [
    "#### Parse the document into smaller chunks"
   ]
  },
  {
   "cell_type": "code",
   "execution_count": 8,
   "id": "dcff1d04-54c4-41b8-858d-21d1db0b35cc",
   "metadata": {},
   "outputs": [],
   "source": [
    "from llama_index import ServiceContext\n",
    "\n",
    "service_context = ServiceContext.from_defaults(chunk_size=1000)"
   ]
  },
  {
   "cell_type": "code",
   "execution_count": 9,
   "id": "befbda15-54aa-40ba-9329-1c6f0a6f683f",
   "metadata": {},
   "outputs": [],
   "source": [
    "index = VectorStoreIndex.from_documents(\n",
    "    documents, \n",
    "    service_context=service_context\n",
    ")"
   ]
  },
  {
   "cell_type": "markdown",
   "id": "7544dbbb-365a-44ba-8ed3-1866331d7ef8",
   "metadata": {},
   "source": [
    "#### Use a different vector database"
   ]
  },
  {
   "cell_type": "code",
   "execution_count": 10,
   "id": "b005c4e7-2ab3-4ee6-a755-d241a7906038",
   "metadata": {},
   "outputs": [],
   "source": [
    "import chromadb\n",
    "from llama_index.vector_stores import ChromaVectorStore\n",
    "from llama_index import StorageContext\n",
    "\n",
    "chroma_client = chromadb.PersistentClient()\n",
    "chroma_collection = chroma_client.create_collection(\"quickstart\")\n",
    "vector_store = ChromaVectorStore(chroma_collection=chroma_collection)\n",
    "storage_context = StorageContext.from_defaults(\n",
    "    vector_store=vector_store\n",
    ")"
   ]
  },
  {
   "cell_type": "code",
   "execution_count": 11,
   "id": "cab44594-1f08-4624-b98d-c888169bda1f",
   "metadata": {},
   "outputs": [],
   "source": [
    "index = VectorStoreIndex.from_documents(\n",
    "    documents, \n",
    "    storage_context=storage_context\n",
    ")"
   ]
  },
  {
   "cell_type": "markdown",
   "id": "6c674a5d-45c2-4861-8523-d7c5c1604e61",
   "metadata": {},
   "source": [
    "#### Retrieve more context when I query"
   ]
  },
  {
   "cell_type": "code",
   "execution_count": 12,
   "id": "731889a5-9064-4783-8b36-0b8b629ab400",
   "metadata": {},
   "outputs": [],
   "source": [
    "query_engine = index.as_query_engine(similarity_top_k=5)"
   ]
  },
  {
   "cell_type": "markdown",
   "id": "cd73b058-5f19-4b09-94ec-f2d12f3677d0",
   "metadata": {},
   "source": [
    "#### Use a different LLM"
   ]
  },
  {
   "cell_type": "code",
   "execution_count": 13,
   "id": "2e624338-55c2-4a68-bbc9-250b13340490",
   "metadata": {},
   "outputs": [],
   "source": [
    "# from llama_index.llms import PaLM\n",
    "\n",
    "# service_context = ServiceContext.from_defaults(llm=PaLM())"
   ]
  },
  {
   "cell_type": "markdown",
   "id": "4595d62a-8344-47d2-a8d8-497527e36550",
   "metadata": {},
   "source": [
    "#### Use a different response mode"
   ]
  },
  {
   "cell_type": "code",
   "execution_count": 16,
   "id": "9b06acdd-9226-4bf7-a6c8-ccfc5610b7ae",
   "metadata": {},
   "outputs": [],
   "source": [
    "query_engine = index.as_query_engine(response_mode=\"tree_summarize\")"
   ]
  },
  {
   "cell_type": "markdown",
   "id": "1e364965-27ae-42bc-aae9-b36413b06d19",
   "metadata": {},
   "source": [
    "#### Stream the response back"
   ]
  },
  {
   "cell_type": "code",
   "execution_count": 26,
   "id": "b28ce888",
   "metadata": {},
   "outputs": [],
   "source": [
    "index = VectorStoreIndex.from_documents(documents, storage_context=storage_context)"
   ]
  },
  {
   "cell_type": "code",
   "execution_count": 29,
   "id": "152a965d-b30f-4659-b007-eb5837a035ef",
   "metadata": {},
   "outputs": [],
   "source": [
    "#query_engine = index.as_query_engine(streaming=True)\n",
    "#response = query_engine.query(\"In less than 100 words, what is the meaning of good according to the author?\")\n",
    "#response.print_response_stream()"
   ]
  },
  {
   "cell_type": "markdown",
   "id": "0f76bf40-439f-4907-9a57-7521b45c6fad",
   "metadata": {},
   "source": [
    "#### Use a chatbot instead of a QA"
   ]
  },
  {
   "cell_type": "code",
   "execution_count": 30,
   "id": "7988e811-1591-4032-a2cc-de6b0c5bba46",
   "metadata": {},
   "outputs": [],
   "source": [
    "#query_engine = index.as_chat_engine()\n",
    "#response = query_engine.chat(\"In less than 100 words, what is the meaning of bad according to the author?\")\n",
    "#print(response)\n",
    "\n",
    "#response = query_engine.chat(\"Oh interesting, tell me more.\")\n",
    "#print(response)"
   ]
  },
  {
   "cell_type": "markdown",
   "id": "2bc467a4-0acd-42a6-92c6-fa7b242064db",
   "metadata": {},
   "source": [
    "## Documentation: The LlamaIndex Video Series\n",
    "* Build a document chatbot from scratch\n",
    "* Sub-questions\n",
    "* Manage documents from a source that is constantly updating like Discord\n",
    "* Combining SQL and Semantic Search"
   ]
  },
  {
   "cell_type": "markdown",
   "id": "6592ef2c-c39c-4963-9bfd-2a1be9be2c04",
   "metadata": {},
   "source": [
    "## Documentation: Use Cases\n",
    "* QA\n",
    "* Chatbots\n",
    "* Agents\n",
    "* Structured Data Extraction\n",
    "* Multi-modal"
   ]
  },
  {
   "cell_type": "markdown",
   "id": "2de60ff2-e07b-4f49-8f72-033171d6d511",
   "metadata": {},
   "source": [
    "## Documentation: Understanding (LI vs LC)\n",
    "* Using LLMs\n",
    "    * Different way of loading OpenAIEmbeddings than LC\n",
    "    * Similar approach to Prompt templates \n",
    "* Loading\n",
    "    * Very interesting: multi-purpose loader\n",
    "    * Splitter, chunk_size, chunk_overlap\n",
    "    * Creating chunks (nodes) manually\n",
    "    * Adding metadata to document (copied to nodes)\n",
    "    * Loading connectors from LLamaHub\n",
    "* Indexing\n",
    "    * Index types:\n",
    "        * Vector store index\n",
    "            * Nodes and embeddings\n",
    "            * Semantic search\n",
    "            * Top K Retrieval\n",
    "        * Summary index\n",
    "            * If you want to summarize the document \n",
    "        * Knowledge graph index\n",
    "            * If your data is a set of disconnected concepts (a \"graph\") \n",
    "* Storing\n",
    "    * by default, indexed data is stored only in memory\n",
    "    * creating embeddings is expensive\n",
    "    * store to avoid the time and cost of re-indexing\n",
    "    * save: .persist()\n",
    "    * load persisted index: load_index_from_storage()\n",
    "* Querying\n",
    "    * the most significant part of an LLM App\n",
    "    * stages: retrieval, postprocessing, response synthesis.\n",
    "    * customizing the stages of querying.\n",
    "* Putting it all together\n",
    "    * advanced techniques\n",
    "    * how to build a full-stack app\n",
    "        * React + Flask API\n",
    "* Observability: tracing and debugging.\n",
    "    * Logging\n",
    "    * Callbacks to help debug\n",
    "    * One-click observability with eval tools offered by partners (W&B, etc)\n",
    "* Evaluation.\n",
    "    * Response evaluation\n",
    "    * Retrieval evaluation\n",
    "    * Analizing the cost of your app\n",
    "        * MockLLM to predict token usage\n",
    "        * MockEmbedding"
   ]
  },
  {
   "cell_type": "markdown",
   "id": "88432aad-0140-4075-897f-184bd7d86730",
   "metadata": {},
   "source": [
    "## Documentation: Optimizing\n",
    "* Advanced prompt techniques\n",
    "* Prompt engineering for RAG\n",
    "* Advanced retrieval strategies\n",
    "* Agentic strategies\n",
    "    * OpenAI Agent\n",
    "* Evaluation\n",
    "* Fine-tuning\n",
    "* Building performant RAG apps for production\n",
    "    * General techniques\n",
    "        * decoupling retrieval chunks vs syntesis chunks\n",
    "        * structured retrieval for large document sets\n",
    "        * dynamically retrieve chunks\n",
    "        * optimize context embeddings\n",
    "    * Long list of specific techniques\n",
    "* Building RAG from scratch (lower-level)  "
   ]
  }
 ],
 "metadata": {
  "kernelspec": {
   "display_name": "Python 3",
   "language": "python",
   "name": "python3"
  },
  "language_info": {
   "codemirror_mode": {
    "name": "ipython",
    "version": 3
   },
   "file_extension": ".py",
   "mimetype": "text/x-python",
   "name": "python",
   "nbconvert_exporter": "python",
   "pygments_lexer": "ipython3",
   "version": "3.11.11"
  }
 },
 "nbformat": 4,
 "nbformat_minor": 5
}
