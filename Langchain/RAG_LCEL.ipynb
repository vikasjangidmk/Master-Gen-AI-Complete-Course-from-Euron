{
 "cells": [
  {
   "cell_type": "markdown",
   "metadata": {},
   "source": [
    "# LCEL "
   ]
  },
  {
   "cell_type": "code",
   "execution_count": 1,
   "metadata": {},
   "outputs": [],
   "source": [
    "import os\n",
    "from dotenv import load_dotenv, find_dotenv\n",
    "_ = load_dotenv(find_dotenv())\n",
    "openai_api_key = os.environ[\"OPENAI_API_KEY\"]"
   ]
  },
  {
   "cell_type": "code",
   "execution_count": 1,
   "metadata": {},
   "outputs": [],
   "source": [
    "from langchain_community.vectorstores import FAISS\n",
    "from langchain_openai import OpenAIEmbeddings\n",
    "from langchain_text_splitters import CharacterTextSplitter\n",
    "from langchain_community.document_loaders import TextLoader"
   ]
  },
  {
   "cell_type": "code",
   "execution_count": 2,
   "metadata": {},
   "outputs": [],
   "source": [
    "loader = TextLoader(\"The_Bhagavad_Gita.txt\")\n",
    "loaded_document = loader.load()"
   ]
  },
  {
   "cell_type": "code",
   "execution_count": 3,
   "metadata": {},
   "outputs": [
    {
     "data": {
      "text/plain": [
       "[Document(metadata={'source': 'The_Bhagavad_Gita.txt'}, page_content=\"The **Bhagavad Gita** is a 700-verse Hindu scripture that is part of the Indian epic *Mahabharata*, specifically in the Bhishma Parva (Book of Bhishma). It is a dialogue between prince **Arjuna** and the god **Krishna**, who serves as his charioteer. The Gita addresses the moral and philosophical dilemmas faced by Arjuna as he prepares to go into battle in the Kurukshetra War, where he is conflicted about fighting against his own relatives, teachers, and friends.\\n\\n**Historical Context**: The Bhagavad Gita takes place on the battlefield of Kurukshetra, where two sets of cousins, the **Pandavas** and the **Kauravas**, are poised for battle. Arjuna, a warrior prince of the Pandavas, is overwhelmed by doubt and moral confusion about the war. In the midst of this internal conflict, Krishna, who is an incarnation of the divine, offers guidance and wisdom that transcends the immediate situation, focusing on life, duty, and the nature of existence.\\n\\n**Key Themes**: \\n1. **Dharma (Righteous Duty)**: Arjuna's dilemma is rooted in his understanding of his *dharma*, or duty as a warrior. Krishna explains that one's duty should be performed without attachment to outcomes, highlighting the importance of righteousness and moral action in accordance with one’s role in society.\\n\\n2. **Karma Yoga (The Path of Selfless Action)**: One of the central teachings of the Gita is *karma yoga*, the yoga of selfless action. Krishna advises Arjuna to act according to his duty, without concern for the results, as true detachment comes from performing actions selflessly and without desire for personal gain.\\n\\n3. **Bhakti Yoga (The Path of Devotion)**: The Gita also emphasizes the power of devotion to God, or *bhakti*. Krishna teaches that surrendering oneself to God with complete faith and devotion leads to liberation from the cycle of birth and death (samsara). \\n\\n4. **Jnana Yoga (The Path of Knowledge)**: Krishna encourages Arjuna to cultivate *jnana* or knowledge of the self, revealing the nature of reality, the eternal soul (Atman), and the Supreme (Brahman). Understanding the true nature of existence, Krishna asserts, can lead one to liberation (moksha).\\n\\n5. **Atman (The Soul)**: One of the fundamental teachings of the Bhagavad Gita is the eternal nature of the soul. Krishna explains that the soul is indestructible and cannot be harmed by physical death. This teaching provides Arjuna with the courage to fight in the war, knowing that his loved ones' souls will continue to exist beyond their physical bodies.\\n\\n6. **Yoga (Union)**: The Gita teaches various forms of *yoga*, which are spiritual disciplines aimed at achieving union with the divine. These paths include *karma yoga*, *bhakti yoga*, *jnana yoga*, and *raja yoga* (the path of meditation), all of which lead to self-realization and liberation.\\n\\n**Philosophical Insights**: Throughout the Gita, Krishna explains the nature of the material world and the self. He reveals the idea that the universe is governed by the laws of nature and that everything in the world is transient. Understanding this impermanence allows individuals to act with greater wisdom, without attachment to worldly desires. Krishna encourages Arjuna to focus on his higher purpose, which is spiritual liberation rather than material success.\\n\\n**The Vision of the Universal Form**: One of the most profound moments in the Bhagavad Gita is when Krishna reveals his *Vishvarupa* (universal form) to Arjuna. This divine manifestation shows that Krishna is the eternal, all-encompassing reality behind all creation. Arjuna realizes that the outcome of the battle is already determined in the divine order, and that Krishna's will must unfold regardless of human actions.\\n\\n**The Nature of God**: The Bhagavad Gita portrays Krishna as both immanent and transcendent. While he is the charioteer and guide to Arjuna, he also reveals himself as the Supreme Being, beyond all dualities and forms. This divine presence signifies that the Supreme is both within and beyond all things, and true liberation can be attained through devotion to God.\\n\\n**Key Teachings and Practical Applications**:\\n- **Equanimity in Adversity**: Krishna teaches Arjuna to maintain mental balance and equanimity, regardless of the ups and downs of life. This includes not being disturbed by success or failure, pleasure or pain.\\n- **Focus on the Present**: The Gita emphasizes the importance of living in the present moment. By focusing on one’s duties and actions, without attachment to past or future, individuals can achieve peace and clarity.\\n- **Self-Realization**: The ultimate goal of the Gita is to guide individuals toward self-realization and the understanding of their true nature. By recognizing oneself as the eternal soul (Atman), one can transcend the ego and material desires.\\n\\n**The End of the Gita**: The Gita concludes with Arjuna gaining clarity and understanding from Krishna’s teachings. He overcomes his doubts and moral dilemmas and prepares to fight in the battle. The Gita ends with Arjuna's resolve to act in accordance with his duty, embodying the principles of selfless action, devotion, and knowledge imparted by Krishna.\\n\\n**Impact and Legacy**: The Bhagavad Gita has had a profound influence on Indian philosophy and spirituality. It has been interpreted and commented upon by numerous scholars and spiritual leaders, including Adi Shankaracharya, Ramanuja, and more recently, Mahatma Gandhi, who considered the Gita as a guiding light for his philosophy of nonviolence and truth.\\n\\nThe Bhagavad Gita continues to inspire millions around the world, providing practical and philosophical wisdom that is applicable to daily life. Whether one is seeking guidance on personal dilemmas, spiritual growth, or understanding the nature of the universe, the Gita offers timeless insights that remain relevant in the modern world.\\n\\nIn essence, the Bhagavad Gita teaches that life is not merely about the pursuit of material success, but the realization of our divine nature and our connection to the Supreme. Through devotion, knowledge, and righteous action, individuals can achieve liberation and find inner peace.\")]"
      ]
     },
     "execution_count": 3,
     "metadata": {},
     "output_type": "execute_result"
    }
   ],
   "source": [
    "loaded_document"
   ]
  },
  {
   "cell_type": "code",
   "execution_count": 4,
   "metadata": {},
   "outputs": [],
   "source": [
    "text_splitter = CharacterTextSplitter(chunk_size=1000, chunk_overlap=0)\n",
    "chunks_of_text = text_splitter.split_documents(loaded_document)"
   ]
  },
  {
   "cell_type": "code",
   "execution_count": 5,
   "metadata": {},
   "outputs": [],
   "source": [
    "embeddings = OpenAIEmbeddings()\n",
    "\n",
    "vector_db = FAISS.from_documents(chunks_of_text, embeddings)"
   ]
  },
  {
   "cell_type": "code",
   "execution_count": 6,
   "metadata": {},
   "outputs": [
    {
     "data": {
      "text/plain": [
       "<langchain_community.vectorstores.faiss.FAISS at 0x165596d4910>"
      ]
     },
     "execution_count": 6,
     "metadata": {},
     "output_type": "execute_result"
    }
   ],
   "source": [
    "vector_db"
   ]
  },
  {
   "cell_type": "code",
   "execution_count": 7,
   "metadata": {},
   "outputs": [],
   "source": [
    "retriever = vector_db.as_retriever()"
   ]
  },
  {
   "cell_type": "code",
   "execution_count": 9,
   "metadata": {},
   "outputs": [],
   "source": [
    "response = retriever.invoke(\"who is Krishna\")"
   ]
  },
  {
   "cell_type": "code",
   "execution_count": 10,
   "metadata": {},
   "outputs": [
    {
     "data": {
      "text/plain": [
       "[Document(metadata={'source': 'The_Bhagavad_Gita.txt'}, page_content='**The Nature of God**: The Bhagavad Gita portrays Krishna as both immanent and transcendent. While he is the charioteer and guide to Arjuna, he also reveals himself as the Supreme Being, beyond all dualities and forms. This divine presence signifies that the Supreme is both within and beyond all things, and true liberation can be attained through devotion to God.'),\n",
       " Document(metadata={'source': 'The_Bhagavad_Gita.txt'}, page_content=\"**Philosophical Insights**: Throughout the Gita, Krishna explains the nature of the material world and the self. He reveals the idea that the universe is governed by the laws of nature and that everything in the world is transient. Understanding this impermanence allows individuals to act with greater wisdom, without attachment to worldly desires. Krishna encourages Arjuna to focus on his higher purpose, which is spiritual liberation rather than material success.\\n\\n**The Vision of the Universal Form**: One of the most profound moments in the Bhagavad Gita is when Krishna reveals his *Vishvarupa* (universal form) to Arjuna. This divine manifestation shows that Krishna is the eternal, all-encompassing reality behind all creation. Arjuna realizes that the outcome of the battle is already determined in the divine order, and that Krishna's will must unfold regardless of human actions.\"),\n",
       " Document(metadata={'source': 'The_Bhagavad_Gita.txt'}, page_content=\"4. **Jnana Yoga (The Path of Knowledge)**: Krishna encourages Arjuna to cultivate *jnana* or knowledge of the self, revealing the nature of reality, the eternal soul (Atman), and the Supreme (Brahman). Understanding the true nature of existence, Krishna asserts, can lead one to liberation (moksha).\\n\\n5. **Atman (The Soul)**: One of the fundamental teachings of the Bhagavad Gita is the eternal nature of the soul. Krishna explains that the soul is indestructible and cannot be harmed by physical death. This teaching provides Arjuna with the courage to fight in the war, knowing that his loved ones' souls will continue to exist beyond their physical bodies.\\n\\n6. **Yoga (Union)**: The Gita teaches various forms of *yoga*, which are spiritual disciplines aimed at achieving union with the divine. These paths include *karma yoga*, *bhakti yoga*, *jnana yoga*, and *raja yoga* (the path of meditation), all of which lead to self-realization and liberation.\"),\n",
       " Document(metadata={'source': 'The_Bhagavad_Gita.txt'}, page_content='**Key Teachings and Practical Applications**:\\n- **Equanimity in Adversity**: Krishna teaches Arjuna to maintain mental balance and equanimity, regardless of the ups and downs of life. This includes not being disturbed by success or failure, pleasure or pain.\\n- **Focus on the Present**: The Gita emphasizes the importance of living in the present moment. By focusing on one’s duties and actions, without attachment to past or future, individuals can achieve peace and clarity.\\n- **Self-Realization**: The ultimate goal of the Gita is to guide individuals toward self-realization and the understanding of their true nature. By recognizing oneself as the eternal soul (Atman), one can transcend the ego and material desires.')]"
      ]
     },
     "execution_count": 10,
     "metadata": {},
     "output_type": "execute_result"
    }
   ],
   "source": [
    "response"
   ]
  },
  {
   "cell_type": "code",
   "execution_count": 11,
   "metadata": {},
   "outputs": [],
   "source": [
    "retriever = vector_db.as_retriever(search_kwargs={\"k\": 2})"
   ]
  },
  {
   "cell_type": "code",
   "execution_count": 12,
   "metadata": {},
   "outputs": [],
   "source": [
    "#response = retriever.invoke(\"what did he say about ketanji brown jackson?\")"
   ]
  },
  {
   "cell_type": "code",
   "execution_count": 13,
   "metadata": {},
   "outputs": [],
   "source": [
    "#response\n"
   ]
  },
  {
   "cell_type": "code",
   "execution_count": 14,
   "metadata": {},
   "outputs": [],
   "source": [
    "from langchain_openai import ChatOpenAI\n",
    "from langchain_core.prompts import ChatPromptTemplate\n",
    "from langchain_core.output_parsers import StrOutputParser\n",
    "from langchain_core.runnables import RunnablePassthrough"
   ]
  },
  {
   "cell_type": "code",
   "execution_count": 15,
   "metadata": {},
   "outputs": [],
   "source": [
    "template = \"\"\"Answer the question based only on the following context:\n",
    "\n",
    "{context}\n",
    "\n",
    "Question: {question}\n",
    "\"\"\"\n",
    "prompt = ChatPromptTemplate.from_template(template)\n",
    "\n",
    "\n",
    "model = ChatOpenAI()"
   ]
  },
  {
   "cell_type": "code",
   "execution_count": 16,
   "metadata": {},
   "outputs": [],
   "source": [
    "def format_docs(docs):\n",
    "    return \"\\n\\n\".join([d.page_content for d in docs])\n"
   ]
  },
  {
   "cell_type": "code",
   "execution_count": 17,
   "metadata": {},
   "outputs": [],
   "source": [
    "chain = (\n",
    "    {\"context\": retriever | format_docs, \"question\": RunnablePassthrough()}\n",
    "    | prompt\n",
    "    | model\n",
    "    | StrOutputParser()\n",
    ")"
   ]
  },
  {
   "cell_type": "code",
   "execution_count": 18,
   "metadata": {},
   "outputs": [],
   "source": [
    "response = chain.invoke(\"Who is Krishna?\")"
   ]
  },
  {
   "cell_type": "code",
   "execution_count": 19,
   "metadata": {},
   "outputs": [
    {
     "data": {
      "text/plain": [
       "str"
      ]
     },
     "execution_count": 19,
     "metadata": {},
     "output_type": "execute_result"
    }
   ],
   "source": [
    "type(response)"
   ]
  },
  {
   "cell_type": "code",
   "execution_count": 20,
   "metadata": {},
   "outputs": [
    {
     "name": "stdout",
     "output_type": "stream",
     "text": [
      "The End\n"
     ]
    }
   ],
   "source": [
    "print(\"The End\")"
   ]
  }
 ],
 "metadata": {
  "kernelspec": {
   "display_name": "Python 3",
   "language": "python",
   "name": "python3"
  },
  "language_info": {
   "codemirror_mode": {
    "name": "ipython",
    "version": 3
   },
   "file_extension": ".py",
   "mimetype": "text/x-python",
   "name": "python",
   "nbconvert_exporter": "python",
   "pygments_lexer": "ipython3",
   "version": "3.11.0"
  }
 },
 "nbformat": 4,
 "nbformat_minor": 2
}
