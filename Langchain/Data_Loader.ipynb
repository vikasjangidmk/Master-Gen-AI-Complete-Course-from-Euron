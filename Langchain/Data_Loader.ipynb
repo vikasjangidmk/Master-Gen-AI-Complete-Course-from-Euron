{
 "cells": [
  {
   "cell_type": "code",
   "execution_count": 1,
   "metadata": {},
   "outputs": [],
   "source": [
    "import os\n",
    "from dotenv import load_dotenv, find_dotenv\n",
    "_ = load_dotenv(find_dotenv())\n",
    "openai_api_key = os.environ[\"OPENAI_API_KEY\"]"
   ]
  },
  {
   "cell_type": "code",
   "execution_count": 2,
   "metadata": {},
   "outputs": [],
   "source": [
    "from langchain_openai import ChatOpenAI\n",
    "\n",
    "chatModel = ChatOpenAI(model=\"gpt-3.5-turbo-0125\")"
   ]
  },
  {
   "cell_type": "code",
   "execution_count": 3,
   "metadata": {},
   "outputs": [],
   "source": [
    "messages = [\n",
    "    (\"system\", \"You are an helpful assistant.\"),\n",
    "    (\"human\", \"tell me about genaiwithprince\"),\n",
    "]"
   ]
  },
  {
   "cell_type": "code",
   "execution_count": 4,
   "metadata": {},
   "outputs": [],
   "source": [
    "resoponse=chatModel.invoke(messages)"
   ]
  },
  {
   "cell_type": "code",
   "execution_count": 5,
   "metadata": {},
   "outputs": [
    {
     "name": "stdout",
     "output_type": "stream",
     "text": [
      "I'm sorry, but I couldn't find any information on \"genaiwithprince.\" It is possible that this may be a username, handle, or a personal name that is not widely known or documented. If you have any more context or details about who or what \"genaiwithprince\" is, please feel free to share, and I'll do my best to assist you further.\n"
     ]
    }
   ],
   "source": [
    "print(resoponse.content)"
   ]
  },
  {
   "cell_type": "markdown",
   "metadata": {},
   "source": [
    "# Text File "
   ]
  },
  {
   "cell_type": "code",
   "execution_count": 6,
   "metadata": {},
   "outputs": [],
   "source": [
    "from langchain_community.document_loaders import TextLoader"
   ]
  },
  {
   "cell_type": "code",
   "execution_count": 7,
   "metadata": {},
   "outputs": [],
   "source": [
    "loader = TextLoader(\"The_Bhagavad_Gita.txt\")"
   ]
  },
  {
   "cell_type": "code",
   "execution_count": 8,
   "metadata": {},
   "outputs": [],
   "source": [
    "loaded_data=loader.load()"
   ]
  },
  {
   "cell_type": "code",
   "execution_count": 9,
   "metadata": {},
   "outputs": [],
   "source": [
    "page_content=loaded_data[0].page_content"
   ]
  },
  {
   "cell_type": "code",
   "execution_count": 10,
   "metadata": {},
   "outputs": [
    {
     "name": "stdout",
     "output_type": "stream",
     "text": [
      "The **Bhagavad Gita** is a 700-verse Hindu scripture that is part of the Indian epic *Mahabharata*, specifically in the Bhishma Parva (Book of Bhishma). It is a dialogue between prince **Arjuna** and the god **Krishna**, who serves as his charioteer. The Gita addresses the moral and philosophical dilemmas faced by Arjuna as he prepares to go into battle in the Kurukshetra War, where he is conflicted about fighting against his own relatives, teachers, and friends.\n",
      "\n",
      "**Historical Context**: The Bhagavad Gita takes place on the battlefield of Kurukshetra, where two sets of cousins, the **Pandavas** and the **Kauravas**, are poised for battle. Arjuna, a warrior prince of the Pandavas, is overwhelmed by doubt and moral confusion about the war. In the midst of this internal conflict, Krishna, who is an incarnation of the divine, offers guidance and wisdom that transcends the immediate situation, focusing on life, duty, and the nature of existence.\n",
      "\n",
      "**Key Themes**: \n",
      "1. **Dharma (Righteous Duty)**: Arjuna's dilemma is rooted in his understanding of his *dharma*, or duty as a warrior. Krishna explains that one's duty should be performed without attachment to outcomes, highlighting the importance of righteousness and moral action in accordance with one’s role in society.\n",
      "\n",
      "2. **Karma Yoga (The Path of Selfless Action)**: One of the central teachings of the Gita is *karma yoga*, the yoga of selfless action. Krishna advises Arjuna to act according to his duty, without concern for the results, as true detachment comes from performing actions selflessly and without desire for personal gain.\n",
      "\n",
      "3. **Bhakti Yoga (The Path of Devotion)**: The Gita also emphasizes the power of devotion to God, or *bhakti*. Krishna teaches that surrendering oneself to God with complete faith and devotion leads to liberation from the cycle of birth and death (samsara). \n",
      "\n",
      "4. **Jnana Yoga (The Path of Knowledge)**: Krishna encourages Arjuna to cultivate *jnana* or knowledge of the self, revealing the nature of reality, the eternal soul (Atman), and the Supreme (Brahman). Understanding the true nature of existence, Krishna asserts, can lead one to liberation (moksha).\n",
      "\n",
      "5. **Atman (The Soul)**: One of the fundamental teachings of the Bhagavad Gita is the eternal nature of the soul. Krishna explains that the soul is indestructible and cannot be harmed by physical death. This teaching provides Arjuna with the courage to fight in the war, knowing that his loved ones' souls will continue to exist beyond their physical bodies.\n",
      "\n",
      "6. **Yoga (Union)**: The Gita teaches various forms of *yoga*, which are spiritual disciplines aimed at achieving union with the divine. These paths include *karma yoga*, *bhakti yoga*, *jnana yoga*, and *raja yoga* (the path of meditation), all of which lead to self-realization and liberation.\n",
      "\n",
      "**Philosophical Insights**: Throughout the Gita, Krishna explains the nature of the material world and the self. He reveals the idea that the universe is governed by the laws of nature and that everything in the world is transient. Understanding this impermanence allows individuals to act with greater wisdom, without attachment to worldly desires. Krishna encourages Arjuna to focus on his higher purpose, which is spiritual liberation rather than material success.\n",
      "\n",
      "**The Vision of the Universal Form**: One of the most profound moments in the Bhagavad Gita is when Krishna reveals his *Vishvarupa* (universal form) to Arjuna. This divine manifestation shows that Krishna is the eternal, all-encompassing reality behind all creation. Arjuna realizes that the outcome of the battle is already determined in the divine order, and that Krishna's will must unfold regardless of human actions.\n",
      "\n",
      "**The Nature of God**: The Bhagavad Gita portrays Krishna as both immanent and transcendent. While he is the charioteer and guide to Arjuna, he also reveals himself as the Supreme Being, beyond all dualities and forms. This divine presence signifies that the Supreme is both within and beyond all things, and true liberation can be attained through devotion to God.\n",
      "\n",
      "**Key Teachings and Practical Applications**:\n",
      "- **Equanimity in Adversity**: Krishna teaches Arjuna to maintain mental balance and equanimity, regardless of the ups and downs of life. This includes not being disturbed by success or failure, pleasure or pain.\n",
      "- **Focus on the Present**: The Gita emphasizes the importance of living in the present moment. By focusing on one’s duties and actions, without attachment to past or future, individuals can achieve peace and clarity.\n",
      "- **Self-Realization**: The ultimate goal of the Gita is to guide individuals toward self-realization and the understanding of their true nature. By recognizing oneself as the eternal soul (Atman), one can transcend the ego and material desires.\n",
      "\n",
      "**The End of the Gita**: The Gita concludes with Arjuna gaining clarity and understanding from Krishna’s teachings. He overcomes his doubts and moral dilemmas and prepares to fight in the battle. The Gita ends with Arjuna's resolve to act in accordance with his duty, embodying the principles of selfless action, devotion, and knowledge imparted by Krishna.\n",
      "\n",
      "**Impact and Legacy**: The Bhagavad Gita has had a profound influence on Indian philosophy and spirituality. It has been interpreted and commented upon by numerous scholars and spiritual leaders, including Adi Shankaracharya, Ramanuja, and more recently, Mahatma Gandhi, who considered the Gita as a guiding light for his philosophy of nonviolence and truth.\n",
      "\n",
      "The Bhagavad Gita continues to inspire millions around the world, providing practical and philosophical wisdom that is applicable to daily life. Whether one is seeking guidance on personal dilemmas, spiritual growth, or understanding the nature of the universe, the Gita offers timeless insights that remain relevant in the modern world.\n",
      "\n",
      "In essence, the Bhagavad Gita teaches that life is not merely about the pursuit of material success, but the realization of our divine nature and our connection to the Supreme. Through devotion, knowledge, and righteous action, individuals can achieve liberation and find inner peace.\n"
     ]
    }
   ],
   "source": [
    "print(page_content)"
   ]
  },
  {
   "cell_type": "markdown",
   "metadata": {},
   "source": [
    "# Csv file "
   ]
  },
  {
   "cell_type": "code",
   "execution_count": 11,
   "metadata": {},
   "outputs": [],
   "source": [
    "\n",
    "from langchain_community.document_loaders import CSVLoader"
   ]
  },
  {
   "cell_type": "code",
   "execution_count": 12,
   "metadata": {},
   "outputs": [],
   "source": [
    "loader = CSVLoader('heart.csv')\n",
    "loaded_data = loader.load()"
   ]
  },
  {
   "cell_type": "code",
   "execution_count": 13,
   "metadata": {},
   "outputs": [
    {
     "data": {
      "text/plain": [
       "[Document(metadata={'source': 'heart.csv', 'row': 0}, page_content='age: 63\\nsex: 1\\ncp: 3\\ntrestbps: 145\\nchol: 233\\nfbs: 1\\nrestecg: 0\\nthalach: 150\\nexang: 0\\noldpeak: 2.3\\nslope: 0\\nca: 0\\nthal: 1\\ntarget: 1'),\n",
       " Document(metadata={'source': 'heart.csv', 'row': 1}, page_content='age: 37\\nsex: 1\\ncp: 2\\ntrestbps: 130\\nchol: 250\\nfbs: 0\\nrestecg: 1\\nthalach: 187\\nexang: 0\\noldpeak: 3.5\\nslope: 0\\nca: 0\\nthal: 2\\ntarget: 1'),\n",
       " Document(metadata={'source': 'heart.csv', 'row': 2}, page_content='age: 41\\nsex: 0\\ncp: 1\\ntrestbps: 130\\nchol: 204\\nfbs: 0\\nrestecg: 0\\nthalach: 172\\nexang: 0\\noldpeak: 1.4\\nslope: 2\\nca: 0\\nthal: 2\\ntarget: 1'),\n",
       " Document(metadata={'source': 'heart.csv', 'row': 3}, page_content='age: 56\\nsex: 1\\ncp: 1\\ntrestbps: 120\\nchol: 236\\nfbs: 0\\nrestecg: 1\\nthalach: 178\\nexang: 0\\noldpeak: 0.8\\nslope: 2\\nca: 0\\nthal: 2\\ntarget: 1'),\n",
       " Document(metadata={'source': 'heart.csv', 'row': 4}, page_content='age: 57\\nsex: 0\\ncp: 0\\ntrestbps: 120\\nchol: 354\\nfbs: 0\\nrestecg: 1\\nthalach: 163\\nexang: 1\\noldpeak: 0.6\\nslope: 2\\nca: 0\\nthal: 2\\ntarget: 1'),\n",
       " Document(metadata={'source': 'heart.csv', 'row': 5}, page_content='age: 57\\nsex: 1\\ncp: 0\\ntrestbps: 140\\nchol: 192\\nfbs: 0\\nrestecg: 1\\nthalach: 148\\nexang: 0\\noldpeak: 0.4\\nslope: 1\\nca: 0\\nthal: 1\\ntarget: 1'),\n",
       " Document(metadata={'source': 'heart.csv', 'row': 6}, page_content='age: 56\\nsex: 0\\ncp: 1\\ntrestbps: 140\\nchol: 294\\nfbs: 0\\nrestecg: 0\\nthalach: 153\\nexang: 0\\noldpeak: 1.3\\nslope: 1\\nca: 0\\nthal: 2\\ntarget: 1'),\n",
       " Document(metadata={'source': 'heart.csv', 'row': 7}, page_content='age: 44\\nsex: 1\\ncp: 1\\ntrestbps: 120\\nchol: 263\\nfbs: 0\\nrestecg: 1\\nthalach: 173\\nexang: 0\\noldpeak: 0\\nslope: 2\\nca: 0\\nthal: 3\\ntarget: 1'),\n",
       " Document(metadata={'source': 'heart.csv', 'row': 8}, page_content='age: 52\\nsex: 1\\ncp: 2\\ntrestbps: 172\\nchol: 199\\nfbs: 1\\nrestecg: 1\\nthalach: 162\\nexang: 0\\noldpeak: 0.5\\nslope: 2\\nca: 0\\nthal: 3\\ntarget: 1'),\n",
       " Document(metadata={'source': 'heart.csv', 'row': 9}, page_content='age: 57\\nsex: 1\\ncp: 2\\ntrestbps: 150\\nchol: 168\\nfbs: 0\\nrestecg: 1\\nthalach: 174\\nexang: 0\\noldpeak: 1.6\\nslope: 2\\nca: 0\\nthal: 2\\ntarget: 1'),\n",
       " Document(metadata={'source': 'heart.csv', 'row': 10}, page_content='age: 54\\nsex: 1\\ncp: 0\\ntrestbps: 140\\nchol: 239\\nfbs: 0\\nrestecg: 1\\nthalach: 160\\nexang: 0\\noldpeak: 1.2\\nslope: 2\\nca: 0\\nthal: 2\\ntarget: 1'),\n",
       " Document(metadata={'source': 'heart.csv', 'row': 11}, page_content='age: 48\\nsex: 0\\ncp: 2\\ntrestbps: 130\\nchol: 275\\nfbs: 0\\nrestecg: 1\\nthalach: 139\\nexang: 0\\noldpeak: 0.2\\nslope: 2\\nca: 0\\nthal: 2\\ntarget: 1'),\n",
       " Document(metadata={'source': 'heart.csv', 'row': 12}, page_content='age: 49\\nsex: 1\\ncp: 1\\ntrestbps: 130\\nchol: 266\\nfbs: 0\\nrestecg: 1\\nthalach: 171\\nexang: 0\\noldpeak: 0.6\\nslope: 2\\nca: 0\\nthal: 2\\ntarget: 1'),\n",
       " Document(metadata={'source': 'heart.csv', 'row': 13}, page_content='age: 64\\nsex: 1\\ncp: 3\\ntrestbps: 110\\nchol: 211\\nfbs: 0\\nrestecg: 0\\nthalach: 144\\nexang: 1\\noldpeak: 1.8\\nslope: 1\\nca: 0\\nthal: 2\\ntarget: 1'),\n",
       " Document(metadata={'source': 'heart.csv', 'row': 14}, page_content='age: 58\\nsex: 0\\ncp: 3\\ntrestbps: 150\\nchol: 283\\nfbs: 1\\nrestecg: 0\\nthalach: 162\\nexang: 0\\noldpeak: 1\\nslope: 2\\nca: 0\\nthal: 2\\ntarget: 1'),\n",
       " Document(metadata={'source': 'heart.csv', 'row': 15}, page_content='age: 50\\nsex: 0\\ncp: 2\\ntrestbps: 120\\nchol: 219\\nfbs: 0\\nrestecg: 1\\nthalach: 158\\nexang: 0\\noldpeak: 1.6\\nslope: 1\\nca: 0\\nthal: 2\\ntarget: 1'),\n",
       " Document(metadata={'source': 'heart.csv', 'row': 16}, page_content='age: 58\\nsex: 0\\ncp: 2\\ntrestbps: 120\\nchol: 340\\nfbs: 0\\nrestecg: 1\\nthalach: 172\\nexang: 0\\noldpeak: 0\\nslope: 2\\nca: 0\\nthal: 2\\ntarget: 1'),\n",
       " Document(metadata={'source': 'heart.csv', 'row': 17}, page_content='age: 66\\nsex: 0\\ncp: 3\\ntrestbps: 150\\nchol: 226\\nfbs: 0\\nrestecg: 1\\nthalach: 114\\nexang: 0\\noldpeak: 2.6\\nslope: 0\\nca: 0\\nthal: 2\\ntarget: 1'),\n",
       " Document(metadata={'source': 'heart.csv', 'row': 18}, page_content='age: 43\\nsex: 1\\ncp: 0\\ntrestbps: 150\\nchol: 247\\nfbs: 0\\nrestecg: 1\\nthalach: 171\\nexang: 0\\noldpeak: 1.5\\nslope: 2\\nca: 0\\nthal: 2\\ntarget: 1'),\n",
       " Document(metadata={'source': 'heart.csv', 'row': 19}, page_content='age: 69\\nsex: 0\\ncp: 3\\ntrestbps: 140\\nchol: 239\\nfbs: 0\\nrestecg: 1\\nthalach: 151\\nexang: 0\\noldpeak: 1.8\\nslope: 2\\nca: 2\\nthal: 2\\ntarget: 1'),\n",
       " Document(metadata={'source': 'heart.csv', 'row': 20}, page_content='age: 59\\nsex: 1\\ncp: 0\\ntrestbps: 135\\nchol: 234\\nfbs: 0\\nrestecg: 1\\nthalach: 161\\nexang: 0\\noldpeak: 0.5\\nslope: 1\\nca: 0\\nthal: 3\\ntarget: 1'),\n",
       " Document(metadata={'source': 'heart.csv', 'row': 21}, page_content='age: 44\\nsex: 1\\ncp: 2\\ntrestbps: 130\\nchol: 233\\nfbs: 0\\nrestecg: 1\\nthalach: 179\\nexang: 1\\noldpeak: 0.4\\nslope: 2\\nca: 0\\nthal: 2\\ntarget: 1'),\n",
       " Document(metadata={'source': 'heart.csv', 'row': 22}, page_content='age: 42\\nsex: 1\\ncp: 0\\ntrestbps: 140\\nchol: 226\\nfbs: 0\\nrestecg: 1\\nthalach: 178\\nexang: 0\\noldpeak: 0\\nslope: 2\\nca: 0\\nthal: 2\\ntarget: 1'),\n",
       " Document(metadata={'source': 'heart.csv', 'row': 23}, page_content='age: 61\\nsex: 1\\ncp: 2\\ntrestbps: 150\\nchol: 243\\nfbs: 1\\nrestecg: 1\\nthalach: 137\\nexang: 1\\noldpeak: 1\\nslope: 1\\nca: 0\\nthal: 2\\ntarget: 1'),\n",
       " Document(metadata={'source': 'heart.csv', 'row': 24}, page_content='age: 40\\nsex: 1\\ncp: 3\\ntrestbps: 140\\nchol: 199\\nfbs: 0\\nrestecg: 1\\nthalach: 178\\nexang: 1\\noldpeak: 1.4\\nslope: 2\\nca: 0\\nthal: 3\\ntarget: 1'),\n",
       " Document(metadata={'source': 'heart.csv', 'row': 25}, page_content='age: 71\\nsex: 0\\ncp: 1\\ntrestbps: 160\\nchol: 302\\nfbs: 0\\nrestecg: 1\\nthalach: 162\\nexang: 0\\noldpeak: 0.4\\nslope: 2\\nca: 2\\nthal: 2\\ntarget: 1'),\n",
       " Document(metadata={'source': 'heart.csv', 'row': 26}, page_content='age: 59\\nsex: 1\\ncp: 2\\ntrestbps: 150\\nchol: 212\\nfbs: 1\\nrestecg: 1\\nthalach: 157\\nexang: 0\\noldpeak: 1.6\\nslope: 2\\nca: 0\\nthal: 2\\ntarget: 1'),\n",
       " Document(metadata={'source': 'heart.csv', 'row': 27}, page_content='age: 51\\nsex: 1\\ncp: 2\\ntrestbps: 110\\nchol: 175\\nfbs: 0\\nrestecg: 1\\nthalach: 123\\nexang: 0\\noldpeak: 0.6\\nslope: 2\\nca: 0\\nthal: 2\\ntarget: 1'),\n",
       " Document(metadata={'source': 'heart.csv', 'row': 28}, page_content='age: 65\\nsex: 0\\ncp: 2\\ntrestbps: 140\\nchol: 417\\nfbs: 1\\nrestecg: 0\\nthalach: 157\\nexang: 0\\noldpeak: 0.8\\nslope: 2\\nca: 1\\nthal: 2\\ntarget: 1'),\n",
       " Document(metadata={'source': 'heart.csv', 'row': 29}, page_content='age: 53\\nsex: 1\\ncp: 2\\ntrestbps: 130\\nchol: 197\\nfbs: 1\\nrestecg: 0\\nthalach: 152\\nexang: 0\\noldpeak: 1.2\\nslope: 0\\nca: 0\\nthal: 2\\ntarget: 1'),\n",
       " Document(metadata={'source': 'heart.csv', 'row': 30}, page_content='age: 41\\nsex: 0\\ncp: 1\\ntrestbps: 105\\nchol: 198\\nfbs: 0\\nrestecg: 1\\nthalach: 168\\nexang: 0\\noldpeak: 0\\nslope: 2\\nca: 1\\nthal: 2\\ntarget: 1'),\n",
       " Document(metadata={'source': 'heart.csv', 'row': 31}, page_content='age: 65\\nsex: 1\\ncp: 0\\ntrestbps: 120\\nchol: 177\\nfbs: 0\\nrestecg: 1\\nthalach: 140\\nexang: 0\\noldpeak: 0.4\\nslope: 2\\nca: 0\\nthal: 3\\ntarget: 1'),\n",
       " Document(metadata={'source': 'heart.csv', 'row': 32}, page_content='age: 44\\nsex: 1\\ncp: 1\\ntrestbps: 130\\nchol: 219\\nfbs: 0\\nrestecg: 0\\nthalach: 188\\nexang: 0\\noldpeak: 0\\nslope: 2\\nca: 0\\nthal: 2\\ntarget: 1'),\n",
       " Document(metadata={'source': 'heart.csv', 'row': 33}, page_content='age: 54\\nsex: 1\\ncp: 2\\ntrestbps: 125\\nchol: 273\\nfbs: 0\\nrestecg: 0\\nthalach: 152\\nexang: 0\\noldpeak: 0.5\\nslope: 0\\nca: 1\\nthal: 2\\ntarget: 1'),\n",
       " Document(metadata={'source': 'heart.csv', 'row': 34}, page_content='age: 51\\nsex: 1\\ncp: 3\\ntrestbps: 125\\nchol: 213\\nfbs: 0\\nrestecg: 0\\nthalach: 125\\nexang: 1\\noldpeak: 1.4\\nslope: 2\\nca: 1\\nthal: 2\\ntarget: 1'),\n",
       " Document(metadata={'source': 'heart.csv', 'row': 35}, page_content='age: 46\\nsex: 0\\ncp: 2\\ntrestbps: 142\\nchol: 177\\nfbs: 0\\nrestecg: 0\\nthalach: 160\\nexang: 1\\noldpeak: 1.4\\nslope: 0\\nca: 0\\nthal: 2\\ntarget: 1'),\n",
       " Document(metadata={'source': 'heart.csv', 'row': 36}, page_content='age: 54\\nsex: 0\\ncp: 2\\ntrestbps: 135\\nchol: 304\\nfbs: 1\\nrestecg: 1\\nthalach: 170\\nexang: 0\\noldpeak: 0\\nslope: 2\\nca: 0\\nthal: 2\\ntarget: 1'),\n",
       " Document(metadata={'source': 'heart.csv', 'row': 37}, page_content='age: 54\\nsex: 1\\ncp: 2\\ntrestbps: 150\\nchol: 232\\nfbs: 0\\nrestecg: 0\\nthalach: 165\\nexang: 0\\noldpeak: 1.6\\nslope: 2\\nca: 0\\nthal: 3\\ntarget: 1'),\n",
       " Document(metadata={'source': 'heart.csv', 'row': 38}, page_content='age: 65\\nsex: 0\\ncp: 2\\ntrestbps: 155\\nchol: 269\\nfbs: 0\\nrestecg: 1\\nthalach: 148\\nexang: 0\\noldpeak: 0.8\\nslope: 2\\nca: 0\\nthal: 2\\ntarget: 1'),\n",
       " Document(metadata={'source': 'heart.csv', 'row': 39}, page_content='age: 65\\nsex: 0\\ncp: 2\\ntrestbps: 160\\nchol: 360\\nfbs: 0\\nrestecg: 0\\nthalach: 151\\nexang: 0\\noldpeak: 0.8\\nslope: 2\\nca: 0\\nthal: 2\\ntarget: 1'),\n",
       " Document(metadata={'source': 'heart.csv', 'row': 40}, page_content='age: 51\\nsex: 0\\ncp: 2\\ntrestbps: 140\\nchol: 308\\nfbs: 0\\nrestecg: 0\\nthalach: 142\\nexang: 0\\noldpeak: 1.5\\nslope: 2\\nca: 1\\nthal: 2\\ntarget: 1'),\n",
       " Document(metadata={'source': 'heart.csv', 'row': 41}, page_content='age: 48\\nsex: 1\\ncp: 1\\ntrestbps: 130\\nchol: 245\\nfbs: 0\\nrestecg: 0\\nthalach: 180\\nexang: 0\\noldpeak: 0.2\\nslope: 1\\nca: 0\\nthal: 2\\ntarget: 1'),\n",
       " Document(metadata={'source': 'heart.csv', 'row': 42}, page_content='age: 45\\nsex: 1\\ncp: 0\\ntrestbps: 104\\nchol: 208\\nfbs: 0\\nrestecg: 0\\nthalach: 148\\nexang: 1\\noldpeak: 3\\nslope: 1\\nca: 0\\nthal: 2\\ntarget: 1'),\n",
       " Document(metadata={'source': 'heart.csv', 'row': 43}, page_content='age: 53\\nsex: 0\\ncp: 0\\ntrestbps: 130\\nchol: 264\\nfbs: 0\\nrestecg: 0\\nthalach: 143\\nexang: 0\\noldpeak: 0.4\\nslope: 1\\nca: 0\\nthal: 2\\ntarget: 1'),\n",
       " Document(metadata={'source': 'heart.csv', 'row': 44}, page_content='age: 39\\nsex: 1\\ncp: 2\\ntrestbps: 140\\nchol: 321\\nfbs: 0\\nrestecg: 0\\nthalach: 182\\nexang: 0\\noldpeak: 0\\nslope: 2\\nca: 0\\nthal: 2\\ntarget: 1'),\n",
       " Document(metadata={'source': 'heart.csv', 'row': 45}, page_content='age: 52\\nsex: 1\\ncp: 1\\ntrestbps: 120\\nchol: 325\\nfbs: 0\\nrestecg: 1\\nthalach: 172\\nexang: 0\\noldpeak: 0.2\\nslope: 2\\nca: 0\\nthal: 2\\ntarget: 1'),\n",
       " Document(metadata={'source': 'heart.csv', 'row': 46}, page_content='age: 44\\nsex: 1\\ncp: 2\\ntrestbps: 140\\nchol: 235\\nfbs: 0\\nrestecg: 0\\nthalach: 180\\nexang: 0\\noldpeak: 0\\nslope: 2\\nca: 0\\nthal: 2\\ntarget: 1'),\n",
       " Document(metadata={'source': 'heart.csv', 'row': 47}, page_content='age: 47\\nsex: 1\\ncp: 2\\ntrestbps: 138\\nchol: 257\\nfbs: 0\\nrestecg: 0\\nthalach: 156\\nexang: 0\\noldpeak: 0\\nslope: 2\\nca: 0\\nthal: 2\\ntarget: 1'),\n",
       " Document(metadata={'source': 'heart.csv', 'row': 48}, page_content='age: 53\\nsex: 0\\ncp: 2\\ntrestbps: 128\\nchol: 216\\nfbs: 0\\nrestecg: 0\\nthalach: 115\\nexang: 0\\noldpeak: 0\\nslope: 2\\nca: 0\\nthal: 0\\ntarget: 1'),\n",
       " Document(metadata={'source': 'heart.csv', 'row': 49}, page_content='age: 53\\nsex: 0\\ncp: 0\\ntrestbps: 138\\nchol: 234\\nfbs: 0\\nrestecg: 0\\nthalach: 160\\nexang: 0\\noldpeak: 0\\nslope: 2\\nca: 0\\nthal: 2\\ntarget: 1'),\n",
       " Document(metadata={'source': 'heart.csv', 'row': 50}, page_content='age: 51\\nsex: 0\\ncp: 2\\ntrestbps: 130\\nchol: 256\\nfbs: 0\\nrestecg: 0\\nthalach: 149\\nexang: 0\\noldpeak: 0.5\\nslope: 2\\nca: 0\\nthal: 2\\ntarget: 1'),\n",
       " Document(metadata={'source': 'heart.csv', 'row': 51}, page_content='age: 66\\nsex: 1\\ncp: 0\\ntrestbps: 120\\nchol: 302\\nfbs: 0\\nrestecg: 0\\nthalach: 151\\nexang: 0\\noldpeak: 0.4\\nslope: 1\\nca: 0\\nthal: 2\\ntarget: 1'),\n",
       " Document(metadata={'source': 'heart.csv', 'row': 52}, page_content='age: 62\\nsex: 1\\ncp: 2\\ntrestbps: 130\\nchol: 231\\nfbs: 0\\nrestecg: 1\\nthalach: 146\\nexang: 0\\noldpeak: 1.8\\nslope: 1\\nca: 3\\nthal: 3\\ntarget: 1'),\n",
       " Document(metadata={'source': 'heart.csv', 'row': 53}, page_content='age: 44\\nsex: 0\\ncp: 2\\ntrestbps: 108\\nchol: 141\\nfbs: 0\\nrestecg: 1\\nthalach: 175\\nexang: 0\\noldpeak: 0.6\\nslope: 1\\nca: 0\\nthal: 2\\ntarget: 1'),\n",
       " Document(metadata={'source': 'heart.csv', 'row': 54}, page_content='age: 63\\nsex: 0\\ncp: 2\\ntrestbps: 135\\nchol: 252\\nfbs: 0\\nrestecg: 0\\nthalach: 172\\nexang: 0\\noldpeak: 0\\nslope: 2\\nca: 0\\nthal: 2\\ntarget: 1'),\n",
       " Document(metadata={'source': 'heart.csv', 'row': 55}, page_content='age: 52\\nsex: 1\\ncp: 1\\ntrestbps: 134\\nchol: 201\\nfbs: 0\\nrestecg: 1\\nthalach: 158\\nexang: 0\\noldpeak: 0.8\\nslope: 2\\nca: 1\\nthal: 2\\ntarget: 1'),\n",
       " Document(metadata={'source': 'heart.csv', 'row': 56}, page_content='age: 48\\nsex: 1\\ncp: 0\\ntrestbps: 122\\nchol: 222\\nfbs: 0\\nrestecg: 0\\nthalach: 186\\nexang: 0\\noldpeak: 0\\nslope: 2\\nca: 0\\nthal: 2\\ntarget: 1'),\n",
       " Document(metadata={'source': 'heart.csv', 'row': 57}, page_content='age: 45\\nsex: 1\\ncp: 0\\ntrestbps: 115\\nchol: 260\\nfbs: 0\\nrestecg: 0\\nthalach: 185\\nexang: 0\\noldpeak: 0\\nslope: 2\\nca: 0\\nthal: 2\\ntarget: 1'),\n",
       " Document(metadata={'source': 'heart.csv', 'row': 58}, page_content='age: 34\\nsex: 1\\ncp: 3\\ntrestbps: 118\\nchol: 182\\nfbs: 0\\nrestecg: 0\\nthalach: 174\\nexang: 0\\noldpeak: 0\\nslope: 2\\nca: 0\\nthal: 2\\ntarget: 1'),\n",
       " Document(metadata={'source': 'heart.csv', 'row': 59}, page_content='age: 57\\nsex: 0\\ncp: 0\\ntrestbps: 128\\nchol: 303\\nfbs: 0\\nrestecg: 0\\nthalach: 159\\nexang: 0\\noldpeak: 0\\nslope: 2\\nca: 1\\nthal: 2\\ntarget: 1'),\n",
       " Document(metadata={'source': 'heart.csv', 'row': 60}, page_content='age: 71\\nsex: 0\\ncp: 2\\ntrestbps: 110\\nchol: 265\\nfbs: 1\\nrestecg: 0\\nthalach: 130\\nexang: 0\\noldpeak: 0\\nslope: 2\\nca: 1\\nthal: 2\\ntarget: 1'),\n",
       " Document(metadata={'source': 'heart.csv', 'row': 61}, page_content='age: 54\\nsex: 1\\ncp: 1\\ntrestbps: 108\\nchol: 309\\nfbs: 0\\nrestecg: 1\\nthalach: 156\\nexang: 0\\noldpeak: 0\\nslope: 2\\nca: 0\\nthal: 3\\ntarget: 1'),\n",
       " Document(metadata={'source': 'heart.csv', 'row': 62}, page_content='age: 52\\nsex: 1\\ncp: 3\\ntrestbps: 118\\nchol: 186\\nfbs: 0\\nrestecg: 0\\nthalach: 190\\nexang: 0\\noldpeak: 0\\nslope: 1\\nca: 0\\nthal: 1\\ntarget: 1'),\n",
       " Document(metadata={'source': 'heart.csv', 'row': 63}, page_content='age: 41\\nsex: 1\\ncp: 1\\ntrestbps: 135\\nchol: 203\\nfbs: 0\\nrestecg: 1\\nthalach: 132\\nexang: 0\\noldpeak: 0\\nslope: 1\\nca: 0\\nthal: 1\\ntarget: 1'),\n",
       " Document(metadata={'source': 'heart.csv', 'row': 64}, page_content='age: 58\\nsex: 1\\ncp: 2\\ntrestbps: 140\\nchol: 211\\nfbs: 1\\nrestecg: 0\\nthalach: 165\\nexang: 0\\noldpeak: 0\\nslope: 2\\nca: 0\\nthal: 2\\ntarget: 1'),\n",
       " Document(metadata={'source': 'heart.csv', 'row': 65}, page_content='age: 35\\nsex: 0\\ncp: 0\\ntrestbps: 138\\nchol: 183\\nfbs: 0\\nrestecg: 1\\nthalach: 182\\nexang: 0\\noldpeak: 1.4\\nslope: 2\\nca: 0\\nthal: 2\\ntarget: 1'),\n",
       " Document(metadata={'source': 'heart.csv', 'row': 66}, page_content='age: 51\\nsex: 1\\ncp: 2\\ntrestbps: 100\\nchol: 222\\nfbs: 0\\nrestecg: 1\\nthalach: 143\\nexang: 1\\noldpeak: 1.2\\nslope: 1\\nca: 0\\nthal: 2\\ntarget: 1'),\n",
       " Document(metadata={'source': 'heart.csv', 'row': 67}, page_content='age: 45\\nsex: 0\\ncp: 1\\ntrestbps: 130\\nchol: 234\\nfbs: 0\\nrestecg: 0\\nthalach: 175\\nexang: 0\\noldpeak: 0.6\\nslope: 1\\nca: 0\\nthal: 2\\ntarget: 1'),\n",
       " Document(metadata={'source': 'heart.csv', 'row': 68}, page_content='age: 44\\nsex: 1\\ncp: 1\\ntrestbps: 120\\nchol: 220\\nfbs: 0\\nrestecg: 1\\nthalach: 170\\nexang: 0\\noldpeak: 0\\nslope: 2\\nca: 0\\nthal: 2\\ntarget: 1'),\n",
       " Document(metadata={'source': 'heart.csv', 'row': 69}, page_content='age: 62\\nsex: 0\\ncp: 0\\ntrestbps: 124\\nchol: 209\\nfbs: 0\\nrestecg: 1\\nthalach: 163\\nexang: 0\\noldpeak: 0\\nslope: 2\\nca: 0\\nthal: 2\\ntarget: 1'),\n",
       " Document(metadata={'source': 'heart.csv', 'row': 70}, page_content='age: 54\\nsex: 1\\ncp: 2\\ntrestbps: 120\\nchol: 258\\nfbs: 0\\nrestecg: 0\\nthalach: 147\\nexang: 0\\noldpeak: 0.4\\nslope: 1\\nca: 0\\nthal: 3\\ntarget: 1'),\n",
       " Document(metadata={'source': 'heart.csv', 'row': 71}, page_content='age: 51\\nsex: 1\\ncp: 2\\ntrestbps: 94\\nchol: 227\\nfbs: 0\\nrestecg: 1\\nthalach: 154\\nexang: 1\\noldpeak: 0\\nslope: 2\\nca: 1\\nthal: 3\\ntarget: 1'),\n",
       " Document(metadata={'source': 'heart.csv', 'row': 72}, page_content='age: 29\\nsex: 1\\ncp: 1\\ntrestbps: 130\\nchol: 204\\nfbs: 0\\nrestecg: 0\\nthalach: 202\\nexang: 0\\noldpeak: 0\\nslope: 2\\nca: 0\\nthal: 2\\ntarget: 1'),\n",
       " Document(metadata={'source': 'heart.csv', 'row': 73}, page_content='age: 51\\nsex: 1\\ncp: 0\\ntrestbps: 140\\nchol: 261\\nfbs: 0\\nrestecg: 0\\nthalach: 186\\nexang: 1\\noldpeak: 0\\nslope: 2\\nca: 0\\nthal: 2\\ntarget: 1'),\n",
       " Document(metadata={'source': 'heart.csv', 'row': 74}, page_content='age: 43\\nsex: 0\\ncp: 2\\ntrestbps: 122\\nchol: 213\\nfbs: 0\\nrestecg: 1\\nthalach: 165\\nexang: 0\\noldpeak: 0.2\\nslope: 1\\nca: 0\\nthal: 2\\ntarget: 1'),\n",
       " Document(metadata={'source': 'heart.csv', 'row': 75}, page_content='age: 55\\nsex: 0\\ncp: 1\\ntrestbps: 135\\nchol: 250\\nfbs: 0\\nrestecg: 0\\nthalach: 161\\nexang: 0\\noldpeak: 1.4\\nslope: 1\\nca: 0\\nthal: 2\\ntarget: 1'),\n",
       " Document(metadata={'source': 'heart.csv', 'row': 76}, page_content='age: 51\\nsex: 1\\ncp: 2\\ntrestbps: 125\\nchol: 245\\nfbs: 1\\nrestecg: 0\\nthalach: 166\\nexang: 0\\noldpeak: 2.4\\nslope: 1\\nca: 0\\nthal: 2\\ntarget: 1'),\n",
       " Document(metadata={'source': 'heart.csv', 'row': 77}, page_content='age: 59\\nsex: 1\\ncp: 1\\ntrestbps: 140\\nchol: 221\\nfbs: 0\\nrestecg: 1\\nthalach: 164\\nexang: 1\\noldpeak: 0\\nslope: 2\\nca: 0\\nthal: 2\\ntarget: 1'),\n",
       " Document(metadata={'source': 'heart.csv', 'row': 78}, page_content='age: 52\\nsex: 1\\ncp: 1\\ntrestbps: 128\\nchol: 205\\nfbs: 1\\nrestecg: 1\\nthalach: 184\\nexang: 0\\noldpeak: 0\\nslope: 2\\nca: 0\\nthal: 2\\ntarget: 1'),\n",
       " Document(metadata={'source': 'heart.csv', 'row': 79}, page_content='age: 58\\nsex: 1\\ncp: 2\\ntrestbps: 105\\nchol: 240\\nfbs: 0\\nrestecg: 0\\nthalach: 154\\nexang: 1\\noldpeak: 0.6\\nslope: 1\\nca: 0\\nthal: 3\\ntarget: 1'),\n",
       " Document(metadata={'source': 'heart.csv', 'row': 80}, page_content='age: 41\\nsex: 1\\ncp: 2\\ntrestbps: 112\\nchol: 250\\nfbs: 0\\nrestecg: 1\\nthalach: 179\\nexang: 0\\noldpeak: 0\\nslope: 2\\nca: 0\\nthal: 2\\ntarget: 1'),\n",
       " Document(metadata={'source': 'heart.csv', 'row': 81}, page_content='age: 45\\nsex: 1\\ncp: 1\\ntrestbps: 128\\nchol: 308\\nfbs: 0\\nrestecg: 0\\nthalach: 170\\nexang: 0\\noldpeak: 0\\nslope: 2\\nca: 0\\nthal: 2\\ntarget: 1'),\n",
       " Document(metadata={'source': 'heart.csv', 'row': 82}, page_content='age: 60\\nsex: 0\\ncp: 2\\ntrestbps: 102\\nchol: 318\\nfbs: 0\\nrestecg: 1\\nthalach: 160\\nexang: 0\\noldpeak: 0\\nslope: 2\\nca: 1\\nthal: 2\\ntarget: 1'),\n",
       " Document(metadata={'source': 'heart.csv', 'row': 83}, page_content='age: 52\\nsex: 1\\ncp: 3\\ntrestbps: 152\\nchol: 298\\nfbs: 1\\nrestecg: 1\\nthalach: 178\\nexang: 0\\noldpeak: 1.2\\nslope: 1\\nca: 0\\nthal: 3\\ntarget: 1'),\n",
       " Document(metadata={'source': 'heart.csv', 'row': 84}, page_content='age: 42\\nsex: 0\\ncp: 0\\ntrestbps: 102\\nchol: 265\\nfbs: 0\\nrestecg: 0\\nthalach: 122\\nexang: 0\\noldpeak: 0.6\\nslope: 1\\nca: 0\\nthal: 2\\ntarget: 1'),\n",
       " Document(metadata={'source': 'heart.csv', 'row': 85}, page_content='age: 67\\nsex: 0\\ncp: 2\\ntrestbps: 115\\nchol: 564\\nfbs: 0\\nrestecg: 0\\nthalach: 160\\nexang: 0\\noldpeak: 1.6\\nslope: 1\\nca: 0\\nthal: 3\\ntarget: 1'),\n",
       " Document(metadata={'source': 'heart.csv', 'row': 86}, page_content='age: 68\\nsex: 1\\ncp: 2\\ntrestbps: 118\\nchol: 277\\nfbs: 0\\nrestecg: 1\\nthalach: 151\\nexang: 0\\noldpeak: 1\\nslope: 2\\nca: 1\\nthal: 3\\ntarget: 1'),\n",
       " Document(metadata={'source': 'heart.csv', 'row': 87}, page_content='age: 46\\nsex: 1\\ncp: 1\\ntrestbps: 101\\nchol: 197\\nfbs: 1\\nrestecg: 1\\nthalach: 156\\nexang: 0\\noldpeak: 0\\nslope: 2\\nca: 0\\nthal: 3\\ntarget: 1'),\n",
       " Document(metadata={'source': 'heart.csv', 'row': 88}, page_content='age: 54\\nsex: 0\\ncp: 2\\ntrestbps: 110\\nchol: 214\\nfbs: 0\\nrestecg: 1\\nthalach: 158\\nexang: 0\\noldpeak: 1.6\\nslope: 1\\nca: 0\\nthal: 2\\ntarget: 1'),\n",
       " Document(metadata={'source': 'heart.csv', 'row': 89}, page_content='age: 58\\nsex: 0\\ncp: 0\\ntrestbps: 100\\nchol: 248\\nfbs: 0\\nrestecg: 0\\nthalach: 122\\nexang: 0\\noldpeak: 1\\nslope: 1\\nca: 0\\nthal: 2\\ntarget: 1'),\n",
       " Document(metadata={'source': 'heart.csv', 'row': 90}, page_content='age: 48\\nsex: 1\\ncp: 2\\ntrestbps: 124\\nchol: 255\\nfbs: 1\\nrestecg: 1\\nthalach: 175\\nexang: 0\\noldpeak: 0\\nslope: 2\\nca: 2\\nthal: 2\\ntarget: 1'),\n",
       " Document(metadata={'source': 'heart.csv', 'row': 91}, page_content='age: 57\\nsex: 1\\ncp: 0\\ntrestbps: 132\\nchol: 207\\nfbs: 0\\nrestecg: 1\\nthalach: 168\\nexang: 1\\noldpeak: 0\\nslope: 2\\nca: 0\\nthal: 3\\ntarget: 1'),\n",
       " Document(metadata={'source': 'heart.csv', 'row': 92}, page_content='age: 52\\nsex: 1\\ncp: 2\\ntrestbps: 138\\nchol: 223\\nfbs: 0\\nrestecg: 1\\nthalach: 169\\nexang: 0\\noldpeak: 0\\nslope: 2\\nca: 4\\nthal: 2\\ntarget: 1'),\n",
       " Document(metadata={'source': 'heart.csv', 'row': 93}, page_content='age: 54\\nsex: 0\\ncp: 1\\ntrestbps: 132\\nchol: 288\\nfbs: 1\\nrestecg: 0\\nthalach: 159\\nexang: 1\\noldpeak: 0\\nslope: 2\\nca: 1\\nthal: 2\\ntarget: 1'),\n",
       " Document(metadata={'source': 'heart.csv', 'row': 94}, page_content='age: 45\\nsex: 0\\ncp: 1\\ntrestbps: 112\\nchol: 160\\nfbs: 0\\nrestecg: 1\\nthalach: 138\\nexang: 0\\noldpeak: 0\\nslope: 1\\nca: 0\\nthal: 2\\ntarget: 1'),\n",
       " Document(metadata={'source': 'heart.csv', 'row': 95}, page_content='age: 53\\nsex: 1\\ncp: 0\\ntrestbps: 142\\nchol: 226\\nfbs: 0\\nrestecg: 0\\nthalach: 111\\nexang: 1\\noldpeak: 0\\nslope: 2\\nca: 0\\nthal: 3\\ntarget: 1'),\n",
       " Document(metadata={'source': 'heart.csv', 'row': 96}, page_content='age: 62\\nsex: 0\\ncp: 0\\ntrestbps: 140\\nchol: 394\\nfbs: 0\\nrestecg: 0\\nthalach: 157\\nexang: 0\\noldpeak: 1.2\\nslope: 1\\nca: 0\\nthal: 2\\ntarget: 1'),\n",
       " Document(metadata={'source': 'heart.csv', 'row': 97}, page_content='age: 52\\nsex: 1\\ncp: 0\\ntrestbps: 108\\nchol: 233\\nfbs: 1\\nrestecg: 1\\nthalach: 147\\nexang: 0\\noldpeak: 0.1\\nslope: 2\\nca: 3\\nthal: 3\\ntarget: 1'),\n",
       " Document(metadata={'source': 'heart.csv', 'row': 98}, page_content='age: 43\\nsex: 1\\ncp: 2\\ntrestbps: 130\\nchol: 315\\nfbs: 0\\nrestecg: 1\\nthalach: 162\\nexang: 0\\noldpeak: 1.9\\nslope: 2\\nca: 1\\nthal: 2\\ntarget: 1'),\n",
       " Document(metadata={'source': 'heart.csv', 'row': 99}, page_content='age: 53\\nsex: 1\\ncp: 2\\ntrestbps: 130\\nchol: 246\\nfbs: 1\\nrestecg: 0\\nthalach: 173\\nexang: 0\\noldpeak: 0\\nslope: 2\\nca: 3\\nthal: 2\\ntarget: 1'),\n",
       " Document(metadata={'source': 'heart.csv', 'row': 100}, page_content='age: 42\\nsex: 1\\ncp: 3\\ntrestbps: 148\\nchol: 244\\nfbs: 0\\nrestecg: 0\\nthalach: 178\\nexang: 0\\noldpeak: 0.8\\nslope: 2\\nca: 2\\nthal: 2\\ntarget: 1'),\n",
       " Document(metadata={'source': 'heart.csv', 'row': 101}, page_content='age: 59\\nsex: 1\\ncp: 3\\ntrestbps: 178\\nchol: 270\\nfbs: 0\\nrestecg: 0\\nthalach: 145\\nexang: 0\\noldpeak: 4.2\\nslope: 0\\nca: 0\\nthal: 3\\ntarget: 1'),\n",
       " Document(metadata={'source': 'heart.csv', 'row': 102}, page_content='age: 63\\nsex: 0\\ncp: 1\\ntrestbps: 140\\nchol: 195\\nfbs: 0\\nrestecg: 1\\nthalach: 179\\nexang: 0\\noldpeak: 0\\nslope: 2\\nca: 2\\nthal: 2\\ntarget: 1'),\n",
       " Document(metadata={'source': 'heart.csv', 'row': 103}, page_content='age: 42\\nsex: 1\\ncp: 2\\ntrestbps: 120\\nchol: 240\\nfbs: 1\\nrestecg: 1\\nthalach: 194\\nexang: 0\\noldpeak: 0.8\\nslope: 0\\nca: 0\\nthal: 3\\ntarget: 1'),\n",
       " Document(metadata={'source': 'heart.csv', 'row': 104}, page_content='age: 50\\nsex: 1\\ncp: 2\\ntrestbps: 129\\nchol: 196\\nfbs: 0\\nrestecg: 1\\nthalach: 163\\nexang: 0\\noldpeak: 0\\nslope: 2\\nca: 0\\nthal: 2\\ntarget: 1'),\n",
       " Document(metadata={'source': 'heart.csv', 'row': 105}, page_content='age: 68\\nsex: 0\\ncp: 2\\ntrestbps: 120\\nchol: 211\\nfbs: 0\\nrestecg: 0\\nthalach: 115\\nexang: 0\\noldpeak: 1.5\\nslope: 1\\nca: 0\\nthal: 2\\ntarget: 1'),\n",
       " Document(metadata={'source': 'heart.csv', 'row': 106}, page_content='age: 69\\nsex: 1\\ncp: 3\\ntrestbps: 160\\nchol: 234\\nfbs: 1\\nrestecg: 0\\nthalach: 131\\nexang: 0\\noldpeak: 0.1\\nslope: 1\\nca: 1\\nthal: 2\\ntarget: 1'),\n",
       " Document(metadata={'source': 'heart.csv', 'row': 107}, page_content='age: 45\\nsex: 0\\ncp: 0\\ntrestbps: 138\\nchol: 236\\nfbs: 0\\nrestecg: 0\\nthalach: 152\\nexang: 1\\noldpeak: 0.2\\nslope: 1\\nca: 0\\nthal: 2\\ntarget: 1'),\n",
       " Document(metadata={'source': 'heart.csv', 'row': 108}, page_content='age: 50\\nsex: 0\\ncp: 1\\ntrestbps: 120\\nchol: 244\\nfbs: 0\\nrestecg: 1\\nthalach: 162\\nexang: 0\\noldpeak: 1.1\\nslope: 2\\nca: 0\\nthal: 2\\ntarget: 1'),\n",
       " Document(metadata={'source': 'heart.csv', 'row': 109}, page_content='age: 50\\nsex: 0\\ncp: 0\\ntrestbps: 110\\nchol: 254\\nfbs: 0\\nrestecg: 0\\nthalach: 159\\nexang: 0\\noldpeak: 0\\nslope: 2\\nca: 0\\nthal: 2\\ntarget: 1'),\n",
       " Document(metadata={'source': 'heart.csv', 'row': 110}, page_content='age: 64\\nsex: 0\\ncp: 0\\ntrestbps: 180\\nchol: 325\\nfbs: 0\\nrestecg: 1\\nthalach: 154\\nexang: 1\\noldpeak: 0\\nslope: 2\\nca: 0\\nthal: 2\\ntarget: 1'),\n",
       " Document(metadata={'source': 'heart.csv', 'row': 111}, page_content='age: 57\\nsex: 1\\ncp: 2\\ntrestbps: 150\\nchol: 126\\nfbs: 1\\nrestecg: 1\\nthalach: 173\\nexang: 0\\noldpeak: 0.2\\nslope: 2\\nca: 1\\nthal: 3\\ntarget: 1'),\n",
       " Document(metadata={'source': 'heart.csv', 'row': 112}, page_content='age: 64\\nsex: 0\\ncp: 2\\ntrestbps: 140\\nchol: 313\\nfbs: 0\\nrestecg: 1\\nthalach: 133\\nexang: 0\\noldpeak: 0.2\\nslope: 2\\nca: 0\\nthal: 3\\ntarget: 1'),\n",
       " Document(metadata={'source': 'heart.csv', 'row': 113}, page_content='age: 43\\nsex: 1\\ncp: 0\\ntrestbps: 110\\nchol: 211\\nfbs: 0\\nrestecg: 1\\nthalach: 161\\nexang: 0\\noldpeak: 0\\nslope: 2\\nca: 0\\nthal: 3\\ntarget: 1'),\n",
       " Document(metadata={'source': 'heart.csv', 'row': 114}, page_content='age: 55\\nsex: 1\\ncp: 1\\ntrestbps: 130\\nchol: 262\\nfbs: 0\\nrestecg: 1\\nthalach: 155\\nexang: 0\\noldpeak: 0\\nslope: 2\\nca: 0\\nthal: 2\\ntarget: 1'),\n",
       " Document(metadata={'source': 'heart.csv', 'row': 115}, page_content='age: 37\\nsex: 0\\ncp: 2\\ntrestbps: 120\\nchol: 215\\nfbs: 0\\nrestecg: 1\\nthalach: 170\\nexang: 0\\noldpeak: 0\\nslope: 2\\nca: 0\\nthal: 2\\ntarget: 1'),\n",
       " Document(metadata={'source': 'heart.csv', 'row': 116}, page_content='age: 41\\nsex: 1\\ncp: 2\\ntrestbps: 130\\nchol: 214\\nfbs: 0\\nrestecg: 0\\nthalach: 168\\nexang: 0\\noldpeak: 2\\nslope: 1\\nca: 0\\nthal: 2\\ntarget: 1'),\n",
       " Document(metadata={'source': 'heart.csv', 'row': 117}, page_content='age: 56\\nsex: 1\\ncp: 3\\ntrestbps: 120\\nchol: 193\\nfbs: 0\\nrestecg: 0\\nthalach: 162\\nexang: 0\\noldpeak: 1.9\\nslope: 1\\nca: 0\\nthal: 3\\ntarget: 1'),\n",
       " Document(metadata={'source': 'heart.csv', 'row': 118}, page_content='age: 46\\nsex: 0\\ncp: 1\\ntrestbps: 105\\nchol: 204\\nfbs: 0\\nrestecg: 1\\nthalach: 172\\nexang: 0\\noldpeak: 0\\nslope: 2\\nca: 0\\nthal: 2\\ntarget: 1'),\n",
       " Document(metadata={'source': 'heart.csv', 'row': 119}, page_content='age: 46\\nsex: 0\\ncp: 0\\ntrestbps: 138\\nchol: 243\\nfbs: 0\\nrestecg: 0\\nthalach: 152\\nexang: 1\\noldpeak: 0\\nslope: 1\\nca: 0\\nthal: 2\\ntarget: 1'),\n",
       " Document(metadata={'source': 'heart.csv', 'row': 120}, page_content='age: 64\\nsex: 0\\ncp: 0\\ntrestbps: 130\\nchol: 303\\nfbs: 0\\nrestecg: 1\\nthalach: 122\\nexang: 0\\noldpeak: 2\\nslope: 1\\nca: 2\\nthal: 2\\ntarget: 1'),\n",
       " Document(metadata={'source': 'heart.csv', 'row': 121}, page_content='age: 59\\nsex: 1\\ncp: 0\\ntrestbps: 138\\nchol: 271\\nfbs: 0\\nrestecg: 0\\nthalach: 182\\nexang: 0\\noldpeak: 0\\nslope: 2\\nca: 0\\nthal: 2\\ntarget: 1'),\n",
       " Document(metadata={'source': 'heart.csv', 'row': 122}, page_content='age: 41\\nsex: 0\\ncp: 2\\ntrestbps: 112\\nchol: 268\\nfbs: 0\\nrestecg: 0\\nthalach: 172\\nexang: 1\\noldpeak: 0\\nslope: 2\\nca: 0\\nthal: 2\\ntarget: 1'),\n",
       " Document(metadata={'source': 'heart.csv', 'row': 123}, page_content='age: 54\\nsex: 0\\ncp: 2\\ntrestbps: 108\\nchol: 267\\nfbs: 0\\nrestecg: 0\\nthalach: 167\\nexang: 0\\noldpeak: 0\\nslope: 2\\nca: 0\\nthal: 2\\ntarget: 1'),\n",
       " Document(metadata={'source': 'heart.csv', 'row': 124}, page_content='age: 39\\nsex: 0\\ncp: 2\\ntrestbps: 94\\nchol: 199\\nfbs: 0\\nrestecg: 1\\nthalach: 179\\nexang: 0\\noldpeak: 0\\nslope: 2\\nca: 0\\nthal: 2\\ntarget: 1'),\n",
       " Document(metadata={'source': 'heart.csv', 'row': 125}, page_content='age: 34\\nsex: 0\\ncp: 1\\ntrestbps: 118\\nchol: 210\\nfbs: 0\\nrestecg: 1\\nthalach: 192\\nexang: 0\\noldpeak: 0.7\\nslope: 2\\nca: 0\\nthal: 2\\ntarget: 1'),\n",
       " Document(metadata={'source': 'heart.csv', 'row': 126}, page_content='age: 47\\nsex: 1\\ncp: 0\\ntrestbps: 112\\nchol: 204\\nfbs: 0\\nrestecg: 1\\nthalach: 143\\nexang: 0\\noldpeak: 0.1\\nslope: 2\\nca: 0\\nthal: 2\\ntarget: 1'),\n",
       " Document(metadata={'source': 'heart.csv', 'row': 127}, page_content='age: 67\\nsex: 0\\ncp: 2\\ntrestbps: 152\\nchol: 277\\nfbs: 0\\nrestecg: 1\\nthalach: 172\\nexang: 0\\noldpeak: 0\\nslope: 2\\nca: 1\\nthal: 2\\ntarget: 1'),\n",
       " Document(metadata={'source': 'heart.csv', 'row': 128}, page_content='age: 52\\nsex: 0\\ncp: 2\\ntrestbps: 136\\nchol: 196\\nfbs: 0\\nrestecg: 0\\nthalach: 169\\nexang: 0\\noldpeak: 0.1\\nslope: 1\\nca: 0\\nthal: 2\\ntarget: 1'),\n",
       " Document(metadata={'source': 'heart.csv', 'row': 129}, page_content='age: 74\\nsex: 0\\ncp: 1\\ntrestbps: 120\\nchol: 269\\nfbs: 0\\nrestecg: 0\\nthalach: 121\\nexang: 1\\noldpeak: 0.2\\nslope: 2\\nca: 1\\nthal: 2\\ntarget: 1'),\n",
       " Document(metadata={'source': 'heart.csv', 'row': 130}, page_content='age: 54\\nsex: 0\\ncp: 2\\ntrestbps: 160\\nchol: 201\\nfbs: 0\\nrestecg: 1\\nthalach: 163\\nexang: 0\\noldpeak: 0\\nslope: 2\\nca: 1\\nthal: 2\\ntarget: 1'),\n",
       " Document(metadata={'source': 'heart.csv', 'row': 131}, page_content='age: 49\\nsex: 0\\ncp: 1\\ntrestbps: 134\\nchol: 271\\nfbs: 0\\nrestecg: 1\\nthalach: 162\\nexang: 0\\noldpeak: 0\\nslope: 1\\nca: 0\\nthal: 2\\ntarget: 1'),\n",
       " Document(metadata={'source': 'heart.csv', 'row': 132}, page_content='age: 42\\nsex: 1\\ncp: 1\\ntrestbps: 120\\nchol: 295\\nfbs: 0\\nrestecg: 1\\nthalach: 162\\nexang: 0\\noldpeak: 0\\nslope: 2\\nca: 0\\nthal: 2\\ntarget: 1'),\n",
       " Document(metadata={'source': 'heart.csv', 'row': 133}, page_content='age: 41\\nsex: 1\\ncp: 1\\ntrestbps: 110\\nchol: 235\\nfbs: 0\\nrestecg: 1\\nthalach: 153\\nexang: 0\\noldpeak: 0\\nslope: 2\\nca: 0\\nthal: 2\\ntarget: 1'),\n",
       " Document(metadata={'source': 'heart.csv', 'row': 134}, page_content='age: 41\\nsex: 0\\ncp: 1\\ntrestbps: 126\\nchol: 306\\nfbs: 0\\nrestecg: 1\\nthalach: 163\\nexang: 0\\noldpeak: 0\\nslope: 2\\nca: 0\\nthal: 2\\ntarget: 1'),\n",
       " Document(metadata={'source': 'heart.csv', 'row': 135}, page_content='age: 49\\nsex: 0\\ncp: 0\\ntrestbps: 130\\nchol: 269\\nfbs: 0\\nrestecg: 1\\nthalach: 163\\nexang: 0\\noldpeak: 0\\nslope: 2\\nca: 0\\nthal: 2\\ntarget: 1'),\n",
       " Document(metadata={'source': 'heart.csv', 'row': 136}, page_content='age: 60\\nsex: 0\\ncp: 2\\ntrestbps: 120\\nchol: 178\\nfbs: 1\\nrestecg: 1\\nthalach: 96\\nexang: 0\\noldpeak: 0\\nslope: 2\\nca: 0\\nthal: 2\\ntarget: 1'),\n",
       " Document(metadata={'source': 'heart.csv', 'row': 137}, page_content='age: 62\\nsex: 1\\ncp: 1\\ntrestbps: 128\\nchol: 208\\nfbs: 1\\nrestecg: 0\\nthalach: 140\\nexang: 0\\noldpeak: 0\\nslope: 2\\nca: 0\\nthal: 2\\ntarget: 1'),\n",
       " Document(metadata={'source': 'heart.csv', 'row': 138}, page_content='age: 57\\nsex: 1\\ncp: 0\\ntrestbps: 110\\nchol: 201\\nfbs: 0\\nrestecg: 1\\nthalach: 126\\nexang: 1\\noldpeak: 1.5\\nslope: 1\\nca: 0\\nthal: 1\\ntarget: 1'),\n",
       " Document(metadata={'source': 'heart.csv', 'row': 139}, page_content='age: 64\\nsex: 1\\ncp: 0\\ntrestbps: 128\\nchol: 263\\nfbs: 0\\nrestecg: 1\\nthalach: 105\\nexang: 1\\noldpeak: 0.2\\nslope: 1\\nca: 1\\nthal: 3\\ntarget: 1'),\n",
       " Document(metadata={'source': 'heart.csv', 'row': 140}, page_content='age: 51\\nsex: 0\\ncp: 2\\ntrestbps: 120\\nchol: 295\\nfbs: 0\\nrestecg: 0\\nthalach: 157\\nexang: 0\\noldpeak: 0.6\\nslope: 2\\nca: 0\\nthal: 2\\ntarget: 1'),\n",
       " Document(metadata={'source': 'heart.csv', 'row': 141}, page_content='age: 43\\nsex: 1\\ncp: 0\\ntrestbps: 115\\nchol: 303\\nfbs: 0\\nrestecg: 1\\nthalach: 181\\nexang: 0\\noldpeak: 1.2\\nslope: 1\\nca: 0\\nthal: 2\\ntarget: 1'),\n",
       " Document(metadata={'source': 'heart.csv', 'row': 142}, page_content='age: 42\\nsex: 0\\ncp: 2\\ntrestbps: 120\\nchol: 209\\nfbs: 0\\nrestecg: 1\\nthalach: 173\\nexang: 0\\noldpeak: 0\\nslope: 1\\nca: 0\\nthal: 2\\ntarget: 1'),\n",
       " Document(metadata={'source': 'heart.csv', 'row': 143}, page_content='age: 67\\nsex: 0\\ncp: 0\\ntrestbps: 106\\nchol: 223\\nfbs: 0\\nrestecg: 1\\nthalach: 142\\nexang: 0\\noldpeak: 0.3\\nslope: 2\\nca: 2\\nthal: 2\\ntarget: 1'),\n",
       " Document(metadata={'source': 'heart.csv', 'row': 144}, page_content='age: 76\\nsex: 0\\ncp: 2\\ntrestbps: 140\\nchol: 197\\nfbs: 0\\nrestecg: 2\\nthalach: 116\\nexang: 0\\noldpeak: 1.1\\nslope: 1\\nca: 0\\nthal: 2\\ntarget: 1'),\n",
       " Document(metadata={'source': 'heart.csv', 'row': 145}, page_content='age: 70\\nsex: 1\\ncp: 1\\ntrestbps: 156\\nchol: 245\\nfbs: 0\\nrestecg: 0\\nthalach: 143\\nexang: 0\\noldpeak: 0\\nslope: 2\\nca: 0\\nthal: 2\\ntarget: 1'),\n",
       " Document(metadata={'source': 'heart.csv', 'row': 146}, page_content='age: 44\\nsex: 0\\ncp: 2\\ntrestbps: 118\\nchol: 242\\nfbs: 0\\nrestecg: 1\\nthalach: 149\\nexang: 0\\noldpeak: 0.3\\nslope: 1\\nca: 1\\nthal: 2\\ntarget: 1'),\n",
       " Document(metadata={'source': 'heart.csv', 'row': 147}, page_content='age: 60\\nsex: 0\\ncp: 3\\ntrestbps: 150\\nchol: 240\\nfbs: 0\\nrestecg: 1\\nthalach: 171\\nexang: 0\\noldpeak: 0.9\\nslope: 2\\nca: 0\\nthal: 2\\ntarget: 1'),\n",
       " Document(metadata={'source': 'heart.csv', 'row': 148}, page_content='age: 44\\nsex: 1\\ncp: 2\\ntrestbps: 120\\nchol: 226\\nfbs: 0\\nrestecg: 1\\nthalach: 169\\nexang: 0\\noldpeak: 0\\nslope: 2\\nca: 0\\nthal: 2\\ntarget: 1'),\n",
       " Document(metadata={'source': 'heart.csv', 'row': 149}, page_content='age: 42\\nsex: 1\\ncp: 2\\ntrestbps: 130\\nchol: 180\\nfbs: 0\\nrestecg: 1\\nthalach: 150\\nexang: 0\\noldpeak: 0\\nslope: 2\\nca: 0\\nthal: 2\\ntarget: 1'),\n",
       " Document(metadata={'source': 'heart.csv', 'row': 150}, page_content='age: 66\\nsex: 1\\ncp: 0\\ntrestbps: 160\\nchol: 228\\nfbs: 0\\nrestecg: 0\\nthalach: 138\\nexang: 0\\noldpeak: 2.3\\nslope: 2\\nca: 0\\nthal: 1\\ntarget: 1'),\n",
       " Document(metadata={'source': 'heart.csv', 'row': 151}, page_content='age: 71\\nsex: 0\\ncp: 0\\ntrestbps: 112\\nchol: 149\\nfbs: 0\\nrestecg: 1\\nthalach: 125\\nexang: 0\\noldpeak: 1.6\\nslope: 1\\nca: 0\\nthal: 2\\ntarget: 1'),\n",
       " Document(metadata={'source': 'heart.csv', 'row': 152}, page_content='age: 64\\nsex: 1\\ncp: 3\\ntrestbps: 170\\nchol: 227\\nfbs: 0\\nrestecg: 0\\nthalach: 155\\nexang: 0\\noldpeak: 0.6\\nslope: 1\\nca: 0\\nthal: 3\\ntarget: 1'),\n",
       " Document(metadata={'source': 'heart.csv', 'row': 153}, page_content='age: 66\\nsex: 0\\ncp: 2\\ntrestbps: 146\\nchol: 278\\nfbs: 0\\nrestecg: 0\\nthalach: 152\\nexang: 0\\noldpeak: 0\\nslope: 1\\nca: 1\\nthal: 2\\ntarget: 1'),\n",
       " Document(metadata={'source': 'heart.csv', 'row': 154}, page_content='age: 39\\nsex: 0\\ncp: 2\\ntrestbps: 138\\nchol: 220\\nfbs: 0\\nrestecg: 1\\nthalach: 152\\nexang: 0\\noldpeak: 0\\nslope: 1\\nca: 0\\nthal: 2\\ntarget: 1'),\n",
       " Document(metadata={'source': 'heart.csv', 'row': 155}, page_content='age: 58\\nsex: 0\\ncp: 0\\ntrestbps: 130\\nchol: 197\\nfbs: 0\\nrestecg: 1\\nthalach: 131\\nexang: 0\\noldpeak: 0.6\\nslope: 1\\nca: 0\\nthal: 2\\ntarget: 1'),\n",
       " Document(metadata={'source': 'heart.csv', 'row': 156}, page_content='age: 47\\nsex: 1\\ncp: 2\\ntrestbps: 130\\nchol: 253\\nfbs: 0\\nrestecg: 1\\nthalach: 179\\nexang: 0\\noldpeak: 0\\nslope: 2\\nca: 0\\nthal: 2\\ntarget: 1'),\n",
       " Document(metadata={'source': 'heart.csv', 'row': 157}, page_content='age: 35\\nsex: 1\\ncp: 1\\ntrestbps: 122\\nchol: 192\\nfbs: 0\\nrestecg: 1\\nthalach: 174\\nexang: 0\\noldpeak: 0\\nslope: 2\\nca: 0\\nthal: 2\\ntarget: 1'),\n",
       " Document(metadata={'source': 'heart.csv', 'row': 158}, page_content='age: 58\\nsex: 1\\ncp: 1\\ntrestbps: 125\\nchol: 220\\nfbs: 0\\nrestecg: 1\\nthalach: 144\\nexang: 0\\noldpeak: 0.4\\nslope: 1\\nca: 4\\nthal: 3\\ntarget: 1'),\n",
       " Document(metadata={'source': 'heart.csv', 'row': 159}, page_content='age: 56\\nsex: 1\\ncp: 1\\ntrestbps: 130\\nchol: 221\\nfbs: 0\\nrestecg: 0\\nthalach: 163\\nexang: 0\\noldpeak: 0\\nslope: 2\\nca: 0\\nthal: 3\\ntarget: 1'),\n",
       " Document(metadata={'source': 'heart.csv', 'row': 160}, page_content='age: 56\\nsex: 1\\ncp: 1\\ntrestbps: 120\\nchol: 240\\nfbs: 0\\nrestecg: 1\\nthalach: 169\\nexang: 0\\noldpeak: 0\\nslope: 0\\nca: 0\\nthal: 2\\ntarget: 1'),\n",
       " Document(metadata={'source': 'heart.csv', 'row': 161}, page_content='age: 55\\nsex: 0\\ncp: 1\\ntrestbps: 132\\nchol: 342\\nfbs: 0\\nrestecg: 1\\nthalach: 166\\nexang: 0\\noldpeak: 1.2\\nslope: 2\\nca: 0\\nthal: 2\\ntarget: 1'),\n",
       " Document(metadata={'source': 'heart.csv', 'row': 162}, page_content='age: 41\\nsex: 1\\ncp: 1\\ntrestbps: 120\\nchol: 157\\nfbs: 0\\nrestecg: 1\\nthalach: 182\\nexang: 0\\noldpeak: 0\\nslope: 2\\nca: 0\\nthal: 2\\ntarget: 1'),\n",
       " Document(metadata={'source': 'heart.csv', 'row': 163}, page_content='age: 38\\nsex: 1\\ncp: 2\\ntrestbps: 138\\nchol: 175\\nfbs: 0\\nrestecg: 1\\nthalach: 173\\nexang: 0\\noldpeak: 0\\nslope: 2\\nca: 4\\nthal: 2\\ntarget: 1'),\n",
       " Document(metadata={'source': 'heart.csv', 'row': 164}, page_content='age: 38\\nsex: 1\\ncp: 2\\ntrestbps: 138\\nchol: 175\\nfbs: 0\\nrestecg: 1\\nthalach: 173\\nexang: 0\\noldpeak: 0\\nslope: 2\\nca: 4\\nthal: 2\\ntarget: 1'),\n",
       " Document(metadata={'source': 'heart.csv', 'row': 165}, page_content='age: 67\\nsex: 1\\ncp: 0\\ntrestbps: 160\\nchol: 286\\nfbs: 0\\nrestecg: 0\\nthalach: 108\\nexang: 1\\noldpeak: 1.5\\nslope: 1\\nca: 3\\nthal: 2\\ntarget: 0'),\n",
       " Document(metadata={'source': 'heart.csv', 'row': 166}, page_content='age: 67\\nsex: 1\\ncp: 0\\ntrestbps: 120\\nchol: 229\\nfbs: 0\\nrestecg: 0\\nthalach: 129\\nexang: 1\\noldpeak: 2.6\\nslope: 1\\nca: 2\\nthal: 3\\ntarget: 0'),\n",
       " Document(metadata={'source': 'heart.csv', 'row': 167}, page_content='age: 62\\nsex: 0\\ncp: 0\\ntrestbps: 140\\nchol: 268\\nfbs: 0\\nrestecg: 0\\nthalach: 160\\nexang: 0\\noldpeak: 3.6\\nslope: 0\\nca: 2\\nthal: 2\\ntarget: 0'),\n",
       " Document(metadata={'source': 'heart.csv', 'row': 168}, page_content='age: 63\\nsex: 1\\ncp: 0\\ntrestbps: 130\\nchol: 254\\nfbs: 0\\nrestecg: 0\\nthalach: 147\\nexang: 0\\noldpeak: 1.4\\nslope: 1\\nca: 1\\nthal: 3\\ntarget: 0'),\n",
       " Document(metadata={'source': 'heart.csv', 'row': 169}, page_content='age: 53\\nsex: 1\\ncp: 0\\ntrestbps: 140\\nchol: 203\\nfbs: 1\\nrestecg: 0\\nthalach: 155\\nexang: 1\\noldpeak: 3.1\\nslope: 0\\nca: 0\\nthal: 3\\ntarget: 0'),\n",
       " Document(metadata={'source': 'heart.csv', 'row': 170}, page_content='age: 56\\nsex: 1\\ncp: 2\\ntrestbps: 130\\nchol: 256\\nfbs: 1\\nrestecg: 0\\nthalach: 142\\nexang: 1\\noldpeak: 0.6\\nslope: 1\\nca: 1\\nthal: 1\\ntarget: 0'),\n",
       " Document(metadata={'source': 'heart.csv', 'row': 171}, page_content='age: 48\\nsex: 1\\ncp: 1\\ntrestbps: 110\\nchol: 229\\nfbs: 0\\nrestecg: 1\\nthalach: 168\\nexang: 0\\noldpeak: 1\\nslope: 0\\nca: 0\\nthal: 3\\ntarget: 0'),\n",
       " Document(metadata={'source': 'heart.csv', 'row': 172}, page_content='age: 58\\nsex: 1\\ncp: 1\\ntrestbps: 120\\nchol: 284\\nfbs: 0\\nrestecg: 0\\nthalach: 160\\nexang: 0\\noldpeak: 1.8\\nslope: 1\\nca: 0\\nthal: 2\\ntarget: 0'),\n",
       " Document(metadata={'source': 'heart.csv', 'row': 173}, page_content='age: 58\\nsex: 1\\ncp: 2\\ntrestbps: 132\\nchol: 224\\nfbs: 0\\nrestecg: 0\\nthalach: 173\\nexang: 0\\noldpeak: 3.2\\nslope: 2\\nca: 2\\nthal: 3\\ntarget: 0'),\n",
       " Document(metadata={'source': 'heart.csv', 'row': 174}, page_content='age: 60\\nsex: 1\\ncp: 0\\ntrestbps: 130\\nchol: 206\\nfbs: 0\\nrestecg: 0\\nthalach: 132\\nexang: 1\\noldpeak: 2.4\\nslope: 1\\nca: 2\\nthal: 3\\ntarget: 0'),\n",
       " Document(metadata={'source': 'heart.csv', 'row': 175}, page_content='age: 40\\nsex: 1\\ncp: 0\\ntrestbps: 110\\nchol: 167\\nfbs: 0\\nrestecg: 0\\nthalach: 114\\nexang: 1\\noldpeak: 2\\nslope: 1\\nca: 0\\nthal: 3\\ntarget: 0'),\n",
       " Document(metadata={'source': 'heart.csv', 'row': 176}, page_content='age: 60\\nsex: 1\\ncp: 0\\ntrestbps: 117\\nchol: 230\\nfbs: 1\\nrestecg: 1\\nthalach: 160\\nexang: 1\\noldpeak: 1.4\\nslope: 2\\nca: 2\\nthal: 3\\ntarget: 0'),\n",
       " Document(metadata={'source': 'heart.csv', 'row': 177}, page_content='age: 64\\nsex: 1\\ncp: 2\\ntrestbps: 140\\nchol: 335\\nfbs: 0\\nrestecg: 1\\nthalach: 158\\nexang: 0\\noldpeak: 0\\nslope: 2\\nca: 0\\nthal: 2\\ntarget: 0'),\n",
       " Document(metadata={'source': 'heart.csv', 'row': 178}, page_content='age: 43\\nsex: 1\\ncp: 0\\ntrestbps: 120\\nchol: 177\\nfbs: 0\\nrestecg: 0\\nthalach: 120\\nexang: 1\\noldpeak: 2.5\\nslope: 1\\nca: 0\\nthal: 3\\ntarget: 0'),\n",
       " Document(metadata={'source': 'heart.csv', 'row': 179}, page_content='age: 57\\nsex: 1\\ncp: 0\\ntrestbps: 150\\nchol: 276\\nfbs: 0\\nrestecg: 0\\nthalach: 112\\nexang: 1\\noldpeak: 0.6\\nslope: 1\\nca: 1\\nthal: 1\\ntarget: 0'),\n",
       " Document(metadata={'source': 'heart.csv', 'row': 180}, page_content='age: 55\\nsex: 1\\ncp: 0\\ntrestbps: 132\\nchol: 353\\nfbs: 0\\nrestecg: 1\\nthalach: 132\\nexang: 1\\noldpeak: 1.2\\nslope: 1\\nca: 1\\nthal: 3\\ntarget: 0'),\n",
       " Document(metadata={'source': 'heart.csv', 'row': 181}, page_content='age: 65\\nsex: 0\\ncp: 0\\ntrestbps: 150\\nchol: 225\\nfbs: 0\\nrestecg: 0\\nthalach: 114\\nexang: 0\\noldpeak: 1\\nslope: 1\\nca: 3\\nthal: 3\\ntarget: 0'),\n",
       " Document(metadata={'source': 'heart.csv', 'row': 182}, page_content='age: 61\\nsex: 0\\ncp: 0\\ntrestbps: 130\\nchol: 330\\nfbs: 0\\nrestecg: 0\\nthalach: 169\\nexang: 0\\noldpeak: 0\\nslope: 2\\nca: 0\\nthal: 2\\ntarget: 0'),\n",
       " Document(metadata={'source': 'heart.csv', 'row': 183}, page_content='age: 58\\nsex: 1\\ncp: 2\\ntrestbps: 112\\nchol: 230\\nfbs: 0\\nrestecg: 0\\nthalach: 165\\nexang: 0\\noldpeak: 2.5\\nslope: 1\\nca: 1\\nthal: 3\\ntarget: 0'),\n",
       " Document(metadata={'source': 'heart.csv', 'row': 184}, page_content='age: 50\\nsex: 1\\ncp: 0\\ntrestbps: 150\\nchol: 243\\nfbs: 0\\nrestecg: 0\\nthalach: 128\\nexang: 0\\noldpeak: 2.6\\nslope: 1\\nca: 0\\nthal: 3\\ntarget: 0'),\n",
       " Document(metadata={'source': 'heart.csv', 'row': 185}, page_content='age: 44\\nsex: 1\\ncp: 0\\ntrestbps: 112\\nchol: 290\\nfbs: 0\\nrestecg: 0\\nthalach: 153\\nexang: 0\\noldpeak: 0\\nslope: 2\\nca: 1\\nthal: 2\\ntarget: 0'),\n",
       " Document(metadata={'source': 'heart.csv', 'row': 186}, page_content='age: 60\\nsex: 1\\ncp: 0\\ntrestbps: 130\\nchol: 253\\nfbs: 0\\nrestecg: 1\\nthalach: 144\\nexang: 1\\noldpeak: 1.4\\nslope: 2\\nca: 1\\nthal: 3\\ntarget: 0'),\n",
       " Document(metadata={'source': 'heart.csv', 'row': 187}, page_content='age: 54\\nsex: 1\\ncp: 0\\ntrestbps: 124\\nchol: 266\\nfbs: 0\\nrestecg: 0\\nthalach: 109\\nexang: 1\\noldpeak: 2.2\\nslope: 1\\nca: 1\\nthal: 3\\ntarget: 0'),\n",
       " Document(metadata={'source': 'heart.csv', 'row': 188}, page_content='age: 50\\nsex: 1\\ncp: 2\\ntrestbps: 140\\nchol: 233\\nfbs: 0\\nrestecg: 1\\nthalach: 163\\nexang: 0\\noldpeak: 0.6\\nslope: 1\\nca: 1\\nthal: 3\\ntarget: 0'),\n",
       " Document(metadata={'source': 'heart.csv', 'row': 189}, page_content='age: 41\\nsex: 1\\ncp: 0\\ntrestbps: 110\\nchol: 172\\nfbs: 0\\nrestecg: 0\\nthalach: 158\\nexang: 0\\noldpeak: 0\\nslope: 2\\nca: 0\\nthal: 3\\ntarget: 0'),\n",
       " Document(metadata={'source': 'heart.csv', 'row': 190}, page_content='age: 51\\nsex: 0\\ncp: 0\\ntrestbps: 130\\nchol: 305\\nfbs: 0\\nrestecg: 1\\nthalach: 142\\nexang: 1\\noldpeak: 1.2\\nslope: 1\\nca: 0\\nthal: 3\\ntarget: 0'),\n",
       " Document(metadata={'source': 'heart.csv', 'row': 191}, page_content='age: 58\\nsex: 1\\ncp: 0\\ntrestbps: 128\\nchol: 216\\nfbs: 0\\nrestecg: 0\\nthalach: 131\\nexang: 1\\noldpeak: 2.2\\nslope: 1\\nca: 3\\nthal: 3\\ntarget: 0'),\n",
       " Document(metadata={'source': 'heart.csv', 'row': 192}, page_content='age: 54\\nsex: 1\\ncp: 0\\ntrestbps: 120\\nchol: 188\\nfbs: 0\\nrestecg: 1\\nthalach: 113\\nexang: 0\\noldpeak: 1.4\\nslope: 1\\nca: 1\\nthal: 3\\ntarget: 0'),\n",
       " Document(metadata={'source': 'heart.csv', 'row': 193}, page_content='age: 60\\nsex: 1\\ncp: 0\\ntrestbps: 145\\nchol: 282\\nfbs: 0\\nrestecg: 0\\nthalach: 142\\nexang: 1\\noldpeak: 2.8\\nslope: 1\\nca: 2\\nthal: 3\\ntarget: 0'),\n",
       " Document(metadata={'source': 'heart.csv', 'row': 194}, page_content='age: 60\\nsex: 1\\ncp: 2\\ntrestbps: 140\\nchol: 185\\nfbs: 0\\nrestecg: 0\\nthalach: 155\\nexang: 0\\noldpeak: 3\\nslope: 1\\nca: 0\\nthal: 2\\ntarget: 0'),\n",
       " Document(metadata={'source': 'heart.csv', 'row': 195}, page_content='age: 59\\nsex: 1\\ncp: 0\\ntrestbps: 170\\nchol: 326\\nfbs: 0\\nrestecg: 0\\nthalach: 140\\nexang: 1\\noldpeak: 3.4\\nslope: 0\\nca: 0\\nthal: 3\\ntarget: 0'),\n",
       " Document(metadata={'source': 'heart.csv', 'row': 196}, page_content='age: 46\\nsex: 1\\ncp: 2\\ntrestbps: 150\\nchol: 231\\nfbs: 0\\nrestecg: 1\\nthalach: 147\\nexang: 0\\noldpeak: 3.6\\nslope: 1\\nca: 0\\nthal: 2\\ntarget: 0'),\n",
       " Document(metadata={'source': 'heart.csv', 'row': 197}, page_content='age: 67\\nsex: 1\\ncp: 0\\ntrestbps: 125\\nchol: 254\\nfbs: 1\\nrestecg: 1\\nthalach: 163\\nexang: 0\\noldpeak: 0.2\\nslope: 1\\nca: 2\\nthal: 3\\ntarget: 0'),\n",
       " Document(metadata={'source': 'heart.csv', 'row': 198}, page_content='age: 62\\nsex: 1\\ncp: 0\\ntrestbps: 120\\nchol: 267\\nfbs: 0\\nrestecg: 1\\nthalach: 99\\nexang: 1\\noldpeak: 1.8\\nslope: 1\\nca: 2\\nthal: 3\\ntarget: 0'),\n",
       " Document(metadata={'source': 'heart.csv', 'row': 199}, page_content='age: 65\\nsex: 1\\ncp: 0\\ntrestbps: 110\\nchol: 248\\nfbs: 0\\nrestecg: 0\\nthalach: 158\\nexang: 0\\noldpeak: 0.6\\nslope: 2\\nca: 2\\nthal: 1\\ntarget: 0'),\n",
       " Document(metadata={'source': 'heart.csv', 'row': 200}, page_content='age: 44\\nsex: 1\\ncp: 0\\ntrestbps: 110\\nchol: 197\\nfbs: 0\\nrestecg: 0\\nthalach: 177\\nexang: 0\\noldpeak: 0\\nslope: 2\\nca: 1\\nthal: 2\\ntarget: 0'),\n",
       " Document(metadata={'source': 'heart.csv', 'row': 201}, page_content='age: 60\\nsex: 1\\ncp: 0\\ntrestbps: 125\\nchol: 258\\nfbs: 0\\nrestecg: 0\\nthalach: 141\\nexang: 1\\noldpeak: 2.8\\nslope: 1\\nca: 1\\nthal: 3\\ntarget: 0'),\n",
       " Document(metadata={'source': 'heart.csv', 'row': 202}, page_content='age: 58\\nsex: 1\\ncp: 0\\ntrestbps: 150\\nchol: 270\\nfbs: 0\\nrestecg: 0\\nthalach: 111\\nexang: 1\\noldpeak: 0.8\\nslope: 2\\nca: 0\\nthal: 3\\ntarget: 0'),\n",
       " Document(metadata={'source': 'heart.csv', 'row': 203}, page_content='age: 68\\nsex: 1\\ncp: 2\\ntrestbps: 180\\nchol: 274\\nfbs: 1\\nrestecg: 0\\nthalach: 150\\nexang: 1\\noldpeak: 1.6\\nslope: 1\\nca: 0\\nthal: 3\\ntarget: 0'),\n",
       " Document(metadata={'source': 'heart.csv', 'row': 204}, page_content='age: 62\\nsex: 0\\ncp: 0\\ntrestbps: 160\\nchol: 164\\nfbs: 0\\nrestecg: 0\\nthalach: 145\\nexang: 0\\noldpeak: 6.2\\nslope: 0\\nca: 3\\nthal: 3\\ntarget: 0'),\n",
       " Document(metadata={'source': 'heart.csv', 'row': 205}, page_content='age: 52\\nsex: 1\\ncp: 0\\ntrestbps: 128\\nchol: 255\\nfbs: 0\\nrestecg: 1\\nthalach: 161\\nexang: 1\\noldpeak: 0\\nslope: 2\\nca: 1\\nthal: 3\\ntarget: 0'),\n",
       " Document(metadata={'source': 'heart.csv', 'row': 206}, page_content='age: 59\\nsex: 1\\ncp: 0\\ntrestbps: 110\\nchol: 239\\nfbs: 0\\nrestecg: 0\\nthalach: 142\\nexang: 1\\noldpeak: 1.2\\nslope: 1\\nca: 1\\nthal: 3\\ntarget: 0'),\n",
       " Document(metadata={'source': 'heart.csv', 'row': 207}, page_content='age: 60\\nsex: 0\\ncp: 0\\ntrestbps: 150\\nchol: 258\\nfbs: 0\\nrestecg: 0\\nthalach: 157\\nexang: 0\\noldpeak: 2.6\\nslope: 1\\nca: 2\\nthal: 3\\ntarget: 0'),\n",
       " Document(metadata={'source': 'heart.csv', 'row': 208}, page_content='age: 49\\nsex: 1\\ncp: 2\\ntrestbps: 120\\nchol: 188\\nfbs: 0\\nrestecg: 1\\nthalach: 139\\nexang: 0\\noldpeak: 2\\nslope: 1\\nca: 3\\nthal: 3\\ntarget: 0'),\n",
       " Document(metadata={'source': 'heart.csv', 'row': 209}, page_content='age: 59\\nsex: 1\\ncp: 0\\ntrestbps: 140\\nchol: 177\\nfbs: 0\\nrestecg: 1\\nthalach: 162\\nexang: 1\\noldpeak: 0\\nslope: 2\\nca: 1\\nthal: 3\\ntarget: 0'),\n",
       " Document(metadata={'source': 'heart.csv', 'row': 210}, page_content='age: 57\\nsex: 1\\ncp: 2\\ntrestbps: 128\\nchol: 229\\nfbs: 0\\nrestecg: 0\\nthalach: 150\\nexang: 0\\noldpeak: 0.4\\nslope: 1\\nca: 1\\nthal: 3\\ntarget: 0'),\n",
       " Document(metadata={'source': 'heart.csv', 'row': 211}, page_content='age: 61\\nsex: 1\\ncp: 0\\ntrestbps: 120\\nchol: 260\\nfbs: 0\\nrestecg: 1\\nthalach: 140\\nexang: 1\\noldpeak: 3.6\\nslope: 1\\nca: 1\\nthal: 3\\ntarget: 0'),\n",
       " Document(metadata={'source': 'heart.csv', 'row': 212}, page_content='age: 39\\nsex: 1\\ncp: 0\\ntrestbps: 118\\nchol: 219\\nfbs: 0\\nrestecg: 1\\nthalach: 140\\nexang: 0\\noldpeak: 1.2\\nslope: 1\\nca: 0\\nthal: 3\\ntarget: 0'),\n",
       " Document(metadata={'source': 'heart.csv', 'row': 213}, page_content='age: 61\\nsex: 0\\ncp: 0\\ntrestbps: 145\\nchol: 307\\nfbs: 0\\nrestecg: 0\\nthalach: 146\\nexang: 1\\noldpeak: 1\\nslope: 1\\nca: 0\\nthal: 3\\ntarget: 0'),\n",
       " Document(metadata={'source': 'heart.csv', 'row': 214}, page_content='age: 56\\nsex: 1\\ncp: 0\\ntrestbps: 125\\nchol: 249\\nfbs: 1\\nrestecg: 0\\nthalach: 144\\nexang: 1\\noldpeak: 1.2\\nslope: 1\\nca: 1\\nthal: 2\\ntarget: 0'),\n",
       " Document(metadata={'source': 'heart.csv', 'row': 215}, page_content='age: 43\\nsex: 0\\ncp: 0\\ntrestbps: 132\\nchol: 341\\nfbs: 1\\nrestecg: 0\\nthalach: 136\\nexang: 1\\noldpeak: 3\\nslope: 1\\nca: 0\\nthal: 3\\ntarget: 0'),\n",
       " Document(metadata={'source': 'heart.csv', 'row': 216}, page_content='age: 62\\nsex: 0\\ncp: 2\\ntrestbps: 130\\nchol: 263\\nfbs: 0\\nrestecg: 1\\nthalach: 97\\nexang: 0\\noldpeak: 1.2\\nslope: 1\\nca: 1\\nthal: 3\\ntarget: 0'),\n",
       " Document(metadata={'source': 'heart.csv', 'row': 217}, page_content='age: 63\\nsex: 1\\ncp: 0\\ntrestbps: 130\\nchol: 330\\nfbs: 1\\nrestecg: 0\\nthalach: 132\\nexang: 1\\noldpeak: 1.8\\nslope: 2\\nca: 3\\nthal: 3\\ntarget: 0'),\n",
       " Document(metadata={'source': 'heart.csv', 'row': 218}, page_content='age: 65\\nsex: 1\\ncp: 0\\ntrestbps: 135\\nchol: 254\\nfbs: 0\\nrestecg: 0\\nthalach: 127\\nexang: 0\\noldpeak: 2.8\\nslope: 1\\nca: 1\\nthal: 3\\ntarget: 0'),\n",
       " Document(metadata={'source': 'heart.csv', 'row': 219}, page_content='age: 48\\nsex: 1\\ncp: 0\\ntrestbps: 130\\nchol: 256\\nfbs: 1\\nrestecg: 0\\nthalach: 150\\nexang: 1\\noldpeak: 0\\nslope: 2\\nca: 2\\nthal: 3\\ntarget: 0'),\n",
       " Document(metadata={'source': 'heart.csv', 'row': 220}, page_content='age: 63\\nsex: 0\\ncp: 0\\ntrestbps: 150\\nchol: 407\\nfbs: 0\\nrestecg: 0\\nthalach: 154\\nexang: 0\\noldpeak: 4\\nslope: 1\\nca: 3\\nthal: 3\\ntarget: 0'),\n",
       " Document(metadata={'source': 'heart.csv', 'row': 221}, page_content='age: 55\\nsex: 1\\ncp: 0\\ntrestbps: 140\\nchol: 217\\nfbs: 0\\nrestecg: 1\\nthalach: 111\\nexang: 1\\noldpeak: 5.6\\nslope: 0\\nca: 0\\nthal: 3\\ntarget: 0'),\n",
       " Document(metadata={'source': 'heart.csv', 'row': 222}, page_content='age: 65\\nsex: 1\\ncp: 3\\ntrestbps: 138\\nchol: 282\\nfbs: 1\\nrestecg: 0\\nthalach: 174\\nexang: 0\\noldpeak: 1.4\\nslope: 1\\nca: 1\\nthal: 2\\ntarget: 0'),\n",
       " Document(metadata={'source': 'heart.csv', 'row': 223}, page_content='age: 56\\nsex: 0\\ncp: 0\\ntrestbps: 200\\nchol: 288\\nfbs: 1\\nrestecg: 0\\nthalach: 133\\nexang: 1\\noldpeak: 4\\nslope: 0\\nca: 2\\nthal: 3\\ntarget: 0'),\n",
       " Document(metadata={'source': 'heart.csv', 'row': 224}, page_content='age: 54\\nsex: 1\\ncp: 0\\ntrestbps: 110\\nchol: 239\\nfbs: 0\\nrestecg: 1\\nthalach: 126\\nexang: 1\\noldpeak: 2.8\\nslope: 1\\nca: 1\\nthal: 3\\ntarget: 0'),\n",
       " Document(metadata={'source': 'heart.csv', 'row': 225}, page_content='age: 70\\nsex: 1\\ncp: 0\\ntrestbps: 145\\nchol: 174\\nfbs: 0\\nrestecg: 1\\nthalach: 125\\nexang: 1\\noldpeak: 2.6\\nslope: 0\\nca: 0\\nthal: 3\\ntarget: 0'),\n",
       " Document(metadata={'source': 'heart.csv', 'row': 226}, page_content='age: 62\\nsex: 1\\ncp: 1\\ntrestbps: 120\\nchol: 281\\nfbs: 0\\nrestecg: 0\\nthalach: 103\\nexang: 0\\noldpeak: 1.4\\nslope: 1\\nca: 1\\nthal: 3\\ntarget: 0'),\n",
       " Document(metadata={'source': 'heart.csv', 'row': 227}, page_content='age: 35\\nsex: 1\\ncp: 0\\ntrestbps: 120\\nchol: 198\\nfbs: 0\\nrestecg: 1\\nthalach: 130\\nexang: 1\\noldpeak: 1.6\\nslope: 1\\nca: 0\\nthal: 3\\ntarget: 0'),\n",
       " Document(metadata={'source': 'heart.csv', 'row': 228}, page_content='age: 59\\nsex: 1\\ncp: 3\\ntrestbps: 170\\nchol: 288\\nfbs: 0\\nrestecg: 0\\nthalach: 159\\nexang: 0\\noldpeak: 0.2\\nslope: 1\\nca: 0\\nthal: 3\\ntarget: 0'),\n",
       " Document(metadata={'source': 'heart.csv', 'row': 229}, page_content='age: 64\\nsex: 1\\ncp: 2\\ntrestbps: 125\\nchol: 309\\nfbs: 0\\nrestecg: 1\\nthalach: 131\\nexang: 1\\noldpeak: 1.8\\nslope: 1\\nca: 0\\nthal: 3\\ntarget: 0'),\n",
       " Document(metadata={'source': 'heart.csv', 'row': 230}, page_content='age: 47\\nsex: 1\\ncp: 2\\ntrestbps: 108\\nchol: 243\\nfbs: 0\\nrestecg: 1\\nthalach: 152\\nexang: 0\\noldpeak: 0\\nslope: 2\\nca: 0\\nthal: 2\\ntarget: 0'),\n",
       " Document(metadata={'source': 'heart.csv', 'row': 231}, page_content='age: 57\\nsex: 1\\ncp: 0\\ntrestbps: 165\\nchol: 289\\nfbs: 1\\nrestecg: 0\\nthalach: 124\\nexang: 0\\noldpeak: 1\\nslope: 1\\nca: 3\\nthal: 3\\ntarget: 0'),\n",
       " Document(metadata={'source': 'heart.csv', 'row': 232}, page_content='age: 55\\nsex: 1\\ncp: 0\\ntrestbps: 160\\nchol: 289\\nfbs: 0\\nrestecg: 0\\nthalach: 145\\nexang: 1\\noldpeak: 0.8\\nslope: 1\\nca: 1\\nthal: 3\\ntarget: 0'),\n",
       " Document(metadata={'source': 'heart.csv', 'row': 233}, page_content='age: 64\\nsex: 1\\ncp: 0\\ntrestbps: 120\\nchol: 246\\nfbs: 0\\nrestecg: 0\\nthalach: 96\\nexang: 1\\noldpeak: 2.2\\nslope: 0\\nca: 1\\nthal: 2\\ntarget: 0'),\n",
       " Document(metadata={'source': 'heart.csv', 'row': 234}, page_content='age: 70\\nsex: 1\\ncp: 0\\ntrestbps: 130\\nchol: 322\\nfbs: 0\\nrestecg: 0\\nthalach: 109\\nexang: 0\\noldpeak: 2.4\\nslope: 1\\nca: 3\\nthal: 2\\ntarget: 0'),\n",
       " Document(metadata={'source': 'heart.csv', 'row': 235}, page_content='age: 51\\nsex: 1\\ncp: 0\\ntrestbps: 140\\nchol: 299\\nfbs: 0\\nrestecg: 1\\nthalach: 173\\nexang: 1\\noldpeak: 1.6\\nslope: 2\\nca: 0\\nthal: 3\\ntarget: 0'),\n",
       " Document(metadata={'source': 'heart.csv', 'row': 236}, page_content='age: 58\\nsex: 1\\ncp: 0\\ntrestbps: 125\\nchol: 300\\nfbs: 0\\nrestecg: 0\\nthalach: 171\\nexang: 0\\noldpeak: 0\\nslope: 2\\nca: 2\\nthal: 3\\ntarget: 0'),\n",
       " Document(metadata={'source': 'heart.csv', 'row': 237}, page_content='age: 60\\nsex: 1\\ncp: 0\\ntrestbps: 140\\nchol: 293\\nfbs: 0\\nrestecg: 0\\nthalach: 170\\nexang: 0\\noldpeak: 1.2\\nslope: 1\\nca: 2\\nthal: 3\\ntarget: 0'),\n",
       " Document(metadata={'source': 'heart.csv', 'row': 238}, page_content='age: 77\\nsex: 1\\ncp: 0\\ntrestbps: 125\\nchol: 304\\nfbs: 0\\nrestecg: 0\\nthalach: 162\\nexang: 1\\noldpeak: 0\\nslope: 2\\nca: 3\\nthal: 2\\ntarget: 0'),\n",
       " Document(metadata={'source': 'heart.csv', 'row': 239}, page_content='age: 35\\nsex: 1\\ncp: 0\\ntrestbps: 126\\nchol: 282\\nfbs: 0\\nrestecg: 0\\nthalach: 156\\nexang: 1\\noldpeak: 0\\nslope: 2\\nca: 0\\nthal: 3\\ntarget: 0'),\n",
       " Document(metadata={'source': 'heart.csv', 'row': 240}, page_content='age: 70\\nsex: 1\\ncp: 2\\ntrestbps: 160\\nchol: 269\\nfbs: 0\\nrestecg: 1\\nthalach: 112\\nexang: 1\\noldpeak: 2.9\\nslope: 1\\nca: 1\\nthal: 3\\ntarget: 0'),\n",
       " Document(metadata={'source': 'heart.csv', 'row': 241}, page_content='age: 59\\nsex: 0\\ncp: 0\\ntrestbps: 174\\nchol: 249\\nfbs: 0\\nrestecg: 1\\nthalach: 143\\nexang: 1\\noldpeak: 0\\nslope: 1\\nca: 0\\nthal: 2\\ntarget: 0'),\n",
       " Document(metadata={'source': 'heart.csv', 'row': 242}, page_content='age: 64\\nsex: 1\\ncp: 0\\ntrestbps: 145\\nchol: 212\\nfbs: 0\\nrestecg: 0\\nthalach: 132\\nexang: 0\\noldpeak: 2\\nslope: 1\\nca: 2\\nthal: 1\\ntarget: 0'),\n",
       " Document(metadata={'source': 'heart.csv', 'row': 243}, page_content='age: 57\\nsex: 1\\ncp: 0\\ntrestbps: 152\\nchol: 274\\nfbs: 0\\nrestecg: 1\\nthalach: 88\\nexang: 1\\noldpeak: 1.2\\nslope: 1\\nca: 1\\nthal: 3\\ntarget: 0'),\n",
       " Document(metadata={'source': 'heart.csv', 'row': 244}, page_content='age: 56\\nsex: 1\\ncp: 0\\ntrestbps: 132\\nchol: 184\\nfbs: 0\\nrestecg: 0\\nthalach: 105\\nexang: 1\\noldpeak: 2.1\\nslope: 1\\nca: 1\\nthal: 1\\ntarget: 0'),\n",
       " Document(metadata={'source': 'heart.csv', 'row': 245}, page_content='age: 48\\nsex: 1\\ncp: 0\\ntrestbps: 124\\nchol: 274\\nfbs: 0\\nrestecg: 0\\nthalach: 166\\nexang: 0\\noldpeak: 0.5\\nslope: 1\\nca: 0\\nthal: 3\\ntarget: 0'),\n",
       " Document(metadata={'source': 'heart.csv', 'row': 246}, page_content='age: 56\\nsex: 0\\ncp: 0\\ntrestbps: 134\\nchol: 409\\nfbs: 0\\nrestecg: 0\\nthalach: 150\\nexang: 1\\noldpeak: 1.9\\nslope: 1\\nca: 2\\nthal: 3\\ntarget: 0'),\n",
       " Document(metadata={'source': 'heart.csv', 'row': 247}, page_content='age: 66\\nsex: 1\\ncp: 1\\ntrestbps: 160\\nchol: 246\\nfbs: 0\\nrestecg: 1\\nthalach: 120\\nexang: 1\\noldpeak: 0\\nslope: 1\\nca: 3\\nthal: 1\\ntarget: 0'),\n",
       " Document(metadata={'source': 'heart.csv', 'row': 248}, page_content='age: 54\\nsex: 1\\ncp: 1\\ntrestbps: 192\\nchol: 283\\nfbs: 0\\nrestecg: 0\\nthalach: 195\\nexang: 0\\noldpeak: 0\\nslope: 2\\nca: 1\\nthal: 3\\ntarget: 0'),\n",
       " Document(metadata={'source': 'heart.csv', 'row': 249}, page_content='age: 69\\nsex: 1\\ncp: 2\\ntrestbps: 140\\nchol: 254\\nfbs: 0\\nrestecg: 0\\nthalach: 146\\nexang: 0\\noldpeak: 2\\nslope: 1\\nca: 3\\nthal: 3\\ntarget: 0'),\n",
       " Document(metadata={'source': 'heart.csv', 'row': 250}, page_content='age: 51\\nsex: 1\\ncp: 0\\ntrestbps: 140\\nchol: 298\\nfbs: 0\\nrestecg: 1\\nthalach: 122\\nexang: 1\\noldpeak: 4.2\\nslope: 1\\nca: 3\\nthal: 3\\ntarget: 0'),\n",
       " Document(metadata={'source': 'heart.csv', 'row': 251}, page_content='age: 43\\nsex: 1\\ncp: 0\\ntrestbps: 132\\nchol: 247\\nfbs: 1\\nrestecg: 0\\nthalach: 143\\nexang: 1\\noldpeak: 0.1\\nslope: 1\\nca: 4\\nthal: 3\\ntarget: 0'),\n",
       " Document(metadata={'source': 'heart.csv', 'row': 252}, page_content='age: 62\\nsex: 0\\ncp: 0\\ntrestbps: 138\\nchol: 294\\nfbs: 1\\nrestecg: 1\\nthalach: 106\\nexang: 0\\noldpeak: 1.9\\nslope: 1\\nca: 3\\nthal: 2\\ntarget: 0'),\n",
       " Document(metadata={'source': 'heart.csv', 'row': 253}, page_content='age: 67\\nsex: 1\\ncp: 0\\ntrestbps: 100\\nchol: 299\\nfbs: 0\\nrestecg: 0\\nthalach: 125\\nexang: 1\\noldpeak: 0.9\\nslope: 1\\nca: 2\\nthal: 2\\ntarget: 0'),\n",
       " Document(metadata={'source': 'heart.csv', 'row': 254}, page_content='age: 59\\nsex: 1\\ncp: 3\\ntrestbps: 160\\nchol: 273\\nfbs: 0\\nrestecg: 0\\nthalach: 125\\nexang: 0\\noldpeak: 0\\nslope: 2\\nca: 0\\nthal: 2\\ntarget: 0'),\n",
       " Document(metadata={'source': 'heart.csv', 'row': 255}, page_content='age: 45\\nsex: 1\\ncp: 0\\ntrestbps: 142\\nchol: 309\\nfbs: 0\\nrestecg: 0\\nthalach: 147\\nexang: 1\\noldpeak: 0\\nslope: 1\\nca: 3\\nthal: 3\\ntarget: 0'),\n",
       " Document(metadata={'source': 'heart.csv', 'row': 256}, page_content='age: 58\\nsex: 1\\ncp: 0\\ntrestbps: 128\\nchol: 259\\nfbs: 0\\nrestecg: 0\\nthalach: 130\\nexang: 1\\noldpeak: 3\\nslope: 1\\nca: 2\\nthal: 3\\ntarget: 0'),\n",
       " Document(metadata={'source': 'heart.csv', 'row': 257}, page_content='age: 50\\nsex: 1\\ncp: 0\\ntrestbps: 144\\nchol: 200\\nfbs: 0\\nrestecg: 0\\nthalach: 126\\nexang: 1\\noldpeak: 0.9\\nslope: 1\\nca: 0\\nthal: 3\\ntarget: 0'),\n",
       " Document(metadata={'source': 'heart.csv', 'row': 258}, page_content='age: 62\\nsex: 0\\ncp: 0\\ntrestbps: 150\\nchol: 244\\nfbs: 0\\nrestecg: 1\\nthalach: 154\\nexang: 1\\noldpeak: 1.4\\nslope: 1\\nca: 0\\nthal: 2\\ntarget: 0'),\n",
       " Document(metadata={'source': 'heart.csv', 'row': 259}, page_content='age: 38\\nsex: 1\\ncp: 3\\ntrestbps: 120\\nchol: 231\\nfbs: 0\\nrestecg: 1\\nthalach: 182\\nexang: 1\\noldpeak: 3.8\\nslope: 1\\nca: 0\\nthal: 3\\ntarget: 0'),\n",
       " Document(metadata={'source': 'heart.csv', 'row': 260}, page_content='age: 66\\nsex: 0\\ncp: 0\\ntrestbps: 178\\nchol: 228\\nfbs: 1\\nrestecg: 1\\nthalach: 165\\nexang: 1\\noldpeak: 1\\nslope: 1\\nca: 2\\nthal: 3\\ntarget: 0'),\n",
       " Document(metadata={'source': 'heart.csv', 'row': 261}, page_content='age: 52\\nsex: 1\\ncp: 0\\ntrestbps: 112\\nchol: 230\\nfbs: 0\\nrestecg: 1\\nthalach: 160\\nexang: 0\\noldpeak: 0\\nslope: 2\\nca: 1\\nthal: 2\\ntarget: 0'),\n",
       " Document(metadata={'source': 'heart.csv', 'row': 262}, page_content='age: 53\\nsex: 1\\ncp: 0\\ntrestbps: 123\\nchol: 282\\nfbs: 0\\nrestecg: 1\\nthalach: 95\\nexang: 1\\noldpeak: 2\\nslope: 1\\nca: 2\\nthal: 3\\ntarget: 0'),\n",
       " Document(metadata={'source': 'heart.csv', 'row': 263}, page_content='age: 63\\nsex: 0\\ncp: 0\\ntrestbps: 108\\nchol: 269\\nfbs: 0\\nrestecg: 1\\nthalach: 169\\nexang: 1\\noldpeak: 1.8\\nslope: 1\\nca: 2\\nthal: 2\\ntarget: 0'),\n",
       " Document(metadata={'source': 'heart.csv', 'row': 264}, page_content='age: 54\\nsex: 1\\ncp: 0\\ntrestbps: 110\\nchol: 206\\nfbs: 0\\nrestecg: 0\\nthalach: 108\\nexang: 1\\noldpeak: 0\\nslope: 1\\nca: 1\\nthal: 2\\ntarget: 0'),\n",
       " Document(metadata={'source': 'heart.csv', 'row': 265}, page_content='age: 66\\nsex: 1\\ncp: 0\\ntrestbps: 112\\nchol: 212\\nfbs: 0\\nrestecg: 0\\nthalach: 132\\nexang: 1\\noldpeak: 0.1\\nslope: 2\\nca: 1\\nthal: 2\\ntarget: 0'),\n",
       " Document(metadata={'source': 'heart.csv', 'row': 266}, page_content='age: 55\\nsex: 0\\ncp: 0\\ntrestbps: 180\\nchol: 327\\nfbs: 0\\nrestecg: 2\\nthalach: 117\\nexang: 1\\noldpeak: 3.4\\nslope: 1\\nca: 0\\nthal: 2\\ntarget: 0'),\n",
       " Document(metadata={'source': 'heart.csv', 'row': 267}, page_content='age: 49\\nsex: 1\\ncp: 2\\ntrestbps: 118\\nchol: 149\\nfbs: 0\\nrestecg: 0\\nthalach: 126\\nexang: 0\\noldpeak: 0.8\\nslope: 2\\nca: 3\\nthal: 2\\ntarget: 0'),\n",
       " Document(metadata={'source': 'heart.csv', 'row': 268}, page_content='age: 54\\nsex: 1\\ncp: 0\\ntrestbps: 122\\nchol: 286\\nfbs: 0\\nrestecg: 0\\nthalach: 116\\nexang: 1\\noldpeak: 3.2\\nslope: 1\\nca: 2\\nthal: 2\\ntarget: 0'),\n",
       " Document(metadata={'source': 'heart.csv', 'row': 269}, page_content='age: 56\\nsex: 1\\ncp: 0\\ntrestbps: 130\\nchol: 283\\nfbs: 1\\nrestecg: 0\\nthalach: 103\\nexang: 1\\noldpeak: 1.6\\nslope: 0\\nca: 0\\nthal: 3\\ntarget: 0'),\n",
       " Document(metadata={'source': 'heart.csv', 'row': 270}, page_content='age: 46\\nsex: 1\\ncp: 0\\ntrestbps: 120\\nchol: 249\\nfbs: 0\\nrestecg: 0\\nthalach: 144\\nexang: 0\\noldpeak: 0.8\\nslope: 2\\nca: 0\\nthal: 3\\ntarget: 0'),\n",
       " Document(metadata={'source': 'heart.csv', 'row': 271}, page_content='age: 61\\nsex: 1\\ncp: 3\\ntrestbps: 134\\nchol: 234\\nfbs: 0\\nrestecg: 1\\nthalach: 145\\nexang: 0\\noldpeak: 2.6\\nslope: 1\\nca: 2\\nthal: 2\\ntarget: 0'),\n",
       " Document(metadata={'source': 'heart.csv', 'row': 272}, page_content='age: 67\\nsex: 1\\ncp: 0\\ntrestbps: 120\\nchol: 237\\nfbs: 0\\nrestecg: 1\\nthalach: 71\\nexang: 0\\noldpeak: 1\\nslope: 1\\nca: 0\\nthal: 2\\ntarget: 0'),\n",
       " Document(metadata={'source': 'heart.csv', 'row': 273}, page_content='age: 58\\nsex: 1\\ncp: 0\\ntrestbps: 100\\nchol: 234\\nfbs: 0\\nrestecg: 1\\nthalach: 156\\nexang: 0\\noldpeak: 0.1\\nslope: 2\\nca: 1\\nthal: 3\\ntarget: 0'),\n",
       " Document(metadata={'source': 'heart.csv', 'row': 274}, page_content='age: 47\\nsex: 1\\ncp: 0\\ntrestbps: 110\\nchol: 275\\nfbs: 0\\nrestecg: 0\\nthalach: 118\\nexang: 1\\noldpeak: 1\\nslope: 1\\nca: 1\\nthal: 2\\ntarget: 0'),\n",
       " Document(metadata={'source': 'heart.csv', 'row': 275}, page_content='age: 52\\nsex: 1\\ncp: 0\\ntrestbps: 125\\nchol: 212\\nfbs: 0\\nrestecg: 1\\nthalach: 168\\nexang: 0\\noldpeak: 1\\nslope: 2\\nca: 2\\nthal: 3\\ntarget: 0'),\n",
       " Document(metadata={'source': 'heart.csv', 'row': 276}, page_content='age: 58\\nsex: 1\\ncp: 0\\ntrestbps: 146\\nchol: 218\\nfbs: 0\\nrestecg: 1\\nthalach: 105\\nexang: 0\\noldpeak: 2\\nslope: 1\\nca: 1\\nthal: 3\\ntarget: 0'),\n",
       " Document(metadata={'source': 'heart.csv', 'row': 277}, page_content='age: 57\\nsex: 1\\ncp: 1\\ntrestbps: 124\\nchol: 261\\nfbs: 0\\nrestecg: 1\\nthalach: 141\\nexang: 0\\noldpeak: 0.3\\nslope: 2\\nca: 0\\nthal: 3\\ntarget: 0'),\n",
       " Document(metadata={'source': 'heart.csv', 'row': 278}, page_content='age: 58\\nsex: 0\\ncp: 1\\ntrestbps: 136\\nchol: 319\\nfbs: 1\\nrestecg: 0\\nthalach: 152\\nexang: 0\\noldpeak: 0\\nslope: 2\\nca: 2\\nthal: 2\\ntarget: 0'),\n",
       " Document(metadata={'source': 'heart.csv', 'row': 279}, page_content='age: 61\\nsex: 1\\ncp: 0\\ntrestbps: 138\\nchol: 166\\nfbs: 0\\nrestecg: 0\\nthalach: 125\\nexang: 1\\noldpeak: 3.6\\nslope: 1\\nca: 1\\nthal: 2\\ntarget: 0'),\n",
       " Document(metadata={'source': 'heart.csv', 'row': 280}, page_content='age: 42\\nsex: 1\\ncp: 0\\ntrestbps: 136\\nchol: 315\\nfbs: 0\\nrestecg: 1\\nthalach: 125\\nexang: 1\\noldpeak: 1.8\\nslope: 1\\nca: 0\\nthal: 1\\ntarget: 0'),\n",
       " Document(metadata={'source': 'heart.csv', 'row': 281}, page_content='age: 52\\nsex: 1\\ncp: 0\\ntrestbps: 128\\nchol: 204\\nfbs: 1\\nrestecg: 1\\nthalach: 156\\nexang: 1\\noldpeak: 1\\nslope: 1\\nca: 0\\nthal: 0\\ntarget: 0'),\n",
       " Document(metadata={'source': 'heart.csv', 'row': 282}, page_content='age: 59\\nsex: 1\\ncp: 2\\ntrestbps: 126\\nchol: 218\\nfbs: 1\\nrestecg: 1\\nthalach: 134\\nexang: 0\\noldpeak: 2.2\\nslope: 1\\nca: 1\\nthal: 1\\ntarget: 0'),\n",
       " Document(metadata={'source': 'heart.csv', 'row': 283}, page_content='age: 40\\nsex: 1\\ncp: 0\\ntrestbps: 152\\nchol: 223\\nfbs: 0\\nrestecg: 1\\nthalach: 181\\nexang: 0\\noldpeak: 0\\nslope: 2\\nca: 0\\nthal: 3\\ntarget: 0'),\n",
       " Document(metadata={'source': 'heart.csv', 'row': 284}, page_content='age: 61\\nsex: 1\\ncp: 0\\ntrestbps: 140\\nchol: 207\\nfbs: 0\\nrestecg: 0\\nthalach: 138\\nexang: 1\\noldpeak: 1.9\\nslope: 2\\nca: 1\\nthal: 3\\ntarget: 0'),\n",
       " Document(metadata={'source': 'heart.csv', 'row': 285}, page_content='age: 46\\nsex: 1\\ncp: 0\\ntrestbps: 140\\nchol: 311\\nfbs: 0\\nrestecg: 1\\nthalach: 120\\nexang: 1\\noldpeak: 1.8\\nslope: 1\\nca: 2\\nthal: 3\\ntarget: 0'),\n",
       " Document(metadata={'source': 'heart.csv', 'row': 286}, page_content='age: 59\\nsex: 1\\ncp: 3\\ntrestbps: 134\\nchol: 204\\nfbs: 0\\nrestecg: 1\\nthalach: 162\\nexang: 0\\noldpeak: 0.8\\nslope: 2\\nca: 2\\nthal: 2\\ntarget: 0'),\n",
       " Document(metadata={'source': 'heart.csv', 'row': 287}, page_content='age: 57\\nsex: 1\\ncp: 1\\ntrestbps: 154\\nchol: 232\\nfbs: 0\\nrestecg: 0\\nthalach: 164\\nexang: 0\\noldpeak: 0\\nslope: 2\\nca: 1\\nthal: 2\\ntarget: 0'),\n",
       " Document(metadata={'source': 'heart.csv', 'row': 288}, page_content='age: 57\\nsex: 1\\ncp: 0\\ntrestbps: 110\\nchol: 335\\nfbs: 0\\nrestecg: 1\\nthalach: 143\\nexang: 1\\noldpeak: 3\\nslope: 1\\nca: 1\\nthal: 3\\ntarget: 0'),\n",
       " Document(metadata={'source': 'heart.csv', 'row': 289}, page_content='age: 55\\nsex: 0\\ncp: 0\\ntrestbps: 128\\nchol: 205\\nfbs: 0\\nrestecg: 2\\nthalach: 130\\nexang: 1\\noldpeak: 2\\nslope: 1\\nca: 1\\nthal: 3\\ntarget: 0'),\n",
       " Document(metadata={'source': 'heart.csv', 'row': 290}, page_content='age: 61\\nsex: 1\\ncp: 0\\ntrestbps: 148\\nchol: 203\\nfbs: 0\\nrestecg: 1\\nthalach: 161\\nexang: 0\\noldpeak: 0\\nslope: 2\\nca: 1\\nthal: 3\\ntarget: 0'),\n",
       " Document(metadata={'source': 'heart.csv', 'row': 291}, page_content='age: 58\\nsex: 1\\ncp: 0\\ntrestbps: 114\\nchol: 318\\nfbs: 0\\nrestecg: 2\\nthalach: 140\\nexang: 0\\noldpeak: 4.4\\nslope: 0\\nca: 3\\nthal: 1\\ntarget: 0'),\n",
       " Document(metadata={'source': 'heart.csv', 'row': 292}, page_content='age: 58\\nsex: 0\\ncp: 0\\ntrestbps: 170\\nchol: 225\\nfbs: 1\\nrestecg: 0\\nthalach: 146\\nexang: 1\\noldpeak: 2.8\\nslope: 1\\nca: 2\\nthal: 1\\ntarget: 0'),\n",
       " Document(metadata={'source': 'heart.csv', 'row': 293}, page_content='age: 67\\nsex: 1\\ncp: 2\\ntrestbps: 152\\nchol: 212\\nfbs: 0\\nrestecg: 0\\nthalach: 150\\nexang: 0\\noldpeak: 0.8\\nslope: 1\\nca: 0\\nthal: 3\\ntarget: 0'),\n",
       " Document(metadata={'source': 'heart.csv', 'row': 294}, page_content='age: 44\\nsex: 1\\ncp: 0\\ntrestbps: 120\\nchol: 169\\nfbs: 0\\nrestecg: 1\\nthalach: 144\\nexang: 1\\noldpeak: 2.8\\nslope: 0\\nca: 0\\nthal: 1\\ntarget: 0'),\n",
       " Document(metadata={'source': 'heart.csv', 'row': 295}, page_content='age: 63\\nsex: 1\\ncp: 0\\ntrestbps: 140\\nchol: 187\\nfbs: 0\\nrestecg: 0\\nthalach: 144\\nexang: 1\\noldpeak: 4\\nslope: 2\\nca: 2\\nthal: 3\\ntarget: 0'),\n",
       " Document(metadata={'source': 'heart.csv', 'row': 296}, page_content='age: 63\\nsex: 0\\ncp: 0\\ntrestbps: 124\\nchol: 197\\nfbs: 0\\nrestecg: 1\\nthalach: 136\\nexang: 1\\noldpeak: 0\\nslope: 1\\nca: 0\\nthal: 2\\ntarget: 0'),\n",
       " Document(metadata={'source': 'heart.csv', 'row': 297}, page_content='age: 59\\nsex: 1\\ncp: 0\\ntrestbps: 164\\nchol: 176\\nfbs: 1\\nrestecg: 0\\nthalach: 90\\nexang: 0\\noldpeak: 1\\nslope: 1\\nca: 2\\nthal: 1\\ntarget: 0'),\n",
       " Document(metadata={'source': 'heart.csv', 'row': 298}, page_content='age: 57\\nsex: 0\\ncp: 0\\ntrestbps: 140\\nchol: 241\\nfbs: 0\\nrestecg: 1\\nthalach: 123\\nexang: 1\\noldpeak: 0.2\\nslope: 1\\nca: 0\\nthal: 3\\ntarget: 0'),\n",
       " Document(metadata={'source': 'heart.csv', 'row': 299}, page_content='age: 45\\nsex: 1\\ncp: 3\\ntrestbps: 110\\nchol: 264\\nfbs: 0\\nrestecg: 1\\nthalach: 132\\nexang: 0\\noldpeak: 1.2\\nslope: 1\\nca: 0\\nthal: 3\\ntarget: 0'),\n",
       " Document(metadata={'source': 'heart.csv', 'row': 300}, page_content='age: 68\\nsex: 1\\ncp: 0\\ntrestbps: 144\\nchol: 193\\nfbs: 1\\nrestecg: 1\\nthalach: 141\\nexang: 0\\noldpeak: 3.4\\nslope: 1\\nca: 2\\nthal: 3\\ntarget: 0'),\n",
       " Document(metadata={'source': 'heart.csv', 'row': 301}, page_content='age: 57\\nsex: 1\\ncp: 0\\ntrestbps: 130\\nchol: 131\\nfbs: 0\\nrestecg: 1\\nthalach: 115\\nexang: 1\\noldpeak: 1.2\\nslope: 1\\nca: 1\\nthal: 3\\ntarget: 0'),\n",
       " Document(metadata={'source': 'heart.csv', 'row': 302}, page_content='age: 57\\nsex: 0\\ncp: 1\\ntrestbps: 130\\nchol: 236\\nfbs: 0\\nrestecg: 0\\nthalach: 174\\nexang: 0\\noldpeak: 0\\nslope: 1\\nca: 1\\nthal: 2\\ntarget: 0')]"
      ]
     },
     "execution_count": 13,
     "metadata": {},
     "output_type": "execute_result"
    }
   ],
   "source": [
    "loaded_data"
   ]
  },
  {
   "cell_type": "markdown",
   "metadata": {},
   "source": [
    "# HTML "
   ]
  },
  {
   "cell_type": "markdown",
   "metadata": {},
   "source": [
    "pip install unstructured==0.15.0"
   ]
  },
  {
   "cell_type": "code",
   "execution_count": 14,
   "metadata": {},
   "outputs": [],
   "source": [
    "from langchain_community.document_loaders import UnstructuredHTMLLoader"
   ]
  },
  {
   "cell_type": "code",
   "execution_count": 15,
   "metadata": {},
   "outputs": [],
   "source": [
    "loader = UnstructuredHTMLLoader('index.html')\n",
    "\n",
    "loaded_data = loader.load()"
   ]
  },
  {
   "cell_type": "code",
   "execution_count": 16,
   "metadata": {},
   "outputs": [
    {
     "data": {
      "text/plain": [
       "'Mozilla is cool\\n\\nAt Mozilla, we’re a global community of\\n\\ntechnologists\\n\\nthinkers\\n\\nbuilders\\n\\nworking together to keep the Internet alive and accessible, so people worldwide can be informed contributors and creators of the Web. We believe this act of human collaboration across an open platform is essential to individual growth and our collective future.\\n\\nRead the Mozilla Manifesto to learn even more about the values and principles that guide the pursuit of our mission.'"
      ]
     },
     "execution_count": 16,
     "metadata": {},
     "output_type": "execute_result"
    }
   ],
   "source": [
    "loaded_data[0].page_content"
   ]
  },
  {
   "cell_type": "code",
   "execution_count": 17,
   "metadata": {},
   "outputs": [
    {
     "name": "stdout",
     "output_type": "stream",
     "text": [
      "Mozilla is cool\n",
      "\n",
      "At Mozilla, we’re a global community of\n",
      "\n",
      "technologists\n",
      "\n",
      "thinkers\n",
      "\n",
      "builders\n",
      "\n",
      "working together to keep the Internet alive and accessible, so people worldwide can be informed contributors and creators of the Web. We believe this act of human collaboration across an open platform is essential to individual growth and our collective future.\n",
      "\n",
      "Read the Mozilla Manifesto to learn even more about the values and principles that guide the pursuit of our mission.\n"
     ]
    }
   ],
   "source": [
    "print(loaded_data[0].page_content)"
   ]
  },
  {
   "cell_type": "markdown",
   "metadata": {},
   "source": [
    "# PDF"
   ]
  },
  {
   "cell_type": "code",
   "execution_count": 18,
   "metadata": {},
   "outputs": [],
   "source": [
    "from langchain_community.document_loaders import PyPDFLoader\n",
    "loader = PyPDFLoader('RenderCV.pdf')\n",
    "loaded_data = loader.load_and_split()"
   ]
  },
  {
   "cell_type": "code",
   "execution_count": 19,
   "metadata": {},
   "outputs": [
    {
     "data": {
      "text/plain": [
       "[Document(metadata={'source': 'RenderCV.pdf', 'page': 0}, page_content='Muskan Ara\\nmuskan17ara@gmail.com |linkedin.com/in/muskan-ara-53bb192a8 |https://github.com/Muskan896F\\nAbout Me\\n\"I’m an aspiring Data Scientist with a strong focus on Generative AI technologies, including experience with\\nadvanced models such as Llama3.3, Groq API, and NLP techniques. I have hands-on expertise in building and\\ndeploying AI-driven solutions for real-time document processing, semantic search, and content generation. During\\nmy recent internship, I gained hands-on experience in data cleaning, analysis, and visualization. I am now eager to\\napply my skills in a role that focuses on using data-driven insights to solve complex problems. I’m passionate about\\nleveraging Generative AI to solve complex problems, enhance productivity, and create impactful solutions.\"\\nExperience\\nData Science Intern Sep–Oct 2024\\nCognifyz, Remote\\n–Conducted data cleaning and preprocessing to ensure the quality and reliability of datasets for analysis.\\n–Utilized Python for data analysis and visualization, leveraging libraries such as pandas ,NumPy , and\\nMatplotlib .\\n–Designed and developed machine learning models for predictive analysis, evaluating their performance to\\ngenerate actionable insights.\\n–Gained expertise in handling, analyzing, and building machine learning models for real-world applications,\\nimproving decision-making processes.\\nData Science Intern Dec 2024–Jan 2025\\nOasis Info Byte, Remote\\n–Leveraged advanced NLP techniques, such as lemmatization, stemming, and word2vec , to identify duplicate\\nquestions and improve user experience on the Quora platform.\\n–Implemented the Random Forest algorithm for classification tasks and integrated Streamlit to create an\\nintuitive user interface for real-time interaction.\\n–Developed a machine learning-based system to identify defective semiconductor wafers, optimizing\\nproduction efficiency and maintaining high-quality standards in integrated circuits.\\n–Applied advanced machine learning techniques to enhance defect detection accuracy in semiconductor\\nmanufacturing, improving operational efficiency.\\nSkills\\n•Programming Languages: Python, SQL, MongoDB\\n•Data Analysis: NumPy, pandas, Matplotlib, seaborn\\n•Machine Learning: Supervised Learning, Unsupervised Learning, Recommendation Systems, NLP techniques\\n(lemmatization, TF-IDF, word2vec)\\n•Deep Learning: ANN, CNN, RNN, LSTM, GRU, Transformers\\n•Libraries: scikit-learn, TensorFlow, Keras, NLTK, Gensim, spacy\\n•Web API Development: Flask, Streamlit, FastApi\\n•Tools & Technologies: VS Code, Jupyter Notebook, Git, GitHub, Docker, MongoDB ,MySQL Workbench\\n•Other Skills: Model deployment, working with APIs, End-to-End project handling'),\n",
       " Document(metadata={'source': 'RenderCV.pdf', 'page': 1}, page_content='Projects\\n•RAG Applications with NVIDIA NeMo and Streamlit GitHub Link\\n- Implemented a sophisticated Retrieval Augmented Generation (RAG) system leveraging NVIDIA’s AI endpoints\\nand Streamlit for document analysis and question-answering.\\n- Developed a multi-PDF document processing pipeline with advanced text chunking and FAISS vector store\\nintegration.\\n- Integrated real-time performance metrics and similarity search visualization for enhanced user experience.\\n- Configured the system to support NVIDIA Llama-3.1-Nemotron-70b for context-aware responses and efficient\\nquery processing.\\n- Optimized document chunking, vector search, and response generation to improve processing time and\\naccuracy.\\n•Reducing Operational Costs with Cost-Sensitive XGBoost-Based Failure Prediction GitHub Link\\n- This project focuses on handling imbalanced sensor data for classification tasks, with techniques such as data\\npreprocessing, model evaluation, and cost analysis.\\n- The dataset contains sensor data with missing values, class imbalance, and various features requiring\\nimputation and scaling.\\n- Several machine learning models, including Random Forest, XGBoost, and CatBoost, are evaluated using\\nmetrics such as accuracy, F1-score, precision, recall, and ROC-AUC score.\\n- Advanced techniques such as KNN imputation, SMOTE-TOMEK for resampling, and robust scaling are used to\\nimprove model performance and handle data irregularities.\\n- The project analyzes multiple experiments, comparing models’ performance and costs, with the goal of\\nidentifying the most effective solution for imbalanced datasets.\\n•AI-Driven Pneumonia Diagnosis: Harnessing Custom CNNs for Chest X-Ray Analysis GitHub Link\\n- Developed a custom convolutional neural network (CNN) to detect pneumonia from chest X-ray images.\\n- Achieved high diagnostic accuracy through rigorous training and validation processes.\\n- Deployed the model in a user-friendly web application for healthcare professionals.\\n•AI-Powered Voice Assistance Using Google’s Gemini 1.5 Pro Model GitHub Link\\n- Built a voice assistant powered by Google’s Gemini 1.5 Pro AI model, designed for engaging and efficient\\nconversations.\\n- Developed the application using Flask, enabling a web interface for handling voice inputs and providing\\nreal-time responses.\\n- Configured the AI model via Google’s Generative AI API, leveraging a customized prompt to ensure clear,\\nconcise, and contextually relevant answers.\\n- Maintained conversation history using a global variable, allowing for context-aware responses and enhancing\\nuser experience.\\n- Processed user queries through an API endpoint, generating dynamic responses and returning them alongside\\nthe conversation history.\\n- Demonstrated effective integration of generative AI into a Flask web application, showcasing its potential for\\ncreating intelligent, user-focused conversational agents.\\n•End-to-End Medical Chatbot Using Llama3.3 GitHub Link\\n- Developed a robust medical chatbot powered by the Llama3.3 model to provide accurate and reliable\\nhealthcare information.\\n- Designed to handle end-to-end interactions, including user query processing, response generation, and context\\nmanagement.\\n- Implemented real-time query handling, context-aware conversation management, and precise medical\\nresponses leveraging Llama3.3’s advanced language understanding capabilities.\\n- Fine-tuned prompts to ensure professional, concise, and medically accurate answers tailored to user inquiries.\\n- Incorporated a user-friendly interface, enabling seamless interaction for patients and healthcare professionals\\nseeking quick and reliable medical information.\\n- Demonstrated the potential of generative AI in healthcare, enhancing accessibility to medical knowledge while\\nmaintaining ethical and contextual considerations.'),\n",
       " Document(metadata={'source': 'RenderCV.pdf', 'page': 2}, page_content='Certifications\\n•Google Data Analytics — Coursera\\nOctober 2024\\nFocused on data analysis techniques, data visualization, and cleaning.\\n•Machine Learning and Deep Learning — Udemy\\nJuly 2024\\nCovered algorithms, neural networks, and deep learning frameworks.\\n•Complete GenAI Course with LangChain and HuggingFace — Udemy\\nSeptember 2024\\nSpecialization in Generative AI, LangChain integration, and HuggingFace models.\\nEducation\\nMaster of Science in Data Science 2023 - 2025\\nChandigarh University, Chandigarh, India\\nKey Courses: Machine Learning, Data Visualization, Big Data Analytics, Statistical Modeling\\nHighlights: Academic projects focused on predictive analytics and real-world data solutions.Last updated in September 2024')]"
      ]
     },
     "execution_count": 19,
     "metadata": {},
     "output_type": "execute_result"
    }
   ],
   "source": [
    "loaded_data"
   ]
  },
  {
   "cell_type": "code",
   "execution_count": 20,
   "metadata": {},
   "outputs": [
    {
     "data": {
      "text/plain": [
       "'Muskan Ara\\nmuskan17ara@gmail.com |linkedin.com/in/muskan-ara-53bb192a8 |https://github.com/Muskan896F\\nAbout Me\\n\"I’m an aspiring Data Scientist with a strong focus on Generative AI technologies, including experience with\\nadvanced models such as Llama3.3, Groq API, and NLP techniques. I have hands-on expertise in building and\\ndeploying AI-driven solutions for real-time document processing, semantic search, and content generation. During\\nmy recent internship, I gained hands-on experience in data cleaning, analysis, and visualization. I am now eager to\\napply my skills in a role that focuses on using data-driven insights to solve complex problems. I’m passionate about\\nleveraging Generative AI to solve complex problems, enhance productivity, and create impactful solutions.\"\\nExperience\\nData Science Intern Sep–Oct 2024\\nCognifyz, Remote\\n–Conducted data cleaning and preprocessing to ensure the quality and reliability of datasets for analysis.\\n–Utilized Python for data analysis and visualization, leveraging libraries such as pandas ,NumPy , and\\nMatplotlib .\\n–Designed and developed machine learning models for predictive analysis, evaluating their performance to\\ngenerate actionable insights.\\n–Gained expertise in handling, analyzing, and building machine learning models for real-world applications,\\nimproving decision-making processes.\\nData Science Intern Dec 2024–Jan 2025\\nOasis Info Byte, Remote\\n–Leveraged advanced NLP techniques, such as lemmatization, stemming, and word2vec , to identify duplicate\\nquestions and improve user experience on the Quora platform.\\n–Implemented the Random Forest algorithm for classification tasks and integrated Streamlit to create an\\nintuitive user interface for real-time interaction.\\n–Developed a machine learning-based system to identify defective semiconductor wafers, optimizing\\nproduction efficiency and maintaining high-quality standards in integrated circuits.\\n–Applied advanced machine learning techniques to enhance defect detection accuracy in semiconductor\\nmanufacturing, improving operational efficiency.\\nSkills\\n•Programming Languages: Python, SQL, MongoDB\\n•Data Analysis: NumPy, pandas, Matplotlib, seaborn\\n•Machine Learning: Supervised Learning, Unsupervised Learning, Recommendation Systems, NLP techniques\\n(lemmatization, TF-IDF, word2vec)\\n•Deep Learning: ANN, CNN, RNN, LSTM, GRU, Transformers\\n•Libraries: scikit-learn, TensorFlow, Keras, NLTK, Gensim, spacy\\n•Web API Development: Flask, Streamlit, FastApi\\n•Tools & Technologies: VS Code, Jupyter Notebook, Git, GitHub, Docker, MongoDB ,MySQL Workbench\\n•Other Skills: Model deployment, working with APIs, End-to-End project handling'"
      ]
     },
     "execution_count": 20,
     "metadata": {},
     "output_type": "execute_result"
    }
   ],
   "source": [
    "loaded_data[0].page_content"
   ]
  },
  {
   "cell_type": "markdown",
   "metadata": {},
   "source": [
    "#  WIKIPEDIA "
   ]
  },
  {
   "cell_type": "code",
   "execution_count": 21,
   "metadata": {},
   "outputs": [],
   "source": [
    "from langchain_community.document_loaders import WikipediaLoader"
   ]
  },
  {
   "cell_type": "code",
   "execution_count": 22,
   "metadata": {},
   "outputs": [],
   "source": [
    "loader = WikipediaLoader(query=\"Tesla\", load_max_docs=1)\n",
    "\n",
    "loaded_data = loader.load()[0].page_content"
   ]
  },
  {
   "cell_type": "code",
   "execution_count": 23,
   "metadata": {},
   "outputs": [
    {
     "data": {
      "text/plain": [
       "'Tesla, Inc. ( TESS-lə or  TEZ-lə) is an American multinational automotive and clean energy company. Headquartered in Austin, Texas, it designs, manufactures and sells battery electric vehicles (BEVs), stationary battery energy storage devices from home to grid-scale, solar panels and solar shingles, and related products and services.\\nTesla was incorporated in July 2003 by Martin Eberhard and Marc Tarpenning as Tesla Motors. Its name is a tribute to inventor and electrical engineer Nikola Tesla. In February 2004, Elon Musk led Tesla\\'s first funding round and became the company\\'s chairman; in 2008, he was named chief executive officer. In 2008, the company began production of its first car model, the Roadster sports car, followed by the Model S sedan in 2012, the Model X SUV in 2015, the Model 3 sedan in 2017, the Model Y crossover in 2020, the Tesla Semi truck in 2022 and the Cybertruck pickup truck in 2023. In June 2021, the Model 3 became the first electric car to sell 1 million units globally. In 2023, the Model Y was the best-selling vehicle, of any kind, globally. In January 2024, the Model Y became the best-selling BEV in history.\\nTesla is one of the world\\'s most valuable companies in terms of market capitalization. Starting in July 2020, it has been the world\\'s most valuable automaker. From October 2021 to March 2022, Tesla was a trillion-dollar company, the seventh U.S. company to do so, and has been so again since November 2024. In 2023, the company led the battery electric vehicle market, with 19.9% share. Also in 2023, the company was ranked 69th in the Forbes Global 2000.\\nTesla has been the subject of lawsuits, government scrutiny, and journalistic criticism, stemming from allegations of multiple cases of whistleblower retaliation, worker rights violations such as sexual harassment and anti-union activities, safety defects leading to dozens of recalls, the lack of a public relations department, and controversial statements from Musk including overpromising on the company\\'s driving assist technology and product release timelines.\\n\\n\\n== History ==\\n\\n\\n=== Founding (2003–2004) ===\\nThe company was incorporated as Tesla Motors, Inc. on July 1, 2003, by Martin Eberhard and Marc Tarpenning. They served as chief executive officer and chief financial officer, respectively. Eberhard said that he wanted to build \"a car manufacturer that is also a technology company\", with its core technologies as \"the battery, the computer software, and the proprietary motor\".\\nIan Wright was Tesla\\'s third employee, joined a few months later. In February 2004, the company raised US$7.5 million (equivalent to $12 million in 2023) in series A funding, including $6.5 million (equivalent to $10 million in 2023) from Elon Musk, who had received $100 million from the sale of his interest in PayPal two years earlier. Musk became the chairman of the board of directors and the largest shareholder of Tesla. J. B. Straubel joined Tesla in May 2004 as chief technical officer.\\nA lawsuit settlement agreed to by Eberhard and Tesla in September 2009 allows all five – Eberhard, Tarpenning, Wright, Musk, and Straubel – to call themselves co-founders.\\n\\n\\n=== Roadster (2005–2009) ===\\n\\nElon Musk took an active role within the company, but was not deeply involved in day-to-day business operations. The company\\'s strategy was to start with a premium sports car aimed at early adopters and then move into more mainstream vehicles, including sedans and affordable compacts.\\nIn February 2006, Musk led Tesla\\'s Series B venture capital funding round of $13 million, which added Valor Equity Partners to the funding team. Musk co-led the third, $40 million round in May 2006 which saw investment from prominent entrepreneurs including Google co-founders Sergey Brin and Larry Page, and former eBay President Jeff Skoll. A fourth round worth $45 million in May 2007 brought the total private financing investment to over $105 million.\\nIn August 2007, Eberhard was asked by the board, led by'"
      ]
     },
     "execution_count": 23,
     "metadata": {},
     "output_type": "execute_result"
    }
   ],
   "source": [
    "loaded_data"
   ]
  },
  {
   "cell_type": "code",
   "execution_count": 24,
   "metadata": {},
   "outputs": [
    {
     "name": "stdout",
     "output_type": "stream",
     "text": [
      "The End\n"
     ]
    }
   ],
   "source": [
    "print(\"The End\")"
   ]
  }
 ],
 "metadata": {
  "kernelspec": {
   "display_name": "Python 3",
   "language": "python",
   "name": "python3"
  },
  "language_info": {
   "codemirror_mode": {
    "name": "ipython",
    "version": 3
   },
   "file_extension": ".py",
   "mimetype": "text/x-python",
   "name": "python",
   "nbconvert_exporter": "python",
   "pygments_lexer": "ipython3",
   "version": "3.11.0"
  }
 },
 "nbformat": 4,
 "nbformat_minor": 2
}
