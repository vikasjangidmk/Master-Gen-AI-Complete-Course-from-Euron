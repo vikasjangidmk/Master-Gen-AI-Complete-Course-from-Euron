{
 "cells": [
  {
   "cell_type": "code",
   "execution_count": 1,
   "metadata": {},
   "outputs": [],
   "source": [
    "import os\n",
    "from dotenv import load_dotenv, find_dotenv\n",
    "_ = load_dotenv(find_dotenv())\n",
    "openai_api_key = os.environ[\"OPENAI_API_KEY\"]"
   ]
  },
  {
   "cell_type": "code",
   "execution_count": 2,
   "metadata": {},
   "outputs": [],
   "source": [
    "from langchain_openai import ChatOpenAI\n",
    "\n",
    "llm = ChatOpenAI(model=\"gpt-3.5-turbo\")"
   ]
  },
  {
   "cell_type": "code",
   "execution_count": 3,
   "metadata": {},
   "outputs": [
    {
     "name": "stdout",
     "output_type": "stream",
     "text": [
      "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\n"
     ]
    }
   ],
   "source": [
    "os.environ['TAVILY_API_KEY'] = \"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\"\n",
    "print(os.getenv('TAVILY_API_KEY'))"
   ]
  },
  {
   "cell_type": "code",
   "execution_count": 4,
   "metadata": {},
   "outputs": [
    {
     "name": "stderr",
     "output_type": "stream",
     "text": [
      "c:\\Users\\vikas\\OneDrive\\Desktop\\Master-Gen-AI-Complete-Course-from-Euron\\MASTER\\Lib\\site-packages\\langchain_community\\tools\\tavily_search\\__init__.py:3: LangChainDeprecationWarning: As of langchain-core 0.3.0, LangChain uses pydantic v2 internally. The langchain_core.pydantic_v1 module was a compatibility shim for pydantic v1, and should no longer be used. Please update the code to import from Pydantic directly.\n",
      "\n",
      "For example, replace imports like: `from langchain_core.pydantic_v1 import BaseModel`\n",
      "with: `from pydantic import BaseModel`\n",
      "or the v1 compatibility namespace if you are working in a code base that has not been fully upgraded to pydantic 2 yet. \tfrom pydantic.v1 import BaseModel\n",
      "\n",
      "  from langchain_community.tools.tavily_search.tool import (\n",
      "c:\\Users\\vikas\\OneDrive\\Desktop\\Master-Gen-AI-Complete-Course-from-Euron\\MASTER\\Lib\\site-packages\\pydantic\\_internal\\_generate_schema.py:775: UserWarning: Mixing V1 models and V2 models (or constructs, like `TypeAdapter`) is not supported. Please upgrade `TavilySearchAPIWrapper` to V2.\n",
      "  warn(\n"
     ]
    }
   ],
   "source": [
    "from langchain_community.tools.tavily_search import TavilySearchResults"
   ]
  },
  {
   "cell_type": "code",
   "execution_count": 5,
   "metadata": {},
   "outputs": [
    {
     "data": {
      "text/plain": [
       "'AttributeError(\"\\'FieldInfo\\' object has no attribute \\'results\\'\")'"
      ]
     },
     "execution_count": 5,
     "metadata": {},
     "output_type": "execute_result"
    }
   ],
   "source": [
    "search = TavilySearchResults(max_results=3)\n",
    "search.invoke(\"Where is the t20 worldcup  2024 played?\")"
   ]
  },
  {
   "cell_type": "code",
   "execution_count": 6,
   "metadata": {},
   "outputs": [],
   "source": [
    "tools = [search]"
   ]
  },
  {
   "cell_type": "code",
   "execution_count": 7,
   "metadata": {},
   "outputs": [
    {
     "data": {
      "text/plain": [
       "[TavilySearchResults(api_wrapper=FieldInfo(default=PydanticUndefined, default_factory=<class 'langchain_community.utilities.tavily_search.TavilySearchAPIWrapper'>, extra={}), max_results=3)]"
      ]
     },
     "execution_count": 7,
     "metadata": {},
     "output_type": "execute_result"
    }
   ],
   "source": [
    "tools"
   ]
  },
  {
   "cell_type": "code",
   "execution_count": 8,
   "metadata": {},
   "outputs": [],
   "source": [
    "from langgraph.prebuilt import create_react_agent\n",
    "\n",
    "agent_executor = create_react_agent(llm, tools)"
   ]
  },
  {
   "cell_type": "code",
   "execution_count": 9,
   "metadata": {},
   "outputs": [
    {
     "data": {
      "text/plain": [
       "[HumanMessage(content='Where is the t20 worldcup  2024 played?', additional_kwargs={}, response_metadata={}, id='bc842447-7b34-470d-b9bc-2a8788fafcd7'),\n",
       " AIMessage(content='', additional_kwargs={'tool_calls': [{'id': 'call_tyVaMNpKv5u0ZBpScEmarjKx', 'function': {'arguments': '{\"query\":\"T20 World Cup 2024 location\"}', 'name': 'tavily_search_results_json'}, 'type': 'function'}], 'refusal': None}, response_metadata={'token_usage': {'completion_tokens': 26, 'prompt_tokens': 94, 'total_tokens': 120, 'completion_tokens_details': {'accepted_prediction_tokens': 0, 'audio_tokens': 0, 'reasoning_tokens': 0, 'rejected_prediction_tokens': 0}, 'prompt_tokens_details': {'audio_tokens': 0, 'cached_tokens': 0}}, 'model_name': 'gpt-3.5-turbo-0125', 'system_fingerprint': None, 'finish_reason': 'tool_calls', 'logprobs': None}, id='run-b72bc86f-a1ed-4102-b915-f4c142638f38-0', tool_calls=[{'name': 'tavily_search_results_json', 'args': {'query': 'T20 World Cup 2024 location'}, 'id': 'call_tyVaMNpKv5u0ZBpScEmarjKx', 'type': 'tool_call'}], usage_metadata={'input_tokens': 94, 'output_tokens': 26, 'total_tokens': 120, 'input_token_details': {'audio': 0, 'cache_read': 0}, 'output_token_details': {'audio': 0, 'reasoning': 0}}),\n",
       " ToolMessage(content='AttributeError(\"\\'FieldInfo\\' object has no attribute \\'results\\'\")', name='tavily_search_results_json', id='76365149-7d01-41d2-8d9f-ac49249a8684', tool_call_id='call_tyVaMNpKv5u0ZBpScEmarjKx'),\n",
       " AIMessage(content='I encountered an issue while trying to retrieve the information. Let me try again to find the location of the T20 World Cup 2024.', additional_kwargs={'tool_calls': [{'id': 'call_H5pMtcuMOk7lvZuK2pVTyPdj', 'function': {'arguments': '{\"query\":\"T20 World Cup 2024 venue\"}', 'name': 'tavily_search_results_json'}, 'type': 'function'}], 'refusal': None}, response_metadata={'token_usage': {'completion_tokens': 57, 'prompt_tokens': 145, 'total_tokens': 202, 'completion_tokens_details': {'accepted_prediction_tokens': 0, 'audio_tokens': 0, 'reasoning_tokens': 0, 'rejected_prediction_tokens': 0}, 'prompt_tokens_details': {'audio_tokens': 0, 'cached_tokens': 0}}, 'model_name': 'gpt-3.5-turbo-0125', 'system_fingerprint': None, 'finish_reason': 'tool_calls', 'logprobs': None}, id='run-4ef48246-6dad-490a-8360-b5d651b5488d-0', tool_calls=[{'name': 'tavily_search_results_json', 'args': {'query': 'T20 World Cup 2024 venue'}, 'id': 'call_H5pMtcuMOk7lvZuK2pVTyPdj', 'type': 'tool_call'}], usage_metadata={'input_tokens': 145, 'output_tokens': 57, 'total_tokens': 202, 'input_token_details': {'audio': 0, 'cache_read': 0}, 'output_token_details': {'audio': 0, 'reasoning': 0}}),\n",
       " ToolMessage(content='AttributeError(\"\\'FieldInfo\\' object has no attribute \\'results\\'\")', name='tavily_search_results_json', id='a9f43b8e-c6d4-41a1-bcbc-2de6cf7894c2', tool_call_id='call_H5pMtcuMOk7lvZuK2pVTyPdj'),\n",
       " AIMessage(content='I apologize for the inconvenience. It seems there is a technical issue with retrieving the information about the T20 World Cup 2024 venue. Let me try one more time to get the location for you.', additional_kwargs={'tool_calls': [{'id': 'call_OOtYiRGrD49FdTUJ794k667c', 'function': {'arguments': '{\"query\":\"T20 World Cup 2024 venue location\"}', 'name': 'tavily_search_results_json'}, 'type': 'function'}], 'refusal': None}, response_metadata={'token_usage': {'completion_tokens': 70, 'prompt_tokens': 229, 'total_tokens': 299, 'completion_tokens_details': {'accepted_prediction_tokens': 0, 'audio_tokens': 0, 'reasoning_tokens': 0, 'rejected_prediction_tokens': 0}, 'prompt_tokens_details': {'audio_tokens': 0, 'cached_tokens': 0}}, 'model_name': 'gpt-3.5-turbo-0125', 'system_fingerprint': None, 'finish_reason': 'tool_calls', 'logprobs': None}, id='run-30f253e6-2ab5-493b-82d9-f972a152b1a0-0', tool_calls=[{'name': 'tavily_search_results_json', 'args': {'query': 'T20 World Cup 2024 venue location'}, 'id': 'call_OOtYiRGrD49FdTUJ794k667c', 'type': 'tool_call'}], usage_metadata={'input_tokens': 229, 'output_tokens': 70, 'total_tokens': 299, 'input_token_details': {'audio': 0, 'cache_read': 0}, 'output_token_details': {'audio': 0, 'reasoning': 0}}),\n",
       " ToolMessage(content='AttributeError(\"\\'FieldInfo\\' object has no attribute \\'results\\'\")', name='tavily_search_results_json', id='b00a0e43-6dfa-403b-b883-b500bf575639', tool_call_id='call_OOtYiRGrD49FdTUJ794k667c'),\n",
       " AIMessage(content=\"I am currently facing difficulties in retrieving the specific location information for the T20 World Cup 2024 venue. Unfortunately, I couldn't provide you with the precise details at this moment. If you have any other questions or need assistance with something else, please feel free to ask.\", additional_kwargs={'refusal': None}, response_metadata={'token_usage': {'completion_tokens': 58, 'prompt_tokens': 326, 'total_tokens': 384, 'completion_tokens_details': {'accepted_prediction_tokens': 0, 'audio_tokens': 0, 'reasoning_tokens': 0, 'rejected_prediction_tokens': 0}, 'prompt_tokens_details': {'audio_tokens': 0, 'cached_tokens': 0}}, 'model_name': 'gpt-3.5-turbo-0125', 'system_fingerprint': None, 'finish_reason': 'stop', 'logprobs': None}, id='run-e1b87fa5-1f78-4455-b714-785c87a31c4a-0', usage_metadata={'input_tokens': 326, 'output_tokens': 58, 'total_tokens': 384, 'input_token_details': {'audio': 0, 'cache_read': 0}, 'output_token_details': {'audio': 0, 'reasoning': 0}})]"
      ]
     },
     "execution_count": 9,
     "metadata": {},
     "output_type": "execute_result"
    }
   ],
   "source": [
    "from langchain_core.messages import HumanMessage\n",
    "\n",
    "response = agent_executor.invoke({\"messages\": [HumanMessage(content=\"Where is the t20 worldcup  2024 played?\")]})\n",
    "\n",
    "response[\"messages\"]"
   ]
  },
  {
   "cell_type": "code",
   "execution_count": 10,
   "metadata": {},
   "outputs": [
    {
     "data": {
      "text/plain": [
       "[HumanMessage(content='what is python ?', additional_kwargs={}, response_metadata={}, id='1a5d12db-a385-4c83-b70c-a5379f400b5e'),\n",
       " AIMessage(content='', additional_kwargs={'tool_calls': [{'id': 'call_mx7OLnAolGh0AQQwmCpBSOBU', 'function': {'arguments': '{\"query\":\"Python programming language\"}', 'name': 'tavily_search_results_json'}, 'type': 'function'}], 'refusal': None}, response_metadata={'token_usage': {'completion_tokens': 21, 'prompt_tokens': 85, 'total_tokens': 106, 'completion_tokens_details': {'accepted_prediction_tokens': 0, 'audio_tokens': 0, 'reasoning_tokens': 0, 'rejected_prediction_tokens': 0}, 'prompt_tokens_details': {'audio_tokens': 0, 'cached_tokens': 0}}, 'model_name': 'gpt-3.5-turbo-0125', 'system_fingerprint': None, 'finish_reason': 'tool_calls', 'logprobs': None}, id='run-75abc859-593d-4d75-a5b1-99d1d13f4d4f-0', tool_calls=[{'name': 'tavily_search_results_json', 'args': {'query': 'Python programming language'}, 'id': 'call_mx7OLnAolGh0AQQwmCpBSOBU', 'type': 'tool_call'}], usage_metadata={'input_tokens': 85, 'output_tokens': 21, 'total_tokens': 106, 'input_token_details': {'audio': 0, 'cache_read': 0}, 'output_token_details': {'audio': 0, 'reasoning': 0}}),\n",
       " ToolMessage(content='AttributeError(\"\\'FieldInfo\\' object has no attribute \\'results\\'\")', name='tavily_search_results_json', id='2ae0a148-f81f-4b66-b12a-347b9f1f2229', tool_call_id='call_mx7OLnAolGh0AQQwmCpBSOBU'),\n",
       " AIMessage(content='Python is a high-level programming language known for its simplicity and readability. It is widely used for web development, data science, artificial intelligence, and more. Python emphasizes code readability and allows programmers to express concepts in fewer lines of code compared to other languages. It has a large standard library and a vibrant community that contributes to its popularity.', additional_kwargs={'refusal': None}, response_metadata={'token_usage': {'completion_tokens': 69, 'prompt_tokens': 131, 'total_tokens': 200, 'completion_tokens_details': {'accepted_prediction_tokens': 0, 'audio_tokens': 0, 'reasoning_tokens': 0, 'rejected_prediction_tokens': 0}, 'prompt_tokens_details': {'audio_tokens': 0, 'cached_tokens': 0}}, 'model_name': 'gpt-3.5-turbo-0125', 'system_fingerprint': None, 'finish_reason': 'stop', 'logprobs': None}, id='run-a6ca63f4-89d7-402d-aa47-a6475707bea2-0', usage_metadata={'input_tokens': 131, 'output_tokens': 69, 'total_tokens': 200, 'input_token_details': {'audio': 0, 'cache_read': 0}, 'output_token_details': {'audio': 0, 'reasoning': 0}})]"
      ]
     },
     "execution_count": 10,
     "metadata": {},
     "output_type": "execute_result"
    }
   ],
   "source": [
    "from langchain_core.messages import HumanMessage\n",
    "\n",
    "response = agent_executor.invoke({\"messages\": [HumanMessage(content=\"what is python ?\")]})\n",
    "\n",
    "response[\"messages\"]"
   ]
  },
  {
   "cell_type": "code",
   "execution_count": 11,
   "metadata": {},
   "outputs": [
    {
     "name": "stdout",
     "output_type": "stream",
     "text": [
      "{'agent': {'messages': [AIMessage(content='', additional_kwargs={'tool_calls': [{'id': 'call_VbVeJMKsgUGSz7QxaQAawmvw', 'function': {'arguments': '{\"query\":\"T20 World Cup 2024 schedule and location\"}', 'name': 'tavily_search_results_json'}, 'type': 'function'}], 'refusal': None}, response_metadata={'token_usage': {'completion_tokens': 28, 'prompt_tokens': 96, 'total_tokens': 124, 'completion_tokens_details': {'accepted_prediction_tokens': 0, 'audio_tokens': 0, 'reasoning_tokens': 0, 'rejected_prediction_tokens': 0}, 'prompt_tokens_details': {'audio_tokens': 0, 'cached_tokens': 0}}, 'model_name': 'gpt-3.5-turbo-0125', 'system_fingerprint': None, 'finish_reason': 'tool_calls', 'logprobs': None}, id='run-4cbc6ffd-587f-4216-b903-dbdbaa80073b-0', tool_calls=[{'name': 'tavily_search_results_json', 'args': {'query': 'T20 World Cup 2024 schedule and location'}, 'id': 'call_VbVeJMKsgUGSz7QxaQAawmvw', 'type': 'tool_call'}], usage_metadata={'input_tokens': 96, 'output_tokens': 28, 'total_tokens': 124, 'input_token_details': {'audio': 0, 'cache_read': 0}, 'output_token_details': {'audio': 0, 'reasoning': 0}})]}}\n",
      "----\n",
      "{'tools': {'messages': [ToolMessage(content='AttributeError(\"\\'FieldInfo\\' object has no attribute \\'results\\'\")', name='tavily_search_results_json', tool_call_id='call_VbVeJMKsgUGSz7QxaQAawmvw')]}}\n",
      "----\n",
      "{'agent': {'messages': [AIMessage(content='I encountered an issue while trying to retrieve the information. Let me try again to find the details about the T20 World Cup 2024 schedule and location.', additional_kwargs={'tool_calls': [{'id': 'call_de6yqR7oDGkQbBO8uUlP73OF', 'function': {'arguments': '{\"query\":\"T20 World Cup 2024 venue and dates\"}', 'name': 'tavily_search_results_json'}, 'type': 'function'}], 'refusal': None}, response_metadata={'token_usage': {'completion_tokens': 62, 'prompt_tokens': 149, 'total_tokens': 211, 'completion_tokens_details': {'accepted_prediction_tokens': 0, 'audio_tokens': 0, 'reasoning_tokens': 0, 'rejected_prediction_tokens': 0}, 'prompt_tokens_details': {'audio_tokens': 0, 'cached_tokens': 0}}, 'model_name': 'gpt-3.5-turbo-0125', 'system_fingerprint': None, 'finish_reason': 'tool_calls', 'logprobs': None}, id='run-c2f42c42-9498-49fe-a560-794cd0bce0b2-0', tool_calls=[{'name': 'tavily_search_results_json', 'args': {'query': 'T20 World Cup 2024 venue and dates'}, 'id': 'call_de6yqR7oDGkQbBO8uUlP73OF', 'type': 'tool_call'}], usage_metadata={'input_tokens': 149, 'output_tokens': 62, 'total_tokens': 211, 'input_token_details': {'audio': 0, 'cache_read': 0}, 'output_token_details': {'audio': 0, 'reasoning': 0}})]}}\n",
      "----\n",
      "{'tools': {'messages': [ToolMessage(content='AttributeError(\"\\'FieldInfo\\' object has no attribute \\'results\\'\")', name='tavily_search_results_json', tool_call_id='call_de6yqR7oDGkQbBO8uUlP73OF')]}}\n",
      "----\n",
      "{'agent': {'messages': [AIMessage(content=\"I apologize for the inconvenience. It seems I'm unable to retrieve the specific details about the T20 World Cup 2024 schedule and location at the moment. You may want to check official cricket websites or news sources for the most up-to-date information on the T20 World Cup 2024.\", additional_kwargs={'refusal': None}, response_metadata={'token_usage': {'completion_tokens': 62, 'prompt_tokens': 238, 'total_tokens': 300, 'completion_tokens_details': {'accepted_prediction_tokens': 0, 'audio_tokens': 0, 'reasoning_tokens': 0, 'rejected_prediction_tokens': 0}, 'prompt_tokens_details': {'audio_tokens': 0, 'cached_tokens': 0}}, 'model_name': 'gpt-3.5-turbo-0125', 'system_fingerprint': None, 'finish_reason': 'stop', 'logprobs': None}, id='run-920d85eb-e49f-4fb0-b4e6-613271ad2960-0', usage_metadata={'input_tokens': 238, 'output_tokens': 62, 'total_tokens': 300, 'input_token_details': {'audio': 0, 'cache_read': 0}, 'output_token_details': {'audio': 0, 'reasoning': 0}})]}}\n",
      "----\n"
     ]
    }
   ],
   "source": [
    "for chunk in agent_executor.stream(\n",
    "    {\"messages\": [HumanMessage(content=\"When and Where is the t20 worldcup  2024 played?\")]}\n",
    "):\n",
    "    print(chunk)\n",
    "    print(\"----\")"
   ]
  },
  {
   "cell_type": "markdown",
   "metadata": {},
   "source": [
    "## Adding memory\n",
    "* Adding memory in LangGraph is very similar to what we did with LangChain."
   ]
  },
  {
   "cell_type": "code",
   "execution_count": 12,
   "metadata": {},
   "outputs": [],
   "source": [
    "from langgraph.checkpoint.memory import MemorySaver\n",
    "\n",
    "memory = MemorySaver()"
   ]
  },
  {
   "cell_type": "code",
   "execution_count": 13,
   "metadata": {},
   "outputs": [],
   "source": [
    "agent_executor = create_react_agent(llm, tools, checkpointer=memory)\n",
    "\n",
    "config = {\"configurable\": {\"thread_id\": \"001\"}}"
   ]
  },
  {
   "cell_type": "code",
   "execution_count": 14,
   "metadata": {},
   "outputs": [
    {
     "name": "stdout",
     "output_type": "stream",
     "text": [
      "{'agent': {'messages': [AIMessage(content='', additional_kwargs={'tool_calls': [{'id': 'call_TmJI8n9vAAKxQtiSg0cXbOGa', 'function': {'arguments': '{\"query\":\"T20 World Cup 2024 winner\"}', 'name': 'tavily_search_results_json'}, 'type': 'function'}], 'refusal': None}, response_metadata={'token_usage': {'completion_tokens': 26, 'prompt_tokens': 94, 'total_tokens': 120, 'completion_tokens_details': {'accepted_prediction_tokens': 0, 'audio_tokens': 0, 'reasoning_tokens': 0, 'rejected_prediction_tokens': 0}, 'prompt_tokens_details': {'audio_tokens': 0, 'cached_tokens': 0}}, 'model_name': 'gpt-3.5-turbo-0125', 'system_fingerprint': None, 'finish_reason': 'tool_calls', 'logprobs': None}, id='run-1ab5f8f9-c7b9-4d41-8351-3b8597297438-0', tool_calls=[{'name': 'tavily_search_results_json', 'args': {'query': 'T20 World Cup 2024 winner'}, 'id': 'call_TmJI8n9vAAKxQtiSg0cXbOGa', 'type': 'tool_call'}], usage_metadata={'input_tokens': 94, 'output_tokens': 26, 'total_tokens': 120, 'input_token_details': {'audio': 0, 'cache_read': 0}, 'output_token_details': {'audio': 0, 'reasoning': 0}})]}}\n",
      "----\n",
      "{'tools': {'messages': [ToolMessage(content='AttributeError(\"\\'FieldInfo\\' object has no attribute \\'results\\'\")', name='tavily_search_results_json', tool_call_id='call_TmJI8n9vAAKxQtiSg0cXbOGa')]}}\n",
      "----\n",
      "{'agent': {'messages': [AIMessage(content='I encountered an issue while trying to retrieve the information. Let me attempt the search again.', additional_kwargs={'tool_calls': [{'id': 'call_ZueWE0gLYfWPun9UFpxI9HeC', 'function': {'arguments': '{\"query\":\"T20 World Cup 2024 winner\"}', 'name': 'tavily_search_results_json'}, 'type': 'function'}], 'refusal': None}, response_metadata={'token_usage': {'completion_tokens': 46, 'prompt_tokens': 145, 'total_tokens': 191, 'completion_tokens_details': {'accepted_prediction_tokens': 0, 'audio_tokens': 0, 'reasoning_tokens': 0, 'rejected_prediction_tokens': 0}, 'prompt_tokens_details': {'audio_tokens': 0, 'cached_tokens': 0}}, 'model_name': 'gpt-3.5-turbo-0125', 'system_fingerprint': None, 'finish_reason': 'tool_calls', 'logprobs': None}, id='run-e3dfd4a7-b98e-419c-be8b-615f7a28d637-0', tool_calls=[{'name': 'tavily_search_results_json', 'args': {'query': 'T20 World Cup 2024 winner'}, 'id': 'call_ZueWE0gLYfWPun9UFpxI9HeC', 'type': 'tool_call'}], usage_metadata={'input_tokens': 145, 'output_tokens': 46, 'total_tokens': 191, 'input_token_details': {'audio': 0, 'cache_read': 0}, 'output_token_details': {'audio': 0, 'reasoning': 0}})]}}\n",
      "----\n",
      "{'tools': {'messages': [ToolMessage(content='AttributeError(\"\\'FieldInfo\\' object has no attribute \\'results\\'\")', name='tavily_search_results_json', tool_call_id='call_ZueWE0gLYfWPun9UFpxI9HeC')]}}\n",
      "----\n",
      "{'agent': {'messages': [AIMessage(content='I apologize for the inconvenience. It seems there is an issue with retrieving the information about the T20 World Cup 2024 winner. Let me try another approach to get the accurate results.', additional_kwargs={'tool_calls': [{'id': 'call_TUipTaC84fuY6nk3042KO9Pg', 'function': {'arguments': '{\"query\": \"T20 World Cup 2024 winner\"}', 'name': 'tavily_search_results_json'}, 'type': 'function'}, {'id': 'call_YU3NA3nRSUysS67F8F2ZJHAC', 'function': {'arguments': '{\"query\": \"T20 World Cup 2024 results\"}', 'name': 'tavily_search_results_json'}, 'type': 'function'}], 'refusal': None}, response_metadata={'token_usage': {'completion_tokens': 106, 'prompt_tokens': 218, 'total_tokens': 324, 'completion_tokens_details': {'accepted_prediction_tokens': 0, 'audio_tokens': 0, 'reasoning_tokens': 0, 'rejected_prediction_tokens': 0}, 'prompt_tokens_details': {'audio_tokens': 0, 'cached_tokens': 0}}, 'model_name': 'gpt-3.5-turbo-0125', 'system_fingerprint': None, 'finish_reason': 'tool_calls', 'logprobs': None}, id='run-e063e101-a456-4a2a-853a-896fc70906e2-0', tool_calls=[{'name': 'tavily_search_results_json', 'args': {'query': 'T20 World Cup 2024 winner'}, 'id': 'call_TUipTaC84fuY6nk3042KO9Pg', 'type': 'tool_call'}, {'name': 'tavily_search_results_json', 'args': {'query': 'T20 World Cup 2024 results'}, 'id': 'call_YU3NA3nRSUysS67F8F2ZJHAC', 'type': 'tool_call'}], usage_metadata={'input_tokens': 218, 'output_tokens': 106, 'total_tokens': 324, 'input_token_details': {'audio': 0, 'cache_read': 0}, 'output_token_details': {'audio': 0, 'reasoning': 0}})]}}\n",
      "----\n",
      "{'tools': {'messages': [ToolMessage(content='AttributeError(\"\\'FieldInfo\\' object has no attribute \\'results\\'\")', name='tavily_search_results_json', tool_call_id='call_TUipTaC84fuY6nk3042KO9Pg'), ToolMessage(content='AttributeError(\"\\'FieldInfo\\' object has no attribute \\'results\\'\")', name='tavily_search_results_json', tool_call_id='call_YU3NA3nRSUysS67F8F2ZJHAC')]}}\n",
      "----\n",
      "{'agent': {'messages': [AIMessage(content='I apologize for the inconvenience. It seems I am still unable to retrieve the information about the T20 World Cup 2024 winner. If you have another question or need assistance with something else, feel free to let me know.', additional_kwargs={'refusal': None}, response_metadata={'token_usage': {'completion_tokens': 48, 'prompt_tokens': 369, 'total_tokens': 417, 'completion_tokens_details': {'accepted_prediction_tokens': 0, 'audio_tokens': 0, 'reasoning_tokens': 0, 'rejected_prediction_tokens': 0}, 'prompt_tokens_details': {'audio_tokens': 0, 'cached_tokens': 0}}, 'model_name': 'gpt-3.5-turbo-0125', 'system_fingerprint': None, 'finish_reason': 'stop', 'logprobs': None}, id='run-2b35ee5f-d8e5-45cb-a2df-2de7b275a41d-0', usage_metadata={'input_tokens': 369, 'output_tokens': 48, 'total_tokens': 417, 'input_token_details': {'audio': 0, 'cache_read': 0}, 'output_token_details': {'audio': 0, 'reasoning': 0}})]}}\n",
      "----\n"
     ]
    }
   ],
   "source": [
    "for chunk in agent_executor.stream(\n",
    "    {\"messages\": [HumanMessage(content=\"Who won the  t20 worldcup  2024 ?\")]}, config\n",
    "):\n",
    "    print(chunk)\n",
    "    print(\"----\")"
   ]
  },
  {
   "cell_type": "code",
   "execution_count": 15,
   "metadata": {},
   "outputs": [
    {
     "name": "stdout",
     "output_type": "stream",
     "text": [
      "{'agent': {'messages': [AIMessage(content='', additional_kwargs={'tool_calls': [{'id': 'call_iDdRlIVxBEMHz2J0xZJcpoDm', 'function': {'arguments': '{\"query\":\"Top players of T20 World Cup 2024 winner team\"}', 'name': 'tavily_search_results_json'}, 'type': 'function'}], 'refusal': None}, response_metadata={'token_usage': {'completion_tokens': 30, 'prompt_tokens': 433, 'total_tokens': 463, 'completion_tokens_details': {'accepted_prediction_tokens': 0, 'audio_tokens': 0, 'reasoning_tokens': 0, 'rejected_prediction_tokens': 0}, 'prompt_tokens_details': {'audio_tokens': 0, 'cached_tokens': 0}}, 'model_name': 'gpt-3.5-turbo-0125', 'system_fingerprint': None, 'finish_reason': 'tool_calls', 'logprobs': None}, id='run-c5323d52-3455-4c1d-8bca-5970adcd6a76-0', tool_calls=[{'name': 'tavily_search_results_json', 'args': {'query': 'Top players of T20 World Cup 2024 winner team'}, 'id': 'call_iDdRlIVxBEMHz2J0xZJcpoDm', 'type': 'tool_call'}], usage_metadata={'input_tokens': 433, 'output_tokens': 30, 'total_tokens': 463, 'input_token_details': {'audio': 0, 'cache_read': 0}, 'output_token_details': {'audio': 0, 'reasoning': 0}})]}}\n",
      "----\n",
      "{'tools': {'messages': [ToolMessage(content='AttributeError(\"\\'FieldInfo\\' object has no attribute \\'results\\'\")', name='tavily_search_results_json', tool_call_id='call_iDdRlIVxBEMHz2J0xZJcpoDm')]}}\n",
      "----\n",
      "{'agent': {'messages': [AIMessage(content='I encountered an issue while trying to retrieve the information about the top players of the T20 World Cup 2024 winner team. Let me attempt the search again.', additional_kwargs={'tool_calls': [{'id': 'call_tLsMMa9wyCAc7v1C22JnhGsd', 'function': {'arguments': '{\"query\":\"Top players of T20 World Cup 2024 winner team\"}', 'name': 'tavily_search_results_json'}, 'type': 'function'}], 'refusal': None}, response_metadata={'token_usage': {'completion_tokens': 65, 'prompt_tokens': 488, 'total_tokens': 553, 'completion_tokens_details': {'accepted_prediction_tokens': 0, 'audio_tokens': 0, 'reasoning_tokens': 0, 'rejected_prediction_tokens': 0}, 'prompt_tokens_details': {'audio_tokens': 0, 'cached_tokens': 0}}, 'model_name': 'gpt-3.5-turbo-0125', 'system_fingerprint': None, 'finish_reason': 'tool_calls', 'logprobs': None}, id='run-971ffe5a-f5eb-4d25-af99-6bf5562a26f1-0', tool_calls=[{'name': 'tavily_search_results_json', 'args': {'query': 'Top players of T20 World Cup 2024 winner team'}, 'id': 'call_tLsMMa9wyCAc7v1C22JnhGsd', 'type': 'tool_call'}], usage_metadata={'input_tokens': 488, 'output_tokens': 65, 'total_tokens': 553, 'input_token_details': {'audio': 0, 'cache_read': 0}, 'output_token_details': {'audio': 0, 'reasoning': 0}})]}}\n",
      "----\n",
      "{'tools': {'messages': [ToolMessage(content='AttributeError(\"\\'FieldInfo\\' object has no attribute \\'results\\'\")', name='tavily_search_results_json', tool_call_id='call_tLsMMa9wyCAc7v1C22JnhGsd')]}}\n",
      "----\n",
      "{'agent': {'messages': [AIMessage(content='I apologize for the inconvenience. It seems there is still an issue with retrieving the information about the top players of the T20 World Cup 2024 winner team. If you have any other questions or need assistance with something else, please let me know.', additional_kwargs={'refusal': None}, response_metadata={'token_usage': {'completion_tokens': 53, 'prompt_tokens': 580, 'total_tokens': 633, 'completion_tokens_details': {'accepted_prediction_tokens': 0, 'audio_tokens': 0, 'reasoning_tokens': 0, 'rejected_prediction_tokens': 0}, 'prompt_tokens_details': {'audio_tokens': 0, 'cached_tokens': 0}}, 'model_name': 'gpt-3.5-turbo-0125', 'system_fingerprint': None, 'finish_reason': 'stop', 'logprobs': None}, id='run-fd33f53b-994e-4d1e-9afb-fe0178d8a802-0', usage_metadata={'input_tokens': 580, 'output_tokens': 53, 'total_tokens': 633, 'input_token_details': {'audio': 0, 'cache_read': 0}, 'output_token_details': {'audio': 0, 'reasoning': 0}})]}}\n",
      "----\n"
     ]
    }
   ],
   "source": [
    "for chunk in agent_executor.stream(\n",
    "    {\"messages\": [HumanMessage(content=\"Who were the top stars of that winner team?\")]}, config\n",
    "):\n",
    "    print(chunk)\n",
    "    print(\"----\")"
   ]
  },
  {
   "cell_type": "code",
   "execution_count": 16,
   "metadata": {},
   "outputs": [
    {
     "name": "stdout",
     "output_type": "stream",
     "text": [
      "{'agent': {'messages': [AIMessage(content='I am not sure which team you are referring to. Could you please provide me with more context or clarify the name of the team so I can assist you better?', additional_kwargs={'refusal': None}, response_metadata={'token_usage': {'completion_tokens': 35, 'prompt_tokens': 91, 'total_tokens': 126, 'completion_tokens_details': {'accepted_prediction_tokens': 0, 'audio_tokens': 0, 'reasoning_tokens': 0, 'rejected_prediction_tokens': 0}, 'prompt_tokens_details': {'audio_tokens': 0, 'cached_tokens': 0}}, 'model_name': 'gpt-3.5-turbo-0125', 'system_fingerprint': None, 'finish_reason': 'stop', 'logprobs': None}, id='run-33ad355a-1eaf-474d-b4a2-3fd4c23fa544-0', usage_metadata={'input_tokens': 91, 'output_tokens': 35, 'total_tokens': 126, 'input_token_details': {'audio': 0, 'cache_read': 0}, 'output_token_details': {'audio': 0, 'reasoning': 0}})]}}\n",
      "----\n"
     ]
    }
   ],
   "source": [
    "config = {\"configurable\": {\"thread_id\": \"002\"}}\n",
    "\n",
    "for chunk in agent_executor.stream(\n",
    "    {\"messages\": [HumanMessage(content=\"About what team t20  we were talking?\")]}, config\n",
    "):\n",
    "    print(chunk)\n",
    "    print(\"----\")"
   ]
  },
  {
   "cell_type": "code",
   "execution_count": 18,
   "metadata": {},
   "outputs": [
    {
     "name": "stdout",
     "output_type": "stream",
     "text": [
      "The End\n"
     ]
    }
   ],
   "source": [
    "print(\"The End\")"
   ]
  }
 ],
 "metadata": {
  "kernelspec": {
   "display_name": "Python 3",
   "language": "python",
   "name": "python3"
  },
  "language_info": {
   "codemirror_mode": {
    "name": "ipython",
    "version": 3
   },
   "file_extension": ".py",
   "mimetype": "text/x-python",
   "name": "python",
   "nbconvert_exporter": "python",
   "pygments_lexer": "ipython3",
   "version": "3.11.0"
  }
 },
 "nbformat": 4,
 "nbformat_minor": 2
}
