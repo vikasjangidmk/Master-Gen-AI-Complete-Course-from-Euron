{
 "cells": [
  {
   "cell_type": "markdown",
   "metadata": {},
   "source": [
    "### 10 Prompt Engineering Tips (Short Version)\n",
    "Be Clear:\n",
    "Use specific and precise instructions. Example: \"Summarize in 2 sentences.\"\n",
    "\n",
    "Define Output Format:\n",
    "Request structured responses like bullet points, JSON, or HTML.\n",
    "\n",
    "Ask for a Self-Check:\n",
    "Add checks like: \"If unsure, respond with 'No information.'\"\n",
    "\n",
    "Use Delimiters or Tags:\n",
    "Separate instructions and context clearly to avoid confusion.\n",
    "\n",
    "Role Prompting:\n",
    "Assign a role to the model to adjust style and tone, e.g., \"Act as a mathematician.\"\n",
    "\n",
    "Limit Context:\n",
    "Use only the most relevant parts of a document to improve response accuracy.\n",
    "\n",
    "Show Examples:\n",
    "Provide examples to guide the model toward desired responses.\n",
    "\n",
    "Ask for Explanation:\n",
    "Request reasoning to improve accuracy, especially for logical tasks.\n",
    "\n",
    "Provide Step-by-Step Instructions:\n",
    "Include detailed steps or examples for better problem-solving.\n",
    "\n",
    "Split Tasks:\n",
    "Break complex tasks into smaller subtasks (prompt chaining) for more control."
   ]
  },
  {
   "cell_type": "markdown",
   "metadata": {},
   "source": [
    "## Types of Prompting with Examples \n",
    "1. Zero-Shot Prompting:\n",
    "\n",
    "Ask a task without examples.\n",
    "Example: \"Translate this to French: Hello.\"\n",
    "\n",
    "2. One-Shot Prompting:\n",
    "\n",
    "Provide one example before the task.\n",
    "Example:\n",
    "\"Translate: 'Hello -> Bonjour'. Now, translate: 'Goodbye'.\"\n",
    "\n",
    "3. Few-Shot Prompting:\n",
    "\n",
    "Provide a few examples to guide the model.\n",
    "Example:\n",
    "\"Translate: 'Hello -> Bonjour', 'Cat -> Chat'. Now, translate: 'Dog'.\"\n",
    "\n",
    "4. Chain-of-Thought Prompting:\n",
    "\n",
    "Encourage step-by-step reasoning.\n",
    "Example:\n",
    "\"Calculate: If 5 apples cost $10, what is the cost of 2 apples? Step-by-step, first find the cost of 1 apple...\"\n",
    "\n",
    "5. Role-Based Prompting:\n",
    "\n",
    "Assign a role to influence tone or expertise.\n",
    "Example:\n",
    "\"You are a teacher. Explain Python functions to beginners.\"\n",
    "\n",
    "6. Instruction-Based Prompting:\n",
    "\n",
    "Provide detailed instructions for specific output.\n",
    "Example:\n",
    "\"Summarize the text in 3 bullet points.\"\n",
    "\n",
    "7. Interactive Prompting:\n",
    "\n",
    "Use iterative inputs for clarification or refinement.\n",
    "Example:\n",
    "\"Rewrite this text to make it formal. If unclear, ask questions.\"\n",
    "\n",
    "8. Prompt Chaining:\n",
    "\n",
    "Break tasks into smaller parts.\n",
    "Example:\n",
    "\"First, generate a title. Then create an outline. Finally, write the content.\"\n",
    "\n",
    "9. Contextual Prompting:\n",
    "\n",
    "Provide relevant context for better responses.\n",
    "Example:\n",
    "\"Based on the given paragraph, summarize it in one sentence.\"\n",
    "\n",
    "10. Multimodal Prompting:\n",
    "\n",
    "Use text along with other inputs like images.\n",
    "Example:\n",
    "\"Describe the attached image in one sentence.\""
   ]
  },
  {
   "cell_type": "code",
   "execution_count": 1,
   "metadata": {},
   "outputs": [],
   "source": [
    "from langchain_openai import ChatOpenAI\n",
    "\n",
    "chatModel = ChatOpenAI(model=\"gpt-3.5-turbo\")"
   ]
  },
  {
   "cell_type": "code",
   "execution_count": 2,
   "metadata": {},
   "outputs": [],
   "source": [
    "import os\n",
    "from dotenv import load_dotenv, find_dotenv\n",
    "_ = load_dotenv(find_dotenv())\n",
    "openai_api_key = os.environ[\"OPENAI_API_KEY\"]"
   ]
  },
  {
   "cell_type": "code",
   "execution_count": 3,
   "metadata": {},
   "outputs": [
    {
     "name": "stdout",
     "output_type": "stream",
     "text": [
      "Here is an example of a study schedule for one week in a tabular format:\n",
      "\n",
      "| Day          | Subject/Topic to Study       | Study Time (hours)   |\n",
      "|--------------|------------------------------|-----------------------|\n",
      "| Monday       | Math                        | 2                     |\n",
      "|              | Science                     | 2                     |\n",
      "|              | Revision                    | 1                     |\n",
      "| Tuesday      | English                     | 2                     |\n",
      "|              | History                     | 2                     |\n",
      "|              | Revision                    | 1                     |\n",
      "| Wednesday    | Math                        | 2                     |\n",
      "|              | Science                     | 2                     |\n",
      "|              | Revision                    | 1                     |\n",
      "| Thursday     | English                     | 2                     |\n",
      "|              | History                     | 2                     |\n",
      "|              | Revision                    | 1                     |\n",
      "| Friday       | Mock Test                   | 3                     |\n",
      "|              | Revision                    | 2                     |\n",
      "| Saturday     | Mock Test                   | 3                     |\n",
      "|              | Revision                    | 2                     |\n",
      "| Sunday       | Rest/Relaxation             | -                     |\n",
      "\n",
      "Additionally, make sure to:\n",
      "- Stay organized with your study materials\n",
      "- Take regular breaks to avoid burnout\n",
      "- Practice past exam papers\n",
      "- Get enough sleep and maintain a healthy diet\n",
      "- Stay positive and believe in yourself.\n"
     ]
    }
   ],
   "source": [
    "prompt = \"\"\"\n",
    "How can I effectively prepare for my board exams?\n",
    "Example: 'Create a schedule for one week in a tabular format'\n",
    "\"\"\"\n",
    "\n",
    "response = chatModel.invoke(prompt)\n",
    "\n",
    "study_schedule = response.content\n",
    "print(study_schedule)"
   ]
  },
  {
   "cell_type": "code",
   "execution_count": 4,
   "metadata": {},
   "outputs": [
    {
     "name": "stdout",
     "output_type": "stream",
     "text": [
      "Example 3: 'Create a study schedule and stick to it consistently, making sure to allocate enough time for each subject.'\n",
      "Example 4: 'Seek help from teachers, classmates, or tutors if there are any areas you are struggling with.'\n",
      "Example 5: 'Practice solving sample questions and take mock tests to assess your preparation and improve time management skills.'\n",
      "Example 6: 'Take care of your physical and mental health by getting enough sleep, eating well, and taking breaks to avoid burnout.'\n"
     ]
    }
   ],
   "source": [
    "prompt = \"\"\"\n",
    "How can I effectively prepare for my board exams?\n",
    "Example 1: 'Divide the syllabus into smaller parts and focus on one section at a time.'\n",
    "Example 2: 'Review past papers to get familiar with the exam pattern.'\n",
    "\"\"\"\n",
    "\n",
    "response = chatModel.invoke(prompt)\n",
    "\n",
    "study_schedule = response.content\n",
    "print(study_schedule)"
   ]
  },
  {
   "cell_type": "code",
   "execution_count": 8,
   "metadata": {},
   "outputs": [
    {
     "name": "stdout",
     "output_type": "stream",
     "text": [
      "| Steps to Prepare for Board Exams in 2 Days |\n",
      "\n",
      "| Step | Maths | Physics | Chemistry | Computer |\n",
      "|------|-------|---------|-----------|---------|\n",
      "| 1    | Review key concepts and formulas  | Review key concepts and formulas  | Review key concepts and formulas  | Review key concepts and terminology |\n",
      "| 2    | Practice solving sample problems  | Practice solving sample problems  | Practice solving sample problems  | Practice coding and problem-solving |\n",
      "| 3    | Focus on understanding difficult topics  | Focus on understanding difficult topics  | Focus on understanding difficult topics  | Focus on understanding programming concepts |\n",
      "| 4    | Create a study schedule and stick to it  | Create a study schedule and stick to it  | Create a study schedule and stick to it  | Create a study schedule and stick to it |\n",
      "| 5    | Get plenty of rest and stay hydrated  | Get plenty of rest and stay hydrated  | Get plenty of rest and stay hydrated  | Get plenty of rest and stay hydrated |\n",
      "| 6    | Review previous exam papers for practice  | Review previous exam papers for practice  | Review previous exam papers for practice  | Review previous coding assignments for practice |\n"
     ]
    }
   ],
   "source": [
    "prompt = \"\"\"\n",
    "What steps should I take to prepare borad exam you have to give fore maths , physics , chemisty in 2 days adn also give in computer plan give in tabular format\n",
    "\n",
    "\"\"\"\n",
    "response = chatModel.invoke(prompt)\n",
    "\n",
    "study_schedule = response.content\n",
    "print(study_schedule)"
   ]
  },
  {
   "cell_type": "code",
   "execution_count": 5,
   "metadata": {},
   "outputs": [
    {
     "name": "stdout",
     "output_type": "stream",
     "text": [
      "The End\n"
     ]
    }
   ],
   "source": [
    "print(\"The End\")"
   ]
  }
 ],
 "metadata": {
  "kernelspec": {
   "display_name": "Python 3",
   "language": "python",
   "name": "python3"
  },
  "language_info": {
   "codemirror_mode": {
    "name": "ipython",
    "version": 3
   },
   "file_extension": ".py",
   "mimetype": "text/x-python",
   "name": "python",
   "nbconvert_exporter": "python",
   "pygments_lexer": "ipython3",
   "version": "3.11.0"
  }
 },
 "nbformat": 4,
 "nbformat_minor": 2
}
