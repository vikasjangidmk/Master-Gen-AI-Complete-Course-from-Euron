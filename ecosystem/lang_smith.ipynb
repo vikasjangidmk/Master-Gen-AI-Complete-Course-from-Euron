{
 "cells": [
  {
   "cell_type": "code",
   "execution_count": 1,
   "metadata": {},
   "outputs": [],
   "source": [
    "import os\n",
    "from langchain_openai import ChatOpenAI\n",
    "from langchain_core.prompts import ChatPromptTemplate\n",
    "from langchain_core.output_parsers import StrOutputParser\n",
    "from dotenv import load_dotenv"
   ]
  },
  {
   "cell_type": "code",
   "execution_count": 2,
   "metadata": {},
   "outputs": [],
   "source": [
    "load_dotenv()\n",
    "\n",
    "os.environ[\"OPENAI_API_KEY\"]=os.getenv(\"OPENAI_API_KEY\")\n",
    "os.environ[\"LANGCHAIN_TRACING_V2\"]=\"true\"\n",
    "os.environ[\"LANGCHAIN_API_KEY\"]=os.getenv(\"LANGCHAIN_API_KEY\")"
   ]
  },
  {
   "cell_type": "code",
   "execution_count": 3,
   "metadata": {},
   "outputs": [],
   "source": [
    "prompt=ChatPromptTemplate.from_messages(\n",
    "    [\n",
    "        (\"system\",\"You are a helpful assistant. Please resposne to the user request only based on the given context\"),\n",
    "        (\"user\",\"Question:{question}\\nContext:{context}\")\n",
    "\n",
    "\n",
    "    ]\n",
    ")"
   ]
  },
  {
   "cell_type": "code",
   "execution_count": 4,
   "metadata": {},
   "outputs": [],
   "source": [
    "model=ChatOpenAI(model=\"gpt-3.5-turbo\") \n",
    " \n",
    "output_parser=StrOutputParser()"
   ]
  },
  {
   "cell_type": "code",
   "execution_count": 5,
   "metadata": {},
   "outputs": [],
   "source": [
    "chain= prompt| model | output_parser"
   ]
  },
  {
   "cell_type": "code",
   "execution_count": 6,
   "metadata": {},
   "outputs": [],
   "source": [
    "\n",
    "\n",
    "question=\"give the summary of that context\"\n",
    "\n",
    "\n",
    "context=\"\"\" \n",
    "\n",
    "A dragon is a magical animal, an animal that is not real. However, we find stories of dragons in all cultures around the world. Dragons can breathe fire and fly, and they like to eat people. Dragons like to collect treasure, gold and jewels, and hide it in their home. In the TV series Game of Thrones, Daenerys had several dragons.\n",
    "\n",
    "When you tell the future, you say what is going to happen in the future. People tell the future in many ways. Some people look at the lines on your hand to tell your future. Some people use tarot cards to tell the future. Personally, I don’t believe that anyone can tell the future.\n",
    "\n",
    "\"\"\""
   ]
  },
  {
   "cell_type": "code",
   "execution_count": 7,
   "metadata": {},
   "outputs": [
    {
     "name": "stdout",
     "output_type": "stream",
     "text": [
      "Summary:\n",
      "\n",
      "The context discusses the concept of dragons as magical creatures found in various cultures. Dragons are described as creatures that can breathe fire, fly, and have a penchant for collecting treasure. It also mentions the TV series Game of Thrones, where a character named Daenerys had dragons. Additionally, the concept of telling the future using methods like reading hand lines or tarot cards is mentioned, with the writer expressing skepticism about the ability to predict the future.\n"
     ]
    }
   ],
   "source": [
    "print(chain.invoke({\"question\":question,\"context\":context}))"
   ]
  },
  {
   "cell_type": "code",
   "execution_count": 8,
   "metadata": {},
   "outputs": [],
   "source": [
    "\n",
    "\n",
    "#question=\"what i sfragon here \"\n",
    "\n",
    "\n",
    "#context=\"\"\" \n",
    "\n",
    "#A dragon is a magical animal, an animal that is not real. However, we find stories of dragons in all cultures around the world. Dragons can breathe fire and fly, and they like to eat people. Dragons like to collect treasure, gold and jewels, and hide it in their home. In the TV series Game of Thrones, Daenerys had several dragons.\n",
    "\n",
    "#When you tell the future, you say what is going to happen in the future. People tell the future in many ways. Some people look at the lines on your hand to tell your future. Some people use tarot cards to tell the future. Personally, I don’t believe that anyone can tell the future.\n",
    "\n",
    "#\"\"\""
   ]
  },
  {
   "cell_type": "code",
   "execution_count": 9,
   "metadata": {},
   "outputs": [],
   "source": [
    "#print(chain.invoke({\"question\":question,\"context\":context}))\n"
   ]
  },
  {
   "cell_type": "code",
   "execution_count": 10,
   "metadata": {},
   "outputs": [
    {
     "name": "stdout",
     "output_type": "stream",
     "text": [
      "The End\n"
     ]
    }
   ],
   "source": [
    "print(\"The End\")"
   ]
  }
 ],
 "metadata": {
  "kernelspec": {
   "display_name": "Python 3",
   "language": "python",
   "name": "python3"
  },
  "language_info": {
   "codemirror_mode": {
    "name": "ipython",
    "version": 3
   },
   "file_extension": ".py",
   "mimetype": "text/x-python",
   "name": "python",
   "nbconvert_exporter": "python",
   "pygments_lexer": "ipython3",
   "version": "3.11.0"
  }
 },
 "nbformat": 4,
 "nbformat_minor": 2
}
